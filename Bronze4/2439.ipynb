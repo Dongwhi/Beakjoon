{
 "cells": [
  {
   "cell_type": "markdown",
   "id": "fa65c4ee",
   "metadata": {},
   "source": [
    "문제\n",
    "첫째 줄에는 별 1개, 둘째 줄에는 별 2개, N번째 줄에는 별 N개를 찍는 문제\n",
    "\n",
    "하지만, 오른쪽을 기준으로 정렬한 별(예제 참고)을 출력하시오.\n",
    "\n",
    "입력\n",
    "첫째 줄에 N(1 ≤ N ≤ 100)이 주어진다.\n",
    "\n",
    "출력\n",
    "첫째 줄부터 N번째 줄까지 차례대로 별을 출력한다."
   ]
  },
  {
   "cell_type": "code",
   "execution_count": 6,
   "id": "647e4d61",
   "metadata": {},
   "outputs": [
    {
     "name": "stdout",
     "output_type": "stream",
     "text": [
      "10\n",
      "['    ']\n",
      "['    ', '    ']\n",
      "['    ', '    ', '    ']\n",
      "['    ', '    ', '    ', '    ']\n",
      "['    ', '    ', '    ', '    ', '    ']\n",
      "['    ', '    ', '    ', '    ', '    ', '    ']\n",
      "['    ', '    ', '    ', '    ', '    ', '    ', '    ']\n",
      "['    ', '    ', '    ', '    ', '    ', '    ', '    ', '    ']\n",
      "['    ', '    ', '    ', '    ', '    ', '    ', '    ', '    ', '    ']\n",
      "['    ', '    ', '    ', '    ', '    ', '    ', '    ', '    ', '    ', '    ']\n",
      "['★']\n",
      "['★']\n",
      "['★']\n",
      "['★']\n",
      "['★']\n",
      "['★']\n",
      "['★']\n",
      "['★']\n",
      "['★']\n",
      "['★']\n"
     ]
    }
   ],
   "source": [
    "N = int(input())\n",
    "p = []\n",
    "for i in range(N):\n",
    "    p.append('    ')\n",
    "    print(p)\n",
    "for j in range(N):\n",
    "    p[-j:]='★'\n",
    "    print(p)"
   ]
  },
  {
   "cell_type": "code",
   "execution_count": 16,
   "id": "d9041600",
   "metadata": {},
   "outputs": [
    {
     "name": "stdout",
     "output_type": "stream",
     "text": [
      "10\n",
      "                  ★\n",
      "                ★★\n",
      "              ★★★\n",
      "            ★★★★\n",
      "          ★★★★★\n",
      "        ★★★★★★\n",
      "      ★★★★★★★\n",
      "    ★★★★★★★★\n",
      "  ★★★★★★★★★\n",
      "★★★★★★★★★★\n"
     ]
    }
   ],
   "source": [
    "N = int(input())\n",
    "for i in range(1, N+1):\n",
    "    print(' '*2*(N-i), '★'*i, sep='')"
   ]
  },
  {
   "cell_type": "code",
   "execution_count": 18,
   "id": "0d7c6a29",
   "metadata": {},
   "outputs": [
    {
     "name": "stdout",
     "output_type": "stream",
     "text": [
      "10\n",
      "         *\n",
      "        **\n",
      "       ***\n",
      "      ****\n",
      "     *****\n",
      "    ******\n",
      "   *******\n",
      "  ********\n",
      " *********\n",
      "**********\n"
     ]
    }
   ],
   "source": [
    "N = int(input())\n",
    "for i in range(1, N+1):\n",
    "    print(' '*(N-i), '*'*i, sep='')"
   ]
  }
 ],
 "metadata": {
  "kernelspec": {
   "display_name": "Python 3 (ipykernel)",
   "language": "python",
   "name": "python3"
  },
  "language_info": {
   "codemirror_mode": {
    "name": "ipython",
    "version": 3
   },
   "file_extension": ".py",
   "mimetype": "text/x-python",
   "name": "python",
   "nbconvert_exporter": "python",
   "pygments_lexer": "ipython3",
   "version": "3.9.7"
  }
 },
 "nbformat": 4,
 "nbformat_minor": 5
}
