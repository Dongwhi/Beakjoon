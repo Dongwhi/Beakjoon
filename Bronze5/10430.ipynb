{
 "cells": [
  {
   "cell_type": "markdown",
   "id": "4e5b938f",
   "metadata": {},
   "source": [
    "(A+B)%C는 ((A%C) + (B%C))%C 와 같을까?\n",
    "\n",
    "(A×B)%C는 ((A%C) × (B%C))%C 와 같을까?\n",
    "\n",
    "세 수 A, B, C가 주어졌을 때, 위의 네 가지 값을 구하는 프로그램을 작성하시오."
   ]
  },
  {
   "cell_type": "markdown",
   "id": "ba9a5314",
   "metadata": {},
   "source": [
    "첫째 줄에 (A+B)%C, 둘째 줄에 ((A%C) + (B%C))%C, 셋째 줄에 (A×B)%C, 넷째 줄에 ((A%C) × (B%C))%C를 출력한다."
   ]
  },
  {
   "cell_type": "code",
   "execution_count": 1,
   "id": "be8efd64",
   "metadata": {},
   "outputs": [
    {
     "ename": "SyntaxError",
     "evalue": "unexpected character after line continuation character (Temp/ipykernel_115520/2606669996.py, line 2)",
     "output_type": "error",
     "traceback": [
      "\u001b[1;36m  File \u001b[1;32m\"C:\\Users\\82102\\AppData\\Local\\Temp/ipykernel_115520/2606669996.py\"\u001b[1;36m, line \u001b[1;32m2\u001b[0m\n\u001b[1;33m    print((a+b)%c \\n ((a%c)+(b%c))%c \\n (a*b)%c \\n ((a%c)*(b%c))%c)\u001b[0m\n\u001b[1;37m                                                                  ^\u001b[0m\n\u001b[1;31mSyntaxError\u001b[0m\u001b[1;31m:\u001b[0m unexpected character after line continuation character\n"
     ]
    }
   ],
   "source": [
    "a, b, c = map(float, input().split())\n",
    "print((a+b)%c \\n ((a%c)+(b%c))%c \\n (a*b)%c \\n ((a%c)*(b%c))%c)"
   ]
  },
  {
   "cell_type": "code",
   "execution_count": 3,
   "id": "22d9bebd",
   "metadata": {},
   "outputs": [
    {
     "ename": "SyntaxError",
     "evalue": "unexpected character after line continuation character (Temp/ipykernel_115520/1956823567.py, line 2)",
     "output_type": "error",
     "traceback": [
      "\u001b[1;36m  File \u001b[1;32m\"C:\\Users\\82102\\AppData\\Local\\Temp/ipykernel_115520/1956823567.py\"\u001b[1;36m, line \u001b[1;32m2\u001b[0m\n\u001b[1;33m    print(((a+b)%c)\\n(((a%c)+(b%c))%c)\\n((a*b)%c)\\n(((a%c)*(b%c))%c))\u001b[0m\n\u001b[1;37m                                                                    ^\u001b[0m\n\u001b[1;31mSyntaxError\u001b[0m\u001b[1;31m:\u001b[0m unexpected character after line continuation character\n"
     ]
    }
   ],
   "source": [
    "a, b, c = map(float, input().split())\n",
    "print(((a+b)%c)\\n(((a%c)+(b%c))%c)\\n((a*b)%c)\\n(((a%c)*(b%c))%c))"
   ]
  },
  {
   "cell_type": "code",
   "execution_count": 4,
   "id": "621fa523",
   "metadata": {},
   "outputs": [
    {
     "name": "stdout",
     "output_type": "stream",
     "text": [
      "2 2 3\n",
      "1.0 1.0 1.0 1.0\n"
     ]
    }
   ],
   "source": [
    "a, b, c = map(float, input().split())\n",
    "print(((a+b)%c), (((a%c)+(b%c))%c), ((a*b)%c), (((a%c)*(b%c))%c))"
   ]
  },
  {
   "cell_type": "code",
   "execution_count": 6,
   "id": "000a04cf",
   "metadata": {},
   "outputs": [
    {
     "name": "stdout",
     "output_type": "stream",
     "text": [
      "2 2 3\n",
      "1.0\n",
      "1.0\n",
      "1.0\n",
      "1.0\n"
     ]
    }
   ],
   "source": [
    "a, b, c = map(float, input().split())\n",
    "print(((a+b)%c), (((a%c)+(b%c))%c), ((a*b)%c), (((a%c)*(b%c))%c), sep='\\n')"
   ]
  },
  {
   "cell_type": "code",
   "execution_count": 9,
   "id": "5f543e50",
   "metadata": {},
   "outputs": [
    {
     "name": "stdout",
     "output_type": "stream",
     "text": [
      "5 8 4\n",
      "1\n",
      "1\n",
      "0\n",
      "0\n"
     ]
    }
   ],
   "source": [
    "a, b, c = map(int, input().split())\n",
    "print(((a+b)%c), (((a%c)+(b%c))%c), ((a*b)%c), (((a%c)*(b%c))%c), sep='\\n')"
   ]
  }
 ],
 "metadata": {
  "kernelspec": {
   "display_name": "Python 3 (ipykernel)",
   "language": "python",
   "name": "python3"
  },
  "language_info": {
   "codemirror_mode": {
    "name": "ipython",
    "version": 3
   },
   "file_extension": ".py",
   "mimetype": "text/x-python",
   "name": "python",
   "nbconvert_exporter": "python",
   "pygments_lexer": "ipython3",
   "version": "3.9.7"
  }
 },
 "nbformat": 4,
 "nbformat_minor": 5
}
