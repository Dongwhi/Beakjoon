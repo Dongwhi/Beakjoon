{
 "cells": [
  {
   "cell_type": "markdown",
   "id": "8a60e0ae",
   "metadata": {},
   "source": [
    "문제\n",
    "알파벳 소문자로만 이루어진 단어 S가 주어진다. 각각의 알파벳에 대해서, 단어에 포함되어 있는 경우에는 처음 등장하는 위치를, 포함되어 있지 않은 경우에는 -1을 출력하는 프로그램을 작성하시오.\n",
    "\n",
    "입력\n",
    "첫째 줄에 단어 S가 주어진다. 단어의 길이는 100을 넘지 않으며, 알파벳 소문자로만 이루어져 있다.\n",
    "\n",
    "출력\n",
    "각각의 알파벳에 대해서, a가 처음 등장하는 위치, b가 처음 등장하는 위치, ... z가 처음 등장하는 위치를 공백으로 구분해서 출력한다.\n",
    "\n",
    "만약, 어떤 알파벳이 단어에 포함되어 있지 않다면 -1을 출력한다. 단어의 첫 번째 글자는 0번째 위치이고, 두 번째 글자는 1번째 위치이다."
   ]
  },
  {
   "cell_type": "code",
   "execution_count": 11,
   "id": "3006cafa",
   "metadata": {},
   "outputs": [
    {
     "name": "stdout",
     "output_type": "stream",
     "text": [
      "awlidhalskd\n",
      "0 -1 -1 4 -1 -1 -1 5 3 -1 9 2 -1 -1 -1 -1 -1 -1 8 -1 -1 -1 1 -1 -1 -1 "
     ]
    }
   ],
   "source": [
    "#find 함수 사용했을 때\n",
    "alphabet = \"abcdefghijklmnopqrstuvwxyz\"\n",
    "S = input()\n",
    "\n",
    "for i in alphabet:\n",
    "    print(S.find(i), end=' ')"
   ]
  },
  {
   "cell_type": "code",
   "execution_count": null,
   "id": "ed7924b7",
   "metadata": {},
   "outputs": [],
   "source": [
    "#find 함수 안사용했을 때"
   ]
  },
  {
   "cell_type": "code",
   "execution_count": 3,
   "id": "3a540ca7",
   "metadata": {},
   "outputs": [
    {
     "data": {
      "text/plain": [
       "[-1,\n",
       " -1,\n",
       " -1,\n",
       " -1,\n",
       " -1,\n",
       " -1,\n",
       " -1,\n",
       " -1,\n",
       " -1,\n",
       " -1,\n",
       " -1,\n",
       " -1,\n",
       " -1,\n",
       " -1,\n",
       " -1,\n",
       " -1,\n",
       " -1,\n",
       " -1,\n",
       " -1,\n",
       " -1,\n",
       " -1,\n",
       " -1,\n",
       " -1,\n",
       " -1,\n",
       " -1,\n",
       " -1]"
      ]
     },
     "execution_count": 3,
     "metadata": {},
     "output_type": "execute_result"
    }
   ],
   "source": [
    "hamberger = []\n",
    "for i in range(26):\n",
    "    hamberger.append(-1)\n",
    "hamberger"
   ]
  },
  {
   "cell_type": "code",
   "execution_count": 10,
   "id": "35bc7ebf",
   "metadata": {},
   "outputs": [
    {
     "name": "stdout",
     "output_type": "stream",
     "text": [
      "akwdhhsuagdk\n",
      "1 -1 -1 4 -1 -1 10 5 -1 -1 2 -1 -1 -1 -1 -1 -1 -1 7 -1 8 -1 3 -1 -1 -1\n"
     ]
    }
   ],
   "source": [
    "S = list(input())\n",
    "alpha = ['a', 'b', 'c', 'd', 'e', 'f', 'g', 'h', 'i', 'j', 'k', 'l', 'm', 'n', 'o', 'p', 'q', 'r', 's', 't', 'u', 'v', 'w', 'x', 'y', 'z']\n",
    "hamberger = []\n",
    "for i in range(26):\n",
    "    hamberger.append(-1)\n",
    "    for j in range(len(S)):\n",
    "        if S[j] == alpha[i]:\n",
    "            hamberger[i] = j\n",
    "            break\n",
    "print(*hamberger)"
   ]
  }
 ],
 "metadata": {
  "kernelspec": {
   "display_name": "Python 3 (ipykernel)",
   "language": "python",
   "name": "python3"
  },
  "language_info": {
   "codemirror_mode": {
    "name": "ipython",
    "version": 3
   },
   "file_extension": ".py",
   "mimetype": "text/x-python",
   "name": "python",
   "nbconvert_exporter": "python",
   "pygments_lexer": "ipython3",
   "version": "3.9.7"
  }
 },
 "nbformat": 4,
 "nbformat_minor": 5
}
