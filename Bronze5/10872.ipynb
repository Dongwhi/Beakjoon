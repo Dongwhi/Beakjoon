{
 "cells": [
  {
   "cell_type": "markdown",
   "id": "6533e44e",
   "metadata": {},
   "source": [
    "문제\n",
    "0보다 크거나 같은 정수 N이 주어진다. 이때, N!을 출력하는 프로그램을 작성하시오.\n",
    "\n",
    "입력\n",
    "첫째 줄에 정수 N(0 ≤ N ≤ 12)이 주어진다.\n",
    "\n",
    "출력\n",
    "첫째 줄에 N!을 출력한다."
   ]
  },
  {
   "cell_type": "code",
   "execution_count": 6,
   "id": "577ac627",
   "metadata": {},
   "outputs": [
    {
     "name": "stdout",
     "output_type": "stream",
     "text": [
      "4\n",
      "24\n"
     ]
    }
   ],
   "source": [
    "N = int(input())\n",
    "mul = 1\n",
    "while N > 0:\n",
    "    mul = mul*N\n",
    "    N = N-1\n",
    "print(mul)"
   ]
  }
 ],
 "metadata": {
  "kernelspec": {
   "display_name": "Python 3 (ipykernel)",
   "language": "python",
   "name": "python3"
  },
  "language_info": {
   "codemirror_mode": {
    "name": "ipython",
    "version": 3
   },
   "file_extension": ".py",
   "mimetype": "text/x-python",
   "name": "python",
   "nbconvert_exporter": "python",
   "pygments_lexer": "ipython3",
   "version": "3.9.7"
  }
 },
 "nbformat": 4,
 "nbformat_minor": 5
}
