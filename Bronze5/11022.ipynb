{
 "cells": [
  {
   "cell_type": "markdown",
   "id": "d6c1075b",
   "metadata": {},
   "source": [
    "문제\n",
    "두 정수 A와 B를 입력받은 다음, A+B를 출력하는 프로그램을 작성하시오.\n",
    "\n",
    "입력\n",
    "첫째 줄에 테스트 케이스의 개수 T가 주어진다.\n",
    "\n",
    "각 테스트 케이스는 한 줄로 이루어져 있으며, 각 줄에 A와 B가 주어진다. (0 < A, B < 10)\n",
    "\n",
    "출력\n",
    "각 테스트 케이스마다 \"Case #x: A + B = C\" 형식으로 출력한다. x는 테스트 케이스 번호이고 1부터 시작하며, C는 A+B이다."
   ]
  },
  {
   "cell_type": "code",
   "execution_count": 1,
   "id": "ab4ef7c1",
   "metadata": {},
   "outputs": [
    {
     "name": "stdout",
     "output_type": "stream",
     "text": [
      "5\n",
      "11 46\n",
      "Case #1: 11 + 46 = 57\n",
      "84 56\n",
      "Case #2: 84 + 56 = 140\n",
      "51 20\n",
      "Case #3: 51 + 20 = 71\n",
      "54 89\n",
      "Case #4: 54 + 89 = 143\n",
      "48945465 8646508649840\n",
      "Case #5: 48945465 + 8646508649840 = 8646557595305\n"
     ]
    }
   ],
   "source": [
    "N = int(input())\n",
    "for i in range(N):\n",
    "    a, b = map(int, input().split())\n",
    "    print('Case #%d: %d + %d =' % ((i+1), a, b), a+b)"
   ]
  }
 ],
 "metadata": {
  "kernelspec": {
   "display_name": "Python 3 (ipykernel)",
   "language": "python",
   "name": "python3"
  },
  "language_info": {
   "codemirror_mode": {
    "name": "ipython",
    "version": 3
   },
   "file_extension": ".py",
   "mimetype": "text/x-python",
   "name": "python",
   "nbconvert_exporter": "python",
   "pygments_lexer": "ipython3",
   "version": "3.9.7"
  }
 },
 "nbformat": 4,
 "nbformat_minor": 5
}
