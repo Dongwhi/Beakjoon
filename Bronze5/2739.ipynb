{
 "cells": [
  {
   "cell_type": "markdown",
   "id": "b27834a7",
   "metadata": {},
   "source": [
    "N을 입력받은 뒤, 구구단 N단을 출력하는 프로그램을 작성하시오. 출력 형식에 맞춰서 출력하면 된다."
   ]
  },
  {
   "cell_type": "code",
   "execution_count": 7,
   "id": "8b817a53",
   "metadata": {},
   "outputs": [
    {
     "ename": "SyntaxError",
     "evalue": "invalid syntax (Temp/ipykernel_109924/3009649595.py, line 3)",
     "output_type": "error",
     "traceback": [
      "\u001b[1;36m  File \u001b[1;32m\"C:\\Users\\82102\\AppData\\Local\\Temp/ipykernel_109924/3009649595.py\"\u001b[1;36m, line \u001b[1;32m3\u001b[0m\n\u001b[1;33m    'N * 2 =', N*2\u001b[0m\n\u001b[1;37m    ^\u001b[0m\n\u001b[1;31mSyntaxError\u001b[0m\u001b[1;31m:\u001b[0m invalid syntax\n"
     ]
    }
   ],
   "source": [
    "N = int(input())\n",
    "print('N * 1 =', N*1\n",
    "     'N * 2 =', N*2\n",
    "     'N * 3 =' N*3\n",
    "     'N * 4 =' N*4\n",
    "     'N * 5 =' N*5\n",
    "     'N * 6 =' N*6\n",
    "     'N * 7 =' N*7\n",
    "     'N * 8 =' N*8\n",
    "     'N * 9 =' N*9, sep = '\\n')"
   ]
  },
  {
   "cell_type": "code",
   "execution_count": 5,
   "id": "e49c39e4",
   "metadata": {},
   "outputs": [
    {
     "name": "stdout",
     "output_type": "stream",
     "text": [
      "3\n",
      "N * 1 = 3\n"
     ]
    }
   ],
   "source": [
    "N = int(input())\n",
    "print('N * 1 =', N*1)"
   ]
  },
  {
   "cell_type": "code",
   "execution_count": 6,
   "id": "e511d63d",
   "metadata": {},
   "outputs": [
    {
     "ename": "SyntaxError",
     "evalue": "invalid syntax (Temp/ipykernel_109924/1373531430.py, line 3)",
     "output_type": "error",
     "traceback": [
      "\u001b[1;36m  File \u001b[1;32m\"C:\\Users\\82102\\AppData\\Local\\Temp/ipykernel_109924/1373531430.py\"\u001b[1;36m, line \u001b[1;32m3\u001b[0m\n\u001b[1;33m    'N * 2 =', N*2)\u001b[0m\n\u001b[1;37m    ^\u001b[0m\n\u001b[1;31mSyntaxError\u001b[0m\u001b[1;31m:\u001b[0m invalid syntax\n"
     ]
    }
   ],
   "source": [
    "N = int(input())\n",
    "print('N * 1 =', N*1\n",
    "     'N * 2 =', N*2)"
   ]
  },
  {
   "cell_type": "code",
   "execution_count": 8,
   "id": "de4d7355",
   "metadata": {},
   "outputs": [
    {
     "name": "stdout",
     "output_type": "stream",
     "text": [
      "2\n",
      "N * 1 = 2 N * 2 = 4\n"
     ]
    }
   ],
   "source": [
    "N = int(input())\n",
    "print('N * 1 =', N*1,\n",
    "     'N * 2 =', N*2)"
   ]
  },
  {
   "cell_type": "code",
   "execution_count": 11,
   "id": "831f2270",
   "metadata": {},
   "outputs": [
    {
     "name": "stdout",
     "output_type": "stream",
     "text": [
      "3\n",
      "N * 1 =\n",
      "3\n",
      "N * 2 =\n",
      "6\n",
      "N * 3 =\n",
      "9\n",
      "N * 4 =\n",
      "12\n",
      "N * 5 =\n",
      "15\n",
      "N * 6 =\n",
      "18\n",
      "N * 7 =\n",
      "21\n",
      "N * 8 =\n",
      "24\n",
      "N * 9 =\n",
      "27\n"
     ]
    }
   ],
   "source": [
    "N = int(input())\n",
    "print('N * 1 =', N*1,\n",
    "     'N * 2 =', N*2,\n",
    "     'N * 3 =', N*3,\n",
    "     'N * 4 =', N*4,\n",
    "     'N * 5 =', N*5,\n",
    "     'N * 6 =', N*6,\n",
    "     'N * 7 =', N*7,\n",
    "     'N * 8 =', N*8,\n",
    "     'N * 9 =', N*9, sep = '\\n')"
   ]
  },
  {
   "cell_type": "code",
   "execution_count": 12,
   "id": "107545a3",
   "metadata": {},
   "outputs": [
    {
     "name": "stdout",
     "output_type": "stream",
     "text": [
      "3\n",
      "N * 1 =\n",
      "3\n",
      "N * 2 =\n",
      "6\n",
      "N * 3 =\n",
      "9\n",
      "N * 4 =\n",
      "12\n",
      "N * 5 =\n",
      "15\n",
      "N * 6 =\n",
      "18\n",
      "N * 7 =\n",
      "21\n",
      "N * 8 =\n",
      "24\n",
      "N * 9 =\n",
      "27\n"
     ]
    }
   ],
   "source": [
    "N = int(input())\n",
    "print('N * 1 =', (N*1),\n",
    "     'N * 2 =', N*2,\n",
    "     'N * 3 =', N*3,\n",
    "     'N * 4 =', N*4,\n",
    "     'N * 5 =', N*5,\n",
    "     'N * 6 =', N*6,\n",
    "     'N * 7 =', N*7,\n",
    "     'N * 8 =', N*8,\n",
    "     'N * 9 =', N*9, sep = '\\n')"
   ]
  },
  {
   "cell_type": "code",
   "execution_count": 15,
   "id": "4d1b7157",
   "metadata": {},
   "outputs": [
    {
     "ename": "SyntaxError",
     "evalue": "expression cannot contain assignment, perhaps you meant \"==\"? (Temp/ipykernel_109924/888630340.py, line 2)",
     "output_type": "error",
     "traceback": [
      "\u001b[1;36m  File \u001b[1;32m\"C:\\Users\\82102\\AppData\\Local\\Temp/ipykernel_109924/888630340.py\"\u001b[1;36m, line \u001b[1;32m2\u001b[0m\n\u001b[1;33m    print(N * 1 =, N*1)\u001b[0m\n\u001b[1;37m          ^\u001b[0m\n\u001b[1;31mSyntaxError\u001b[0m\u001b[1;31m:\u001b[0m expression cannot contain assignment, perhaps you meant \"==\"?\n"
     ]
    }
   ],
   "source": [
    "N = int(input())\n",
    "print(N * 1 =, N*1)"
   ]
  },
  {
   "cell_type": "code",
   "execution_count": 19,
   "id": "eda068f3",
   "metadata": {},
   "outputs": [
    {
     "ename": "SyntaxError",
     "evalue": "invalid syntax (Temp/ipykernel_109924/499822412.py, line 2)",
     "output_type": "error",
     "traceback": [
      "\u001b[1;36m  File \u001b[1;32m\"C:\\Users\\82102\\AppData\\Local\\Temp/ipykernel_109924/499822412.py\"\u001b[1;36m, line \u001b[1;32m2\u001b[0m\n\u001b[1;33m    print('N * 1 = 'int(N*1))\u001b[0m\n\u001b[1;37m                    ^\u001b[0m\n\u001b[1;31mSyntaxError\u001b[0m\u001b[1;31m:\u001b[0m invalid syntax\n"
     ]
    }
   ],
   "source": [
    "N = input()\n",
    "print('N * 1 = 'int(N*1))"
   ]
  },
  {
   "cell_type": "code",
   "execution_count": 22,
   "id": "786fb669",
   "metadata": {},
   "outputs": [
    {
     "name": "stdout",
     "output_type": "stream",
     "text": [
      "3\n",
      "3 * 1 = 3\n"
     ]
    }
   ],
   "source": [
    "N = input()\n",
    "print(N, '* 1 =', N*1)"
   ]
  },
  {
   "cell_type": "code",
   "execution_count": 24,
   "id": "a69c4368",
   "metadata": {},
   "outputs": [
    {
     "name": "stdout",
     "output_type": "stream",
     "text": [
      "3\n",
      "3 * 1 = 3 3 * 2 = 33 3 * 3 = 333 3 * 4 = 3333 3 * 5 = 33333 3 * 6 = 333333 3 * 7 = 3333333 3 * 8 = 33333333 3 * 9 = 333333333\n"
     ]
    }
   ],
   "source": [
    "N = input()\n",
    "print(N, '* 1 =', N*1,\n",
    "     N, '* 2 =', N*2,\n",
    "     N, '* 3 =', N*3,\n",
    "     N, '* 4 =', N*4,\n",
    "     N, '* 5 =', N*5,\n",
    "     N, '* 6 =', N*6,\n",
    "     N, '* 7 =', N*7,\n",
    "     N, '* 8 =', N*8,\n",
    "     N, '* 9 =', N*9)"
   ]
  },
  {
   "cell_type": "code",
   "execution_count": 26,
   "id": "92bebf1e",
   "metadata": {},
   "outputs": [
    {
     "name": "stdout",
     "output_type": "stream",
     "text": [
      "3\n",
      "3 * 1 = 3 3 * 2 = 6 3 * 3 = 9 3 * 4 = 12 3 * 5 = 15 3 * 6 = 18 3 * 7 = 21 3 * 8 = 24 3 * 9 = 27\n"
     ]
    }
   ],
   "source": [
    "N = input()\n",
    "print(N, '* 1 =', int(N)*1,\n",
    "     N, '* 2 =', int(N)*2,\n",
    "     N, '* 3 =', int(N)*3,\n",
    "     N, '* 4 =', int(N)*4,\n",
    "     N, '* 5 =', int(N)*5,\n",
    "     N, '* 6 =', int(N)*6,\n",
    "     N, '* 7 =', int(N)*7,\n",
    "     N, '* 8 =', int(N)*8,\n",
    "     N, '* 9 =', int(N)*9)"
   ]
  },
  {
   "cell_type": "code",
   "execution_count": 29,
   "id": "e3cb48a5",
   "metadata": {},
   "outputs": [
    {
     "name": "stdout",
     "output_type": "stream",
     "text": [
      "3\n",
      "3 * 1 = 3\n",
      "3 * 2 = 6\n",
      "3 * 3 = 9\n",
      "3 * 4 = 12\n",
      "3 * 5 = 15\n",
      "3 * 6 = 18\n",
      "3 * 7 = 21\n",
      "3 * 8 = 24\n",
      "3 * 9 = 27\n"
     ]
    }
   ],
   "source": [
    "N = input()\n",
    "for i in range(1, 10):\n",
    "    print(N, '*', i, '=', int(N)*i)"
   ]
  }
 ],
 "metadata": {
  "kernelspec": {
   "display_name": "Python 3 (ipykernel)",
   "language": "python",
   "name": "python3"
  },
  "language_info": {
   "codemirror_mode": {
    "name": "ipython",
    "version": 3
   },
   "file_extension": ".py",
   "mimetype": "text/x-python",
   "name": "python",
   "nbconvert_exporter": "python",
   "pygments_lexer": "ipython3",
   "version": "3.9.7"
  }
 },
 "nbformat": 4,
 "nbformat_minor": 5
}
