{
 "cells": [
  {
   "cell_type": "markdown",
   "id": "c3f6ca85",
   "metadata": {},
   "source": [
    "문제\n",
    "9개의 서로 다른 자연수가 주어질 때, 이들 중 최댓값을 찾고 그 최댓값이 몇 번째 수인지를 구하는 프로그램을 작성하시오.\n",
    "\n",
    "예를 들어, 서로 다른 9개의 자연수\n",
    "\n",
    "3, 29, 38, 12, 57, 74, 40, 85, 61\n",
    "\n",
    "이 주어지면, 이들 중 최댓값은 85이고, 이 값은 8번째 수이다.\n",
    "\n",
    "입력\n",
    "첫째 줄부터 아홉 번째 줄까지 한 줄에 하나의 자연수가 주어진다. 주어지는 자연수는 100 보다 작다.\n",
    "\n",
    "출력\n",
    "첫째 줄에 최댓값을 출력하고, 둘째 줄에 최댓값이 몇 번째 수인지를 출력한다."
   ]
  },
  {
   "cell_type": "code",
   "execution_count": 7,
   "id": "85d05af6",
   "metadata": {},
   "outputs": [
    {
     "name": "stdout",
     "output_type": "stream",
     "text": [
      "12 53 48\n",
      "53\n",
      "2\n"
     ]
    }
   ],
   "source": [
    "S = list(map(int, input().split()))\n",
    "N = max(S)\n",
    "print(N)\n",
    "print(S.index(N)+1)"
   ]
  },
  {
   "cell_type": "code",
   "execution_count": null,
   "id": "860a0014",
   "metadata": {},
   "outputs": [],
   "source": [
    "S = []\n",
    "while True:\n",
    "    try:\n",
    "        S.append(int(input()))\n",
    "    except:\n",
    "        break\n",
    "N = max(S)\n",
    "print(N)\n",
    "print(S.index(N)+1)"
   ]
  }
 ],
 "metadata": {
  "kernelspec": {
   "display_name": "Python 3 (ipykernel)",
   "language": "python",
   "name": "python3"
  },
  "language_info": {
   "codemirror_mode": {
    "name": "ipython",
    "version": 3
   },
   "file_extension": ".py",
   "mimetype": "text/x-python",
   "name": "python",
   "nbconvert_exporter": "python",
   "pygments_lexer": "ipython3",
   "version": "3.9.7"
  }
 },
 "nbformat": 4,
 "nbformat_minor": 5
}
