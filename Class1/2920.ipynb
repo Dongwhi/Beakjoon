{
 "cells": [
  {
   "cell_type": "markdown",
   "id": "ba709ccb",
   "metadata": {},
   "source": [
    "문제\n",
    "다장조는 c d e f g a b C, 총 8개 음으로 이루어져있다. 이 문제에서 8개 음은 다음과 같이 숫자로 바꾸어 표현한다. c는 1로, d는 2로, ..., C를 8로 바꾼다.\n",
    "\n",
    "1부터 8까지 차례대로 연주한다면 ascending, 8부터 1까지 차례대로 연주한다면 descending, 둘 다 아니라면 mixed 이다.\n",
    "\n",
    "연주한 순서가 주어졌을 때, 이것이 ascending인지, descending인지, 아니면 mixed인지 판별하는 프로그램을 작성하시오.\n",
    "\n",
    "입력\n",
    "첫째 줄에 8개 숫자가 주어진다. 이 숫자는 문제 설명에서 설명한 음이며, 1부터 8까지 숫자가 한 번씩 등장한다.\n",
    "\n",
    "출력\n",
    "첫째 줄에 ascending, descending, mixed 중 하나를 출력한다."
   ]
  },
  {
   "cell_type": "code",
   "execution_count": 2,
   "id": "6cc3bd58",
   "metadata": {},
   "outputs": [
    {
     "name": "stdout",
     "output_type": "stream",
     "text": [
      "5 4 6 8 6 5 4 6\n",
      "descending\n",
      "ascending\n",
      "ascending\n",
      "descending\n",
      "descending\n",
      "descending\n",
      "ascending\n"
     ]
    }
   ],
   "source": [
    "k = list(map(int, input().split()))\n",
    "for i in range(len(k)-1):\n",
    "    if k[i]<k[i+1]:\n",
    "        print('ascending')\n",
    "    elif k[i]>k[i+1]:\n",
    "        print('descending')\n",
    "    else:\n",
    "        print('mixed')"
   ]
  },
  {
   "cell_type": "code",
   "execution_count": null,
   "id": "f8e7d6c8",
   "metadata": {},
   "outputs": [],
   "source": [
    "k = list(map(int, input().split()))\n",
    "l = 0\n",
    "while l<=len(k):\n",
    "    if n in range(k)\n",
    "        "
   ]
  },
  {
   "cell_type": "code",
   "execution_count": 7,
   "id": "920fa5d5",
   "metadata": {},
   "outputs": [
    {
     "name": "stdout",
     "output_type": "stream",
     "text": [
      "8 7 6 5 4 3 2 1\n",
      "ascending\n"
     ]
    }
   ],
   "source": [
    "k = list(map(int, input().split()))\n",
    "if (k[i]<k[i+1] for i in range(len(k)-1)):\n",
    "    print('ascending')\n",
    "elif (k[i]>k[i+1] for i in range(len(k)-1)):\n",
    "    print('descending')\n",
    "else:\n",
    "    print('mixed')"
   ]
  },
  {
   "cell_type": "code",
   "execution_count": 13,
   "id": "4de705d2",
   "metadata": {},
   "outputs": [
    {
     "name": "stdout",
     "output_type": "stream",
     "text": [
      "1 5 4 6 7 2 8 3\n",
      "mixed\n"
     ]
    }
   ],
   "source": [
    "k = list(map(int, input().split()))\n",
    "if sorted(k) == k:\n",
    "    print('ascending')\n",
    "elif sorted(k, reverse=True)==k:\n",
    "    print('descending')\n",
    "else:\n",
    "    print('mixed')"
   ]
  }
 ],
 "metadata": {
  "kernelspec": {
   "display_name": "Python 3 (ipykernel)",
   "language": "python",
   "name": "python3"
  },
  "language_info": {
   "codemirror_mode": {
    "name": "ipython",
    "version": 3
   },
   "file_extension": ".py",
   "mimetype": "text/x-python",
   "name": "python",
   "nbconvert_exporter": "python",
   "pygments_lexer": "ipython3",
   "version": "3.9.7"
  }
 },
 "nbformat": 4,
 "nbformat_minor": 5
}
