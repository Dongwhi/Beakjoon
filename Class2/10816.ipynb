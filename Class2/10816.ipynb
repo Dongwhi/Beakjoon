{
 "cells": [
  {
   "cell_type": "markdown",
   "id": "3af3f177",
   "metadata": {},
   "source": [
    "문제\n",
    "숫자 카드는 정수 하나가 적혀져 있는 카드이다. 상근이는 숫자 카드 N개를 가지고 있다. 정수 M개가 주어졌을 때, 이 수가 적혀있는 숫자 카드를 상근이가 몇 개 가지고 있는지 구하는 프로그램을 작성하시오.\n",
    "\n",
    "입력\n",
    "첫째 줄에 상근이가 가지고 있는 숫자 카드의 개수 N(1 ≤ N ≤ 500,000)이 주어진다. 둘째 줄에는 숫자 카드에 적혀있는 정수가 주어진다. 숫자 카드에 적혀있는 수는 -10,000,000보다 크거나 같고, 10,000,000보다 작거나 같다.\n",
    "\n",
    "셋째 줄에는 M(1 ≤ M ≤ 500,000)이 주어진다. 넷째 줄에는 상근이가 몇 개 가지고 있는 숫자 카드인지 구해야 할 M개의 정수가 주어지며, 이 수는 공백으로 구분되어져 있다. 이 수도 -10,000,000보다 크거나 같고, 10,000,000보다 작거나 같다.\n",
    "\n",
    "출력\n",
    "첫째 줄에 입력으로 주어진 M개의 수에 대해서, 각 수가 적힌 숫자 카드를 상근이가 몇 개 가지고 있는지를 공백으로 구분해 출력한다."
   ]
  },
  {
   "cell_type": "code",
   "execution_count": 3,
   "id": "ac6a13f0",
   "metadata": {},
   "outputs": [
    {
     "ename": "ValueError",
     "evalue": "invalid literal for int() with base 10: ''",
     "output_type": "error",
     "traceback": [
      "\u001b[1;31m---------------------------------------------------------------------------\u001b[0m",
      "\u001b[1;31mValueError\u001b[0m                                Traceback (most recent call last)",
      "\u001b[1;32m~\\AppData\\Local\\Temp/ipykernel_109740/2845593557.py\u001b[0m in \u001b[0;36m<module>\u001b[1;34m\u001b[0m\n\u001b[0;32m      1\u001b[0m \u001b[1;32mimport\u001b[0m \u001b[0msys\u001b[0m\u001b[1;33m\u001b[0m\u001b[1;33m\u001b[0m\u001b[0m\n\u001b[1;32m----> 2\u001b[1;33m \u001b[0mN\u001b[0m \u001b[1;33m=\u001b[0m \u001b[0mint\u001b[0m\u001b[1;33m(\u001b[0m\u001b[0msys\u001b[0m\u001b[1;33m.\u001b[0m\u001b[0mstdin\u001b[0m\u001b[1;33m.\u001b[0m\u001b[0mreadline\u001b[0m\u001b[1;33m(\u001b[0m\u001b[1;33m)\u001b[0m\u001b[1;33m)\u001b[0m\u001b[1;33m\u001b[0m\u001b[1;33m\u001b[0m\u001b[0m\n\u001b[0m\u001b[0;32m      3\u001b[0m \u001b[0mNnums\u001b[0m \u001b[1;33m=\u001b[0m \u001b[1;33m[\u001b[0m\u001b[0mmap\u001b[0m\u001b[1;33m(\u001b[0m\u001b[0mint\u001b[0m\u001b[1;33m,\u001b[0m \u001b[0msys\u001b[0m\u001b[1;33m.\u001b[0m\u001b[0mstdin\u001b[0m\u001b[1;33m.\u001b[0m\u001b[0mreadline\u001b[0m\u001b[1;33m(\u001b[0m\u001b[1;33m)\u001b[0m\u001b[1;33m.\u001b[0m\u001b[0msplit\u001b[0m\u001b[1;33m(\u001b[0m\u001b[1;33m)\u001b[0m\u001b[1;33m)\u001b[0m\u001b[1;33m]\u001b[0m\u001b[1;33m\u001b[0m\u001b[1;33m\u001b[0m\u001b[0m\n\u001b[0;32m      4\u001b[0m \u001b[0mM\u001b[0m \u001b[1;33m=\u001b[0m \u001b[0mint\u001b[0m\u001b[1;33m(\u001b[0m\u001b[0msys\u001b[0m\u001b[1;33m.\u001b[0m\u001b[0mstdin\u001b[0m\u001b[1;33m.\u001b[0m\u001b[0mreadline\u001b[0m\u001b[1;33m(\u001b[0m\u001b[1;33m)\u001b[0m\u001b[1;33m)\u001b[0m\u001b[1;33m\u001b[0m\u001b[1;33m\u001b[0m\u001b[0m\n\u001b[0;32m      5\u001b[0m \u001b[0mMnums\u001b[0m \u001b[1;33m=\u001b[0m \u001b[1;33m[\u001b[0m\u001b[0mmap\u001b[0m\u001b[1;33m(\u001b[0m\u001b[0mint\u001b[0m\u001b[1;33m,\u001b[0m \u001b[0msys\u001b[0m\u001b[1;33m.\u001b[0m\u001b[0mstdin\u001b[0m\u001b[1;33m.\u001b[0m\u001b[0mreadline\u001b[0m\u001b[1;33m(\u001b[0m\u001b[1;33m)\u001b[0m\u001b[1;33m.\u001b[0m\u001b[0msplit\u001b[0m\u001b[1;33m(\u001b[0m\u001b[1;33m)\u001b[0m\u001b[1;33m)\u001b[0m\u001b[1;33m]\u001b[0m\u001b[1;33m\u001b[0m\u001b[1;33m\u001b[0m\u001b[0m\n",
      "\u001b[1;31mValueError\u001b[0m: invalid literal for int() with base 10: ''"
     ]
    }
   ],
   "source": [
    "import sys\n",
    "N = int(sys.stdin.readline())\n",
    "Nnums = list(map(int, sys.stdin.readline().split()))\n",
    "M = int(sys.stdin.readline())\n",
    "Mnums = list(map(int, sys.stdin.readline().split()))\n",
    "for i in Mnums:\n",
    "    print(Nnums.count(i), end=' ')"
   ]
  },
  {
   "cell_type": "code",
   "execution_count": 8,
   "id": "94967ce3",
   "metadata": {},
   "outputs": [
    {
     "name": "stdout",
     "output_type": "stream",
     "text": [
      "10\n",
      "6 3 2 10 10 10 -10 -10 7 3\n",
      "8\n",
      "10 9 -5 2 3 4 5 -10\n",
      "i : 10\n",
      "3\n",
      "i : 9\n",
      "0\n",
      "i : -5\n",
      "0\n",
      "i : 2\n",
      "1\n",
      "i : 3\n",
      "2\n",
      "i : 4\n",
      "0\n",
      "i : 5\n",
      "0\n",
      "i : -10\n",
      "2\n"
     ]
    }
   ],
   "source": [
    "N = int(input())\n",
    "Nnums = list(map(int, input().split()))\n",
    "M = int(input())\n",
    "Mnums = list(map(int, input().split()))\n",
    "for i in Mnums:\n",
    "    print(Nnums.count(i), end=' ')"
   ]
  },
  {
   "cell_type": "code",
   "execution_count": null,
   "id": "a03cfec3",
   "metadata": {},
   "outputs": [],
   "source": [
    "import sys\n",
    "def binaty(target, data):\n",
    "    start = 0\n",
    "    end = len(data)-1\n",
    "    mid = (start+end)//2\n",
    "    while start<=end:\n",
    "        if target==data[mid]:\n",
    "            return data[start:end+1].count(target)\n",
    "        elif target<data[mid]:\n",
    "            end=mid+1\n",
    "        else:\n",
    "            start=mid-1\n",
    "    if start>end:\n",
    "        return 0\n",
    "N = sys.stdin.readline()\n",
    "Nnums = sorted(list(map(int, sys.stdin.readline().split())))\n",
    "M = sys.stdin.readline()\n",
    "for i in list(map(int, sys.stdin.readline().split())):\n",
    "    print(binary(i, Nnums), end=' ')"
   ]
  },
  {
   "cell_type": "code",
   "execution_count": 30,
   "id": "0d350f9e",
   "metadata": {},
   "outputs": [
    {
     "name": "stdout",
     "output_type": "stream",
     "text": [
      "10\n",
      "6 3 2 10 10 10 -10 -10 7 3\n",
      "Nnums : [-10, -10, 2, 3, 3, 6, 7, 10, 10, 10]\n",
      "8\n",
      "10 9 -5 2 3 4 5 -10\n",
      "Mnums : [10, 9, -5, 2, 3, 4, 5, -10]\n",
      "i : 10\n",
      "3 i : 9\n",
      "0 i : -5\n",
      "0 i : 2\n",
      "1 i : 3\n",
      "2 i : 4\n",
      "0 i : 5\n",
      "0 i : -10\n",
      "2 "
     ]
    }
   ],
   "source": [
    "def binary(target, data):\n",
    "    start = 0\n",
    "    end = len(data)-1\n",
    "    cnt = 0\n",
    "    while start<=end:\n",
    "        mid = (start+end)//2\n",
    "        if target==data[mid]:\n",
    "            cnt = data[start:end+1].count(target)\n",
    "            break\n",
    "        elif target<data[mid]:\n",
    "            end=mid-1\n",
    "        else:\n",
    "            start=mid+1\n",
    "    return cnt\n",
    "\n",
    "N = input()\n",
    "Nnums = sorted(list(map(int, input().split())))\n",
    "data = Nnums\n",
    "M = input()\n",
    "Mnums = list(map(int, input().split()))\n",
    "for i in Mnums:\n",
    "    target = i\n",
    "    print(binary(target, data), end=' ')"
   ]
  },
  {
   "cell_type": "code",
   "execution_count": null,
   "id": "cd284e94",
   "metadata": {},
   "outputs": [],
   "source": [
    "#시간 초과\n",
    "import sys\n",
    "\n",
    "def binary(target, data):\n",
    "    start = 0\n",
    "    end = len(data)-1\n",
    "    cnt = 0\n",
    "    while start<=end:\n",
    "        mid = (start+end)//2\n",
    "        if target==data[mid]:\n",
    "            cnt = data[start:end+1].count(target)\n",
    "            break\n",
    "        elif target<data[mid]:\n",
    "            end=mid-1\n",
    "        else:\n",
    "            start=mid+1\n",
    "    return cnt\n",
    "\n",
    "N = sys.stdin.readline()\n",
    "Nnums = sorted(list(map(int, sys.stdin.readline().split())))\n",
    "data = Nnums\n",
    "M = sys.stdin.readline()\n",
    "Mnums = list(map(int, sys.stdin.readline().split()))\n",
    "for i in Mnums:\n",
    "    target = i\n",
    "    print(binary(target, data), end=' ')"
   ]
  },
  {
   "cell_type": "code",
   "execution_count": 15,
   "id": "e68264c0",
   "metadata": {},
   "outputs": [
    {
     "name": "stdout",
     "output_type": "stream",
     "text": [
      "10 2 5 4 6 4 8 6 1\n",
      "10\n",
      "2\n",
      "5\n",
      "4\n",
      "6\n",
      "4\n",
      "8\n",
      "6\n",
      "1\n"
     ]
    }
   ],
   "source": [
    "for i in input().split():\n",
    "    print(i)"
   ]
  },
  {
   "cell_type": "code",
   "execution_count": 31,
   "id": "b52f4ab4",
   "metadata": {},
   "outputs": [
    {
     "name": "stdout",
     "output_type": "stream",
     "text": [
      "{}\n",
      "\n"
     ]
    }
   ],
   "source": [
    "#딕셔너리(해시구조)활용\n",
    "import sys\n",
    "N = sys.stdin.readline()\n",
    "Nnums = list(map(int, sys.stdin.readline().split()))\n",
    "M = sys.stdin.readline()\n",
    "Mnums = list(map(int, sys.stdin.readline().split()))\n",
    "hashmap = {}\n",
    "for i in Nnums:\n",
    "    if i in hashmap:\n",
    "        hashmap[i] += 1\n",
    "    else:\n",
    "        hashmap[i] = 1\n",
    "print(' '.join(str(hashmap[m]) if m in hashmap else '0' for m in Mnums))\n",
    "#print쪽에 적힌 아름다운 문자열 조건문들을 꼭 기억하기"
   ]
  }
 ],
 "metadata": {
  "kernelspec": {
   "display_name": "Python 3 (ipykernel)",
   "language": "python",
   "name": "python3"
  },
  "language_info": {
   "codemirror_mode": {
    "name": "ipython",
    "version": 3
   },
   "file_extension": ".py",
   "mimetype": "text/x-python",
   "name": "python",
   "nbconvert_exporter": "python",
   "pygments_lexer": "ipython3",
   "version": "3.9.7"
  }
 },
 "nbformat": 4,
 "nbformat_minor": 5
}
