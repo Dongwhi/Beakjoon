{
 "cells": [
  {
   "cell_type": "markdown",
   "id": "98005796",
   "metadata": {},
   "source": [
    "문제\n",
    "알파벳 소문자로 이루어진 N개의 단어가 들어오면 아래와 같은 조건에 따라 정렬하는 프로그램을 작성하시오.\n",
    "\n",
    "길이가 짧은 것부터\n",
    "길이가 같으면 사전 순으로\n",
    "입력\n",
    "첫째 줄에 단어의 개수 N이 주어진다. (1 ≤ N ≤ 20,000) 둘째 줄부터 N개의 줄에 걸쳐 알파벳 소문자로 이루어진 단어가 한 줄에 하나씩 주어진다. 주어지는 문자열의 길이는 50을 넘지 않는다.\n",
    "\n",
    "출력\n",
    "조건에 따라 정렬하여 단어들을 출력한다. 단, 같은 단어가 여러 번 입력된 경우에는 한 번씩만 출력한다."
   ]
  },
  {
   "cell_type": "code",
   "execution_count": 2,
   "id": "d722bc5d",
   "metadata": {},
   "outputs": [
    {
     "data": {
      "text/plain": [
       "0"
      ]
     },
     "execution_count": 2,
     "metadata": {},
     "output_type": "execute_result"
    }
   ],
   "source": [
    "cc = [1, 1, 2, 2, 2, 2, 2, 3, 4, 5, 5, 6, 7, 8, 9]\n",
    "cc.index(1)"
   ]
  },
  {
   "cell_type": "code",
   "execution_count": 5,
   "id": "d1e454f3",
   "metadata": {},
   "outputs": [
    {
     "ename": "AttributeError",
     "evalue": "'list' object has no attribute 'sorted'",
     "output_type": "error",
     "traceback": [
      "\u001b[1;31m---------------------------------------------------------------------------\u001b[0m",
      "\u001b[1;31mAttributeError\u001b[0m                            Traceback (most recent call last)",
      "\u001b[1;32m~\\AppData\\Local\\Temp/ipykernel_29240/2406247925.py\u001b[0m in \u001b[0;36m<module>\u001b[1;34m\u001b[0m\n\u001b[0;32m      1\u001b[0m \u001b[0mcc\u001b[0m \u001b[1;33m=\u001b[0m \u001b[1;33m[\u001b[0m\u001b[1;36m5\u001b[0m\u001b[1;33m,\u001b[0m \u001b[1;36m1\u001b[0m\u001b[1;33m,\u001b[0m \u001b[1;36m684\u001b[0m\u001b[1;33m,\u001b[0m \u001b[1;36m1\u001b[0m\u001b[1;33m,\u001b[0m \u001b[1;36m5\u001b[0m\u001b[1;33m,\u001b[0m \u001b[1;36m4\u001b[0m\u001b[1;33m,\u001b[0m \u001b[1;36m8\u001b[0m\u001b[1;33m,\u001b[0m \u001b[1;36m5\u001b[0m\u001b[1;33m,\u001b[0m \u001b[1;36m31\u001b[0m\u001b[1;33m,\u001b[0m \u001b[1;36m5\u001b[0m\u001b[1;33m,\u001b[0m \u001b[1;36m4\u001b[0m\u001b[1;33m]\u001b[0m\u001b[1;33m\u001b[0m\u001b[1;33m\u001b[0m\u001b[0m\n\u001b[1;32m----> 2\u001b[1;33m \u001b[0mprint\u001b[0m\u001b[1;33m(\u001b[0m\u001b[0mcc\u001b[0m\u001b[1;33m.\u001b[0m\u001b[0msorted\u001b[0m\u001b[1;33m(\u001b[0m\u001b[1;33m)\u001b[0m\u001b[1;33m)\u001b[0m\u001b[1;33m\u001b[0m\u001b[1;33m\u001b[0m\u001b[0m\n\u001b[0m",
      "\u001b[1;31mAttributeError\u001b[0m: 'list' object has no attribute 'sorted'"
     ]
    }
   ],
   "source": [
    "cc = [5, 1, 684, 1, 5, 4, 8, 5, 31, 5, 4]\n",
    "print(cc.sorted())"
   ]
  },
  {
   "cell_type": "code",
   "execution_count": 9,
   "id": "b264733c",
   "metadata": {},
   "outputs": [
    {
     "data": {
      "text/plain": [
       "[1, 1, 4, 4, 5, 5, 5, 5, 8, 31, 684]"
      ]
     },
     "execution_count": 9,
     "metadata": {},
     "output_type": "execute_result"
    }
   ],
   "source": [
    "cc = [5, 1, 684, 1, 5, 4, 8, 5, 31, 5, 4]\n",
    "cc.sort()\n",
    "cc"
   ]
  },
  {
   "cell_type": "code",
   "execution_count": 18,
   "id": "5c45296b",
   "metadata": {},
   "outputs": [
    {
     "name": "stdout",
     "output_type": "stream",
     "text": [
      "3\n",
      "a\n",
      "ds\n",
      "as\n"
     ]
    },
    {
     "data": {
      "text/plain": [
       "list"
      ]
     },
     "execution_count": 18,
     "metadata": {},
     "output_type": "execute_result"
    }
   ],
   "source": [
    "N = int(input())\n",
    "words = []\n",
    "woc = []\n",
    "for i in range(N):\n",
    "    words.append(input())\n",
    "word = list(set(words))\n",
    "word.sort(key=len)\n",
    "type(word)\n"
   ]
  },
  {
   "cell_type": "code",
   "execution_count": 13,
   "id": "5731c5ae",
   "metadata": {
    "scrolled": false
   },
   "outputs": [
    {
     "name": "stdout",
     "output_type": "stream",
     "text": [
      "13\n",
      "but\n",
      "i\n",
      "wont\n",
      "hesitate\n",
      "no\n",
      "more\n",
      "no\n",
      "more\n",
      "it\n",
      "cannot\n",
      "wait\n",
      "im\n",
      "yours\n"
     ]
    },
    {
     "ename": "TypeError",
     "evalue": "'NoneType' object is not iterable",
     "output_type": "error",
     "traceback": [
      "\u001b[1;31m---------------------------------------------------------------------------\u001b[0m",
      "\u001b[1;31mTypeError\u001b[0m                                 Traceback (most recent call last)",
      "\u001b[1;32m~\\AppData\\Local\\Temp/ipykernel_29240/2223273087.py\u001b[0m in \u001b[0;36m<module>\u001b[1;34m\u001b[0m\n\u001b[0;32m      5\u001b[0m     \u001b[0mwords\u001b[0m\u001b[1;33m.\u001b[0m\u001b[0mappend\u001b[0m\u001b[1;33m(\u001b[0m\u001b[0minput\u001b[0m\u001b[1;33m(\u001b[0m\u001b[1;33m)\u001b[0m\u001b[1;33m)\u001b[0m\u001b[1;33m\u001b[0m\u001b[1;33m\u001b[0m\u001b[0m\n\u001b[0;32m      6\u001b[0m \u001b[0mword\u001b[0m \u001b[1;33m=\u001b[0m \u001b[0mlist\u001b[0m\u001b[1;33m(\u001b[0m\u001b[0mset\u001b[0m\u001b[1;33m(\u001b[0m\u001b[0mwords\u001b[0m\u001b[1;33m)\u001b[0m\u001b[1;33m)\u001b[0m\u001b[1;33m.\u001b[0m\u001b[0msort\u001b[0m\u001b[1;33m(\u001b[0m\u001b[0mkey\u001b[0m\u001b[1;33m=\u001b[0m\u001b[0mlen\u001b[0m\u001b[1;33m)\u001b[0m\u001b[1;33m\u001b[0m\u001b[1;33m\u001b[0m\u001b[0m\n\u001b[1;32m----> 7\u001b[1;33m \u001b[0mlen_\u001b[0m \u001b[1;33m=\u001b[0m \u001b[1;33m[\u001b[0m\u001b[0mlen\u001b[0m\u001b[1;33m(\u001b[0m\u001b[0ml\u001b[0m\u001b[1;33m)\u001b[0m \u001b[1;32mfor\u001b[0m \u001b[0ml\u001b[0m \u001b[1;32min\u001b[0m \u001b[0mword\u001b[0m\u001b[1;33m]\u001b[0m\u001b[1;33m\u001b[0m\u001b[1;33m\u001b[0m\u001b[0m\n\u001b[0m\u001b[0;32m      8\u001b[0m \u001b[0mv\u001b[0m \u001b[1;33m=\u001b[0m \u001b[1;36m0\u001b[0m\u001b[1;33m\u001b[0m\u001b[1;33m\u001b[0m\u001b[0m\n\u001b[0;32m      9\u001b[0m \u001b[1;32mfor\u001b[0m \u001b[0mj\u001b[0m \u001b[1;32min\u001b[0m \u001b[0mrange\u001b[0m\u001b[1;33m(\u001b[0m\u001b[0mlen\u001b[0m\u001b[1;33m(\u001b[0m\u001b[0mwords\u001b[0m\u001b[1;33m)\u001b[0m\u001b[1;33m-\u001b[0m\u001b[1;36m1\u001b[0m\u001b[1;33m)\u001b[0m\u001b[1;33m:\u001b[0m\u001b[1;33m\u001b[0m\u001b[1;33m\u001b[0m\u001b[0m\n",
      "\u001b[1;31mTypeError\u001b[0m: 'NoneType' object is not iterable"
     ]
    }
   ],
   "source": [
    "N = int(input())\n",
    "words = []\n",
    "woc = []\n",
    "for i in range(N):\n",
    "    words.append(input())\n",
    "word = list(set(words)).sort(key=len)\n",
    "len_ = [len(l) for l in word]\n",
    "v = 0\n",
    "for j in range(len(words)-1):\n",
    "    if len_[j]==len_[j+1]:\n",
    "        v += 1\n",
    "    elif v>0 and len_[j]!=len_[j+1]:\n",
    "        woc.append('{} {}'.format(len_[j]), v)\n",
    "        v = 0\n",
    "    else:\n",
    "        pass\n",
    "semi = []\n",
    "for k in range(len(woc)):\n",
    "    wl, n = int(woc[k].split())\n",
    "    for m in range(n):\n",
    "        semi.append(words[len_.index(wl)+m])\n",
    "    word[word.index(len_=wl):word.index(len_=wl)+n] = semi.sort()\n",
    "print(*words)"
   ]
  },
  {
   "cell_type": "code",
   "execution_count": 28,
   "id": "54f9178d",
   "metadata": {},
   "outputs": [
    {
     "ename": "SyntaxError",
     "evalue": "invalid syntax (Temp/ipykernel_29240/1654369008.py, line 15)",
     "output_type": "error",
     "traceback": [
      "\u001b[1;36m  File \u001b[1;32m\"C:\\Users\\82102\\AppData\\Local\\Temp/ipykernel_29240/1654369008.py\"\u001b[1;36m, line \u001b[1;32m15\u001b[0m\n\u001b[1;33m    v=0\u001b[0m\n\u001b[1;37m    ^\u001b[0m\n\u001b[1;31mSyntaxError\u001b[0m\u001b[1;31m:\u001b[0m invalid syntax\n"
     ]
    }
   ],
   "source": [
    "N = int(input())\n",
    "words = []\n",
    "woc = []\n",
    "for i in range(N):\n",
    "    words.append(input())\n",
    "word = list(set(words))\n",
    "word.sort(key=len)\n",
    "len_ = [len(l) for l in word]\n",
    "v = 0\n",
    "for j in range(len(words)-1):\n",
    "    if len_[j]==len_[j+1]:\n",
    "        v += 1\n",
    "    elif v>0 and len_[j]!=len_[j+1]:\n",
    "        woc.append('{} {}'.format((len_[j]), v)\n",
    "        v=0\n",
    "    else:\n",
    "        pass\n",
    "semi = []\n",
    "for k in range(len(woc)):\n",
    "    wl, n = int(woc[k].split())\n",
    "    for m in range(n):\n",
    "        semi.append(word[len_.index(wl)+m])\n",
    "    word[word.index(len_=wl):word.index(len_=wl)+n] = semi.sort()\n",
    "print(*word)"
   ]
  },
  {
   "cell_type": "code",
   "execution_count": 52,
   "id": "cdf9c4b2",
   "metadata": {},
   "outputs": [
    {
     "name": "stdout",
     "output_type": "stream",
     "text": [
      "20\n",
      "dwu\n",
      "ash\n",
      "awdhb\n",
      "acsbkasd\n",
      "kuawbdnkaw\n",
      "scjbaksc\n",
      "jebfkae\n",
      "sjba\n",
      "dab\n",
      "sj\n",
      "as\n",
      "jfsa\n",
      "hhx\n",
      "sgiaw\n",
      "juss\n",
      "aygw\n",
      "snw\n",
      "iha\n",
      "a\n",
      "a\n",
      "a\n",
      "as\n",
      "sj\n",
      "ash\n",
      "dab\n",
      "dwu\n",
      "hhx\n",
      "iha\n",
      "snw\n",
      "aygw\n",
      "jfsa\n",
      "juss\n",
      "sjba\n",
      "awdhb\n",
      "sgiaw\n",
      "jebfkae\n",
      "acsbkasd\n",
      "scjbaksc\n",
      "kuawbdnkaw\n"
     ]
    }
   ],
   "source": [
    "N = int(input())\n",
    "words = []\n",
    "woc = []\n",
    "for i in range(N):\n",
    "    words.append(input())\n",
    "word = list(set(words))\n",
    "\n",
    "#print(word)\n",
    "\n",
    "word.sort(key=len)\n",
    "\n",
    "#print(word)\n",
    "\n",
    "len_ = [len(l) for l in word]\n",
    "\n",
    "#print(len_)\n",
    "\n",
    "v = 1\n",
    "for j in range(len(word)-1):\n",
    "    if (len_[j]==len_[j+1]):\n",
    "        v += 1\n",
    "    elif (v>1 and len_[j]!=len_[j+1]):\n",
    "        woc.append('{} {}'.format((len_[j]), v))\n",
    "        v = 1\n",
    "    elif (len_[j]==len_[j+1] and (j+1)==len(word)):\n",
    "        v += 1\n",
    "        woc.append('{} {}'.format((len_[j]), v))\n",
    "        v = 1\n",
    "        \n",
    "#print(woc)\n",
    "\n",
    "semi = []\n",
    "if woc==[]:\n",
    "    print(*word, sep='\\n')\n",
    "else:\n",
    "    for k in range(len(woc)):\n",
    "        wl, n = map(int, woc[k].split())\n",
    "        for m in range(n):\n",
    "            semi.append(word[len_.index(wl)+m])\n",
    "            semi.sort()\n",
    "        #print(semi)\n",
    "        word[int(len_.index(wl)) : int(len_.index(wl))+n] = semi\n",
    "        semi = []\n",
    "        #print(word)\n",
    "    print(*word, sep='\\n')"
   ]
  },
  {
   "cell_type": "code",
   "execution_count": 57,
   "id": "770ee299",
   "metadata": {},
   "outputs": [
    {
     "name": "stdout",
     "output_type": "stream",
     "text": [
      "13\n",
      "but\n",
      "i\n",
      "wont\n",
      "hesitate\n",
      "no\n",
      "more\n",
      "no\n",
      "more\n",
      "it\n",
      "cannot\n",
      "wait\n",
      "im\n",
      "yours\n",
      "['i', 'it', 'no', 'im', 'but', 'wont', 'wait', 'more', 'yours', 'cannot', 'hesitate']\n",
      "[1, 2, 2, 2, 3, 4, 4, 4, 5, 6, 8]\n",
      "['2 3', '4 3']\n",
      "['im', 'it', 'no']\n",
      "['i', 'im', 'it', 'no', 'but', 'wont', 'wait', 'more', 'yours', 'cannot', 'hesitate']\n",
      "['more', 'wait', 'wont']\n",
      "['i', 'im', 'it', 'no', 'but', 'more', 'wait', 'wont', 'yours', 'cannot', 'hesitate']\n",
      "i\n",
      "im\n",
      "it\n",
      "no\n",
      "but\n",
      "more\n",
      "wait\n",
      "wont\n",
      "yours\n",
      "cannot\n",
      "hesitate\n"
     ]
    }
   ],
   "source": [
    "N = int(input())\n",
    "words = []\n",
    "woc = []\n",
    "for i in range(N):\n",
    "    words.append(input())\n",
    "word = list(set(words))\n",
    "word.sort(key=len)\n",
    "print(word)\n",
    "len_ = [len(l) for l in word]\n",
    "print(len_)\n",
    "v = 1\n",
    "for j in range(len(word)-1):\n",
    "    if (len_[j]==len_[j+1] and ((j+1)!=len(word))):\n",
    "        v += 1\n",
    "    elif (v>1 and len_[j]!=len_[j+1]):\n",
    "        woc.append('{} {}'.format((len_[j]), v))\n",
    "        v = 1\n",
    "    elif (len_[j]==len_[j+1] and (j+1)==len(word)):\n",
    "        v += 1\n",
    "        woc.append('{} {}'.format((len_[j]), v))\n",
    "        v = 1\n",
    "print(woc)\n",
    "semi = []\n",
    "if woc==[]:\n",
    "    print(*word, sep='\\n')\n",
    "else:\n",
    "    for k in range(len(woc)):\n",
    "        wl, n = map(int, woc[k].split())\n",
    "        for m in range(n):\n",
    "            semi.append(word[len_.index(wl)+m])\n",
    "            semi.sort()\n",
    "        print(semi)\n",
    "        word[int(len_.index(wl)) : int(len_.index(wl))+n] = semi\n",
    "        semi = []\n",
    "        print(word)\n",
    "    for t in range(len(word)):\n",
    "        print(word[t])"
   ]
  },
  {
   "cell_type": "code",
   "execution_count": 59,
   "id": "f0c13070",
   "metadata": {
    "scrolled": true
   },
   "outputs": [
    {
     "ename": "KeyboardInterrupt",
     "evalue": "Interrupted by user",
     "output_type": "error",
     "traceback": [
      "\u001b[1;31m---------------------------------------------------------------------------\u001b[0m",
      "\u001b[1;31mKeyboardInterrupt\u001b[0m                         Traceback (most recent call last)",
      "\u001b[1;32m~\\AppData\\Local\\Temp/ipykernel_29240/4065308182.py\u001b[0m in \u001b[0;36m<module>\u001b[1;34m\u001b[0m\n\u001b[0;32m      1\u001b[0m \u001b[0mwords\u001b[0m\u001b[1;33m=\u001b[0m\u001b[1;33m[\u001b[0m\u001b[1;33m]\u001b[0m\u001b[1;33m\u001b[0m\u001b[1;33m\u001b[0m\u001b[0m\n\u001b[1;32m----> 2\u001b[1;33m \u001b[1;32mfor\u001b[0m \u001b[0mi\u001b[0m \u001b[1;32min\u001b[0m \u001b[0mrange\u001b[0m\u001b[1;33m(\u001b[0m\u001b[0mint\u001b[0m\u001b[1;33m(\u001b[0m\u001b[0minput\u001b[0m\u001b[1;33m(\u001b[0m\u001b[1;33m)\u001b[0m\u001b[1;33m)\u001b[0m\u001b[1;33m)\u001b[0m\u001b[1;33m:\u001b[0m\u001b[1;33m\u001b[0m\u001b[1;33m\u001b[0m\u001b[0m\n\u001b[0m\u001b[0;32m      3\u001b[0m     \u001b[0ma\u001b[0m\u001b[1;33m=\u001b[0m\u001b[0minput\u001b[0m\u001b[1;33m(\u001b[0m\u001b[1;33m)\u001b[0m\u001b[1;33m\u001b[0m\u001b[1;33m\u001b[0m\u001b[0m\n\u001b[0;32m      4\u001b[0m     \u001b[1;32mif\u001b[0m \u001b[1;32mnot\u001b[0m \u001b[1;33m[\u001b[0m\u001b[0mlen\u001b[0m\u001b[1;33m(\u001b[0m\u001b[0ma\u001b[0m\u001b[1;33m)\u001b[0m\u001b[1;33m,\u001b[0m\u001b[0ma\u001b[0m\u001b[1;33m]\u001b[0m \u001b[1;32min\u001b[0m \u001b[0mwords\u001b[0m\u001b[1;33m:\u001b[0m\u001b[1;33m\u001b[0m\u001b[1;33m\u001b[0m\u001b[0m\n\u001b[0;32m      5\u001b[0m         \u001b[0mwords\u001b[0m\u001b[1;33m.\u001b[0m\u001b[0mappend\u001b[0m\u001b[1;33m(\u001b[0m\u001b[1;33m[\u001b[0m\u001b[0mlen\u001b[0m\u001b[1;33m(\u001b[0m\u001b[0ma\u001b[0m\u001b[1;33m)\u001b[0m\u001b[1;33m,\u001b[0m\u001b[0ma\u001b[0m\u001b[1;33m]\u001b[0m\u001b[1;33m)\u001b[0m\u001b[1;33m\u001b[0m\u001b[1;33m\u001b[0m\u001b[0m\n",
      "\u001b[1;32m~\\anaconda3\\lib\\site-packages\\ipykernel\\kernelbase.py\u001b[0m in \u001b[0;36mraw_input\u001b[1;34m(self, prompt)\u001b[0m\n\u001b[0;32m   1004\u001b[0m                 \u001b[1;34m\"raw_input was called, but this frontend does not support input requests.\"\u001b[0m\u001b[1;33m\u001b[0m\u001b[1;33m\u001b[0m\u001b[0m\n\u001b[0;32m   1005\u001b[0m             )\n\u001b[1;32m-> 1006\u001b[1;33m         return self._input_request(\n\u001b[0m\u001b[0;32m   1007\u001b[0m             \u001b[0mstr\u001b[0m\u001b[1;33m(\u001b[0m\u001b[0mprompt\u001b[0m\u001b[1;33m)\u001b[0m\u001b[1;33m,\u001b[0m\u001b[1;33m\u001b[0m\u001b[1;33m\u001b[0m\u001b[0m\n\u001b[0;32m   1008\u001b[0m             \u001b[0mself\u001b[0m\u001b[1;33m.\u001b[0m\u001b[0m_parent_ident\u001b[0m\u001b[1;33m[\u001b[0m\u001b[1;34m\"shell\"\u001b[0m\u001b[1;33m]\u001b[0m\u001b[1;33m,\u001b[0m\u001b[1;33m\u001b[0m\u001b[1;33m\u001b[0m\u001b[0m\n",
      "\u001b[1;32m~\\anaconda3\\lib\\site-packages\\ipykernel\\kernelbase.py\u001b[0m in \u001b[0;36m_input_request\u001b[1;34m(self, prompt, ident, parent, password)\u001b[0m\n\u001b[0;32m   1049\u001b[0m             \u001b[1;32mexcept\u001b[0m \u001b[0mKeyboardInterrupt\u001b[0m\u001b[1;33m:\u001b[0m\u001b[1;33m\u001b[0m\u001b[1;33m\u001b[0m\u001b[0m\n\u001b[0;32m   1050\u001b[0m                 \u001b[1;31m# re-raise KeyboardInterrupt, to truncate traceback\u001b[0m\u001b[1;33m\u001b[0m\u001b[1;33m\u001b[0m\u001b[0m\n\u001b[1;32m-> 1051\u001b[1;33m                 \u001b[1;32mraise\u001b[0m \u001b[0mKeyboardInterrupt\u001b[0m\u001b[1;33m(\u001b[0m\u001b[1;34m\"Interrupted by user\"\u001b[0m\u001b[1;33m)\u001b[0m \u001b[1;32mfrom\u001b[0m \u001b[1;32mNone\u001b[0m\u001b[1;33m\u001b[0m\u001b[1;33m\u001b[0m\u001b[0m\n\u001b[0m\u001b[0;32m   1052\u001b[0m             \u001b[1;32mexcept\u001b[0m \u001b[0mException\u001b[0m\u001b[1;33m:\u001b[0m\u001b[1;33m\u001b[0m\u001b[1;33m\u001b[0m\u001b[0m\n\u001b[0;32m   1053\u001b[0m                 \u001b[0mself\u001b[0m\u001b[1;33m.\u001b[0m\u001b[0mlog\u001b[0m\u001b[1;33m.\u001b[0m\u001b[0mwarning\u001b[0m\u001b[1;33m(\u001b[0m\u001b[1;34m\"Invalid Message:\"\u001b[0m\u001b[1;33m,\u001b[0m \u001b[0mexc_info\u001b[0m\u001b[1;33m=\u001b[0m\u001b[1;32mTrue\u001b[0m\u001b[1;33m)\u001b[0m\u001b[1;33m\u001b[0m\u001b[1;33m\u001b[0m\u001b[0m\n",
      "\u001b[1;31mKeyboardInterrupt\u001b[0m: Interrupted by user"
     ]
    }
   ],
   "source": [
    "words=[]\n",
    "for i in range(int(input())):\n",
    "    a=input()\n",
    "    if not [len(a),a] in words:\n",
    "        words.append([len(a),a])\n",
    "words.sort()\n",
    "words=[y for [x,y] in words]\n",
    "print(*words, sep=\"\\n\")\n",
    "#(len(a), a)를 sort하면 한번에 정리됨\n",
    "#import sys하는 방법도 있음"
   ]
  },
  {
   "cell_type": "code",
   "execution_count": 1,
   "id": "09e1907f",
   "metadata": {},
   "outputs": [
    {
     "name": "stdout",
     "output_type": "stream",
     "text": [
      "13\n",
      "but\n",
      "i\n",
      "wonr\n",
      "hesitate\n",
      "no\n",
      "more\n",
      "no\n",
      "more\n",
      "it\n",
      "cannot\n",
      "wait\n",
      "im\n",
      "yours\n",
      "['but', 'cannot', 'hesitate', 'i', 'im', 'it', 'more', 'no', 'wait', 'wonr', 'yours']\n",
      "['i', 'im', 'it', 'no', 'but', 'more', 'wait', 'wonr', 'yours', 'cannot', 'hesitate']\n",
      "i\n",
      "im\n",
      "it\n",
      "no\n",
      "but\n",
      "more\n",
      "wait\n",
      "wonr\n",
      "yours\n",
      "cannot\n",
      "hesitate\n"
     ]
    }
   ],
   "source": [
    "n = int(input())\n",
    "li=[]\n",
    "for i in range(n):\n",
    "    li.append(input())\n",
    "\n",
    "rli = sorted(set(li), reverse = False )\n",
    "print(rli)\n",
    "rli.sort(key=len) \n",
    "print(rli)\n",
    "for j in rli:\n",
    "    print(j)\n",
    "#이거 왜맞음?"
   ]
  }
 ],
 "metadata": {
  "kernelspec": {
   "display_name": "Python 3 (ipykernel)",
   "language": "python",
   "name": "python3"
  },
  "language_info": {
   "codemirror_mode": {
    "name": "ipython",
    "version": 3
   },
   "file_extension": ".py",
   "mimetype": "text/x-python",
   "name": "python",
   "nbconvert_exporter": "python",
   "pygments_lexer": "ipython3",
   "version": "3.9.7"
  }
 },
 "nbformat": 4,
 "nbformat_minor": 5
}
