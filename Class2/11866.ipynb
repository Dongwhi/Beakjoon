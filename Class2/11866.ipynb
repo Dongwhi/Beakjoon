{
 "cells": [
  {
   "cell_type": "markdown",
   "id": "fdd2c797",
   "metadata": {},
   "source": [
    "문제\n",
    "요세푸스 문제는 다음과 같다.\n",
    "\n",
    "1번부터 N번까지 N명의 사람이 원을 이루면서 앉아있고, 양의 정수 K(≤ N)가 주어진다. 이제 순서대로 K번째 사람을 제거한다. 한 사람이 제거되면 남은 사람들로 이루어진 원을 따라 이 과정을 계속해 나간다. 이 과정은 N명의 사람이 모두 제거될 때까지 계속된다. 원에서 사람들이 제거되는 순서를 (N, K)-요세푸스 순열이라고 한다. 예를 들어 (7, 3)-요세푸스 순열은 <3, 6, 2, 7, 5, 1, 4>이다.\n",
    "\n",
    "N과 K가 주어지면 (N, K)-요세푸스 순열을 구하는 프로그램을 작성하시오.\n",
    "\n",
    "입력\n",
    "첫째 줄에 N과 K가 빈 칸을 사이에 두고 순서대로 주어진다. (1 ≤ K ≤ N ≤ 1,000)\n",
    "\n",
    "출력\n",
    "예제와 같이 요세푸스 순열을 출력한다."
   ]
  },
  {
   "cell_type": "code",
   "execution_count": 1,
   "id": "44dfbdc6",
   "metadata": {},
   "outputs": [
    {
     "data": {
      "text/plain": [
       "[1, 2, 3, 4, 5, 6]"
      ]
     },
     "execution_count": 1,
     "metadata": {},
     "output_type": "execute_result"
    }
   ],
   "source": [
    "de = [1, 2, 3, 4, 5, 6]\n",
    "de"
   ]
  },
  {
   "cell_type": "code",
   "execution_count": 16,
   "id": "5e6827a2",
   "metadata": {},
   "outputs": [
    {
     "name": "stdout",
     "output_type": "stream",
     "text": [
      "7 3\n",
      "loop 0\n",
      "K : 3\n",
      "K_list : []\n",
      "N_list : [1, 2, 3, 4, 5, 6, 7]\n",
      "경우0\n",
      "K : 5\n",
      "K_list : [3]\n",
      "N_list : [1, 2, 4, 5, 6, 7]\n",
      "loop 1\n",
      "K : 5\n",
      "K_list : [3]\n",
      "N_list : [1, 2, 4, 5, 6, 7]\n",
      "경우0\n",
      "K : 7\n",
      "K_list : [3, 6]\n",
      "N_list : [1, 2, 4, 5, 7]\n",
      "loop 2\n",
      "K : 7\n",
      "K_list : [3, 6]\n",
      "N_list : [1, 2, 4, 5, 7]\n",
      "경우1\n",
      "K : 5\n",
      "K_list : [3, 6, 2]\n",
      "N_list : [1, 4, 5, 7]\n",
      "loop 3\n",
      "K : 5\n",
      "K_list : [3, 6, 2]\n",
      "N_list : [1, 4, 5, 7]\n",
      "경우1\n",
      "K : 4\n",
      "K_list : [3, 6, 2, 1]\n",
      "N_list : [4, 5, 7]\n",
      "loop 4\n",
      "K : 4\n",
      "K_list : [3, 6, 2, 1]\n",
      "N_list : [4, 5, 7]\n",
      "경우1\n",
      "K : 2\n",
      "K_list : [3, 6, 2, 1, 4]\n",
      "N_list : [5, 7]\n",
      "loop 5\n",
      "K : 2\n",
      "K_list : [3, 6, 2, 1, 4]\n",
      "N_list : [5, 7]\n",
      "경우0\n",
      "K : 4\n",
      "K_list : [3, 6, 2, 1, 4, 7]\n",
      "N_list : [5]\n",
      "loop 6\n",
      "K : 4\n",
      "K_list : [3, 6, 2, 1, 4, 7]\n",
      "N_list : [5]\n",
      "경우1\n"
     ]
    },
    {
     "ename": "ZeroDivisionError",
     "evalue": "integer division or modulo by zero",
     "output_type": "error",
     "traceback": [
      "\u001b[1;31m---------------------------------------------------------------------------\u001b[0m",
      "\u001b[1;31mZeroDivisionError\u001b[0m                         Traceback (most recent call last)",
      "\u001b[1;32m~\\AppData\\Local\\Temp/ipykernel_62416/1227655468.py\u001b[0m in \u001b[0;36m<module>\u001b[1;34m\u001b[0m\n\u001b[0;32m     20\u001b[0m         \u001b[0mK_list\u001b[0m\u001b[1;33m.\u001b[0m\u001b[0mappend\u001b[0m\u001b[1;33m(\u001b[0m\u001b[0mN_list\u001b[0m\u001b[1;33m[\u001b[0m\u001b[1;33m(\u001b[0m\u001b[0mK\u001b[0m\u001b[1;33m%\u001b[0m\u001b[0mlen\u001b[0m\u001b[1;33m(\u001b[0m\u001b[0mN_list\u001b[0m\u001b[1;33m)\u001b[0m\u001b[1;33m)\u001b[0m\u001b[1;33m-\u001b[0m\u001b[1;36m1\u001b[0m\u001b[1;33m]\u001b[0m\u001b[1;33m)\u001b[0m\u001b[1;33m\u001b[0m\u001b[1;33m\u001b[0m\u001b[0m\n\u001b[0;32m     21\u001b[0m         \u001b[1;32mdel\u001b[0m \u001b[0mN_list\u001b[0m\u001b[1;33m[\u001b[0m\u001b[1;33m(\u001b[0m\u001b[0mK\u001b[0m\u001b[1;33m%\u001b[0m\u001b[0mlen\u001b[0m\u001b[1;33m(\u001b[0m\u001b[0mN_list\u001b[0m\u001b[1;33m)\u001b[0m\u001b[1;33m)\u001b[0m\u001b[1;33m-\u001b[0m\u001b[1;36m1\u001b[0m\u001b[1;33m]\u001b[0m\u001b[1;33m\u001b[0m\u001b[1;33m\u001b[0m\u001b[0m\n\u001b[1;32m---> 22\u001b[1;33m         \u001b[0mK\u001b[0m \u001b[1;33m=\u001b[0m \u001b[1;33m(\u001b[0m\u001b[0mK\u001b[0m\u001b[1;33m%\u001b[0m\u001b[0mlen\u001b[0m\u001b[1;33m(\u001b[0m\u001b[0mN_list\u001b[0m\u001b[1;33m)\u001b[0m\u001b[1;33m)\u001b[0m\u001b[1;33m+\u001b[0m\u001b[0m_K\u001b[0m\u001b[1;33m-\u001b[0m\u001b[1;36m1\u001b[0m\u001b[1;33m\u001b[0m\u001b[1;33m\u001b[0m\u001b[0m\n\u001b[0m\u001b[0;32m     23\u001b[0m         \u001b[0mprint\u001b[0m\u001b[1;33m(\u001b[0m\u001b[1;34m'K :'\u001b[0m\u001b[1;33m,\u001b[0m \u001b[0mK\u001b[0m\u001b[1;33m)\u001b[0m\u001b[1;33m\u001b[0m\u001b[1;33m\u001b[0m\u001b[0m\n\u001b[0;32m     24\u001b[0m         \u001b[0mprint\u001b[0m\u001b[1;33m(\u001b[0m\u001b[1;34m'K_list :'\u001b[0m\u001b[1;33m,\u001b[0m \u001b[0mK_list\u001b[0m\u001b[1;33m)\u001b[0m\u001b[1;33m\u001b[0m\u001b[1;33m\u001b[0m\u001b[0m\n",
      "\u001b[1;31mZeroDivisionError\u001b[0m: integer division or modulo by zero"
     ]
    }
   ],
   "source": [
    "N, K = map(int, input().split())\n",
    "_K = K\n",
    "N_list = list(range(1, N+1))\n",
    "K_list = []\n",
    "for i in range(N):\n",
    "    print('loop', i)\n",
    "    print('K :', K)\n",
    "    print('K_list :', K_list)\n",
    "    print('N_list :', N_list)\n",
    "    if len(N_list)>=K:\n",
    "        print('경우0')\n",
    "        K_list.append(N_list[K-1])\n",
    "        del N_list[K-1]\n",
    "        K += _K-1\n",
    "        print('K :', K)\n",
    "        print('K_list :', K_list)\n",
    "        print('N_list :', N_list)\n",
    "    else:\n",
    "        print('경우1')\n",
    "        K_list.append(N_list[(K%len(N_list))-1])\n",
    "        del N_list[(K%len(N_list))-1]\n",
    "        K = (K%len(N_list))+_K-1\n",
    "        print('K :', K)\n",
    "        print('K_list :', K_list)\n",
    "        print('N_list :', N_list)\n",
    "print('<', end='')\n",
    "print(*K_list, sep=', ', end='')\n",
    "print('>')"
   ]
  },
  {
   "cell_type": "code",
   "execution_count": 9,
   "id": "f11aa37c",
   "metadata": {},
   "outputs": [
    {
     "name": "stdout",
     "output_type": "stream",
     "text": [
      "7 3\n",
      "<3, 6, 2>\n"
     ]
    }
   ],
   "source": [
    "N, K = map(int, input().split())\n",
    "_K = K\n",
    "N_list = list(range(1, N+1))\n",
    "K_list = []\n",
    "ind = K-1\n",
    "for i in range(N):\n",
    "    if len(N_list)>=(ind+1):\n",
    "        K_list.append(N_list[ind])\n",
    "        del N_list[ind]\n",
    "        ind += K-1\n",
    "    elif len(N_list)<(ind):\n",
    "        if len(N_list)==0:\n",
    "            continue\n",
    "        else:\n",
    "            K_list.append(N_list[ind%len(N_list)])\n",
    "            del N_list[ind%len(N_list)]\n",
    "            ind = ind%len(N_list)+K-1\n",
    "print('<', end='')\n",
    "print(*K_list, sep=', ', end='')\n",
    "print('>')"
   ]
  },
  {
   "cell_type": "code",
   "execution_count": null,
   "id": "ee322636",
   "metadata": {},
   "outputs": [],
   "source": [
    "1 2 3 4 5 6 7"
   ]
  },
  {
   "cell_type": "code",
   "execution_count": 20,
   "id": "2d45ddd5",
   "metadata": {},
   "outputs": [
    {
     "name": "stdout",
     "output_type": "stream",
     "text": [
      "7 3\n",
      "ㅡㅡㅡㅡㅡㅡㅡㅡㅡ loop 0 ㅡㅡㅡㅡㅡㅡㅡㅡㅡㅡ\n",
      "case : no more\n",
      "before K : 3\n",
      "before N_list : [1, 2, 3, 4, 5, 6, 7]\n",
      "before K_list : []\n",
      "after K : 5\n",
      "after N_list : [1, 2, 4, 5, 6, 7]\n",
      "after K_list : [3]\n",
      "ㅡㅡㅡㅡㅡㅡㅡㅡㅡ loop 1 ㅡㅡㅡㅡㅡㅡㅡㅡㅡㅡ\n",
      "case : no more\n",
      "before K : 5\n",
      "before N_list : [1, 2, 4, 5, 6, 7]\n",
      "before K_list : [3]\n",
      "after K : 7\n",
      "after N_list : [1, 2, 4, 5, 7]\n",
      "after K_list : [3, 6]\n",
      "ㅡㅡㅡㅡㅡㅡㅡㅡㅡ loop 2 ㅡㅡㅡㅡㅡㅡㅡㅡㅡㅡ\n",
      "case : more\n",
      "before K : 7\n",
      "before N_list : [1, 2, 4, 5, 7]\n",
      "before K_list : [3, 6]\n",
      "after K : 4\n",
      "after N_list : [1, 4, 5, 7]\n",
      "after K_list : [3, 6, 2]\n",
      "ㅡㅡㅡㅡㅡㅡㅡㅡㅡ loop 3 ㅡㅡㅡㅡㅡㅡㅡㅡㅡㅡ\n",
      "case : no more\n",
      "before K : 4\n",
      "before N_list : [1, 4, 5, 7]\n",
      "before K_list : [3, 6, 2]\n",
      "after K : 6\n",
      "after N_list : [1, 4, 5]\n",
      "after K_list : [3, 6, 2, 7]\n",
      "ㅡㅡㅡㅡㅡㅡㅡㅡㅡ loop 4 ㅡㅡㅡㅡㅡㅡㅡㅡㅡㅡ\n",
      "case : more\n",
      "before K : 6\n",
      "before N_list : [1, 4, 5]\n",
      "before K_list : [3, 6, 2, 7]\n",
      "after K : 2\n",
      "after N_list : [1, 4]\n",
      "after K_list : [3, 6, 2, 7, 5]\n",
      "ㅡㅡㅡㅡㅡㅡㅡㅡㅡ loop 5 ㅡㅡㅡㅡㅡㅡㅡㅡㅡㅡ\n",
      "case : no more\n",
      "before K : 2\n",
      "before N_list : [1, 4]\n",
      "before K_list : [3, 6, 2, 7, 5]\n",
      "after K : 4\n",
      "after N_list : [1]\n",
      "after K_list : [3, 6, 2, 7, 5, 4]\n",
      "ㅡㅡㅡㅡㅡㅡㅡㅡㅡ loop 6 ㅡㅡㅡㅡㅡㅡㅡㅡㅡㅡ\n",
      "case : more\n",
      "before K : 4\n",
      "before N_list : [1]\n",
      "before K_list : [3, 6, 2, 7, 5, 4]\n",
      "after K : 4\n",
      "after N_list : []\n",
      "after K_list : [3, 6, 2, 7, 5, 4, 1]\n",
      "<3, 6, 2, 7, 5, 4, 1>\n"
     ]
    }
   ],
   "source": [
    "N, K = map(int, input().split())\n",
    "_K = K\n",
    "N_list = list(range(1, N+1))\n",
    "K_list = []\n",
    "for i in range(N):\n",
    "    print('ㅡㅡㅡㅡㅡㅡㅡㅡㅡ loop', i, 'ㅡㅡㅡㅡㅡㅡㅡㅡㅡㅡ')\n",
    "    if len(N_list)>=K:\n",
    "        print('case : no more')\n",
    "        print('before K :', K)\n",
    "        print('before N_list :', N_list)\n",
    "        print('before K_list :', K_list)\n",
    "        K_list.append(N_list[K-1])\n",
    "        del N_list[K-1]\n",
    "        K += _K-1\n",
    "        print('after K :', K)\n",
    "        print('after N_list :', N_list)\n",
    "        print('after K_list :', K_list)\n",
    "    else:\n",
    "        print('case : more')\n",
    "        print('before K :', K)\n",
    "        print('before N_list :', N_list)\n",
    "        print('before K_list :', K_list)\n",
    "        K_list.append(N_list[(K%len(N_list))-1])\n",
    "        del N_list[(K%len(N_list))-1]\n",
    "        if N_list==[]:\n",
    "            pass\n",
    "        else:\n",
    "            K = (K%(len(N_list)+1))+_K-1\n",
    "        print('after K :', K)\n",
    "        print('after N_list :', N_list)\n",
    "        print('after K_list :', K_list)\n",
    "print('<', end='')\n",
    "print(*K_list, sep=', ', end='')\n",
    "print('>')"
   ]
  },
  {
   "cell_type": "code",
   "execution_count": 42,
   "id": "5df30362",
   "metadata": {},
   "outputs": [
    {
     "name": "stdout",
     "output_type": "stream",
     "text": [
      "7 3\n",
      "<3, 6, 2, 7, 5, 1, 4>\n"
     ]
    }
   ],
   "source": [
    "N, K = map(int, input().split())\n",
    "N_list = list([i, 1] for i in range(1, N+1))\n",
    "K_list = []\n",
    "ind = 0\n",
    "count = 0\n",
    "for j in range(N):\n",
    "    while True:\n",
    "        if N_list[ind][1]==1:\n",
    "            count += 1\n",
    "            if count==K:\n",
    "                K_list.append(N_list[ind][0])\n",
    "                N_list[ind][1]=0\n",
    "                count=0\n",
    "                break\n",
    "            if ind+1>=len(N_list):\n",
    "                ind = 0\n",
    "            else:\n",
    "                ind += 1\n",
    "        else:\n",
    "            if ind+1>=len(N_list):\n",
    "                ind = 0\n",
    "            else:\n",
    "                ind += 1\n",
    "print('<', end='')\n",
    "print(*K_list, sep=', ', end='')\n",
    "print('>')"
   ]
  },
  {
   "cell_type": "code",
   "execution_count": 26,
   "id": "f97a8183",
   "metadata": {},
   "outputs": [
    {
     "name": "stdout",
     "output_type": "stream",
     "text": [
      "7 3\n"
     ]
    },
    {
     "data": {
      "text/plain": [
       "7"
      ]
     },
     "execution_count": 26,
     "metadata": {},
     "output_type": "execute_result"
    }
   ],
   "source": [
    "N, K = map(int, input().split())\n",
    "N_list = list([i, 1] for i in range(1, N+1))\n",
    "K_list = []\n",
    "sum(N_list[s][1] for s in range(len(N_list)))"
   ]
  },
  {
   "cell_type": "code",
   "execution_count": null,
   "id": "1c1f2c63",
   "metadata": {},
   "outputs": [],
   "source": [
    "#N_list의 인덱스 변화와 꺼내올 인덱스간의 간의 최적화 문제는 이렇게 해결됨\n",
    "N, K = map(int, input().split())\n",
    "\n",
    "Nlist = [i for i in range(1, N+1)]\n",
    "\n",
    "i = 0\n",
    "print('<', end='')\n",
    "while Nlist:\n",
    "    i += K-1\n",
    "    print(Nlist.pop(i%len(Nlist)), end='')\n",
    "    i = i%(len(Nlist)+1)\n",
    "    if Nlist:\n",
    "        print(', ', end='')\n",
    "print('>')"
   ]
  }
 ],
 "metadata": {
  "kernelspec": {
   "display_name": "Python 3 (ipykernel)",
   "language": "python",
   "name": "python3"
  },
  "language_info": {
   "codemirror_mode": {
    "name": "ipython",
    "version": 3
   },
   "file_extension": ".py",
   "mimetype": "text/x-python",
   "name": "python",
   "nbconvert_exporter": "python",
   "pygments_lexer": "ipython3",
   "version": "3.9.7"
  }
 },
 "nbformat": 4,
 "nbformat_minor": 5
}
