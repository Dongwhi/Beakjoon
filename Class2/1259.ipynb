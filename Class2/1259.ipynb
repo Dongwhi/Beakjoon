{
 "cells": [
  {
   "cell_type": "markdown",
   "id": "40f7ecb0",
   "metadata": {},
   "source": [
    "문제\n",
    "어떤 단어를 뒤에서부터 읽어도 똑같다면 그 단어를 팰린드롬이라고 한다. 'radar', 'sees'는 팰린드롬이다.\n",
    "\n",
    "수도 팰린드롬으로 취급할 수 있다. 수의 숫자들을 뒤에서부터 읽어도 같다면 그 수는 팰린드롬수다. 121, 12421 등은 팰린드롬수다. 123, 1231은 뒤에서부터 읽으면 다르므로 팰린드롬수가 아니다. 또한 10도 팰린드롬수가 아닌데, 앞에 무의미한 0이 올 수 있다면 010이 되어 팰린드롬수로 취급할 수도 있지만, 특별히 이번 문제에서는 무의미한 0이 앞에 올 수 없다고 하자.\n",
    "\n",
    "입력\n",
    "입력은 여러 개의 테스트 케이스로 이루어져 있으며, 각 줄마다 1 이상 99999 이하의 정수가 주어진다. 입력의 마지막 줄에는 0이 주어지며, 이 줄은 문제에 포함되지 않는다.\n",
    "\n",
    "출력\n",
    "각 줄마다 주어진 수가 팰린드롬수면 'yes', 아니면 'no'를 출력한다."
   ]
  },
  {
   "cell_type": "code",
   "execution_count": 45,
   "id": "7a113166",
   "metadata": {
    "scrolled": true
   },
   "outputs": [
    {
     "name": "stdout",
     "output_type": "stream",
     "text": [
      "0\n"
     ]
    }
   ],
   "source": [
    "w = input()\n",
    "while w!=0:\n",
    "    if w=='0':\n",
    "        break\n",
    "    elif w==w[::-1]:\n",
    "        print('yes')\n",
    "    else:\n",
    "        print('no')"
   ]
  },
  {
   "cell_type": "code",
   "execution_count": 44,
   "id": "238cdbcb",
   "metadata": {},
   "outputs": [
    {
     "name": "stdout",
     "output_type": "stream",
     "text": [
      "0\n"
     ]
    }
   ],
   "source": [
    "def yn(inp):\n",
    "    if inp=='0':\n",
    "        return\n",
    "    elif inp==inp[::-1]:\n",
    "        print('yes')\n",
    "        yn(input())\n",
    "    else:\n",
    "        print('no')\n",
    "        yn(input())\n",
    "yn(input())"
   ]
  },
  {
   "cell_type": "code",
   "execution_count": 43,
   "id": "383f2bd8",
   "metadata": {},
   "outputs": [
    {
     "name": "stdout",
     "output_type": "stream",
     "text": [
      "0\n"
     ]
    }
   ],
   "source": [
    "inp = input()\n",
    "while inp!='0':\n",
    "    if inp==inp[::-1]:\n",
    "        print('yes')\n",
    "        inp = input()\n",
    "    else:\n",
    "        print('no')\n",
    "        inp = input()"
   ]
  },
  {
   "cell_type": "code",
   "execution_count": 42,
   "id": "4a4d5d88",
   "metadata": {},
   "outputs": [
    {
     "name": "stdout",
     "output_type": "stream",
     "text": [
      "0\n"
     ]
    }
   ],
   "source": [
    "while True:\n",
    "    inp = input()\n",
    "    if inp=='0':\n",
    "        break\n",
    "    else:\n",
    "        if inp==inp[::-1]:\n",
    "            print('yes')\n",
    "        else:\n",
    "            print('no')"
   ]
  }
 ],
 "metadata": {
  "kernelspec": {
   "display_name": "Python 3 (ipykernel)",
   "language": "python",
   "name": "python3"
  },
  "language_info": {
   "codemirror_mode": {
    "name": "ipython",
    "version": 3
   },
   "file_extension": ".py",
   "mimetype": "text/x-python",
   "name": "python",
   "nbconvert_exporter": "python",
   "pygments_lexer": "ipython3",
   "version": "3.9.7"
  }
 },
 "nbformat": 4,
 "nbformat_minor": 5
}
