{
 "cells": [
  {
   "cell_type": "markdown",
   "id": "c50bd8ef",
   "metadata": {},
   "source": [
    "문제\n",
    "집에서 시간을 보내던 오영식은 박성원의 부름을 받고 급히 달려왔다. 박성원이 캠프 때 쓸 N개의 랜선을 만들어야 하는데 너무 바빠서 영식이에게 도움을 청했다.\n",
    "\n",
    "이미 오영식은 자체적으로 K개의 랜선을 가지고 있다. 그러나 K개의 랜선은 길이가 제각각이다. 박성원은 랜선을 모두 N개의 같은 길이의 랜선으로 만들고 싶었기 때문에 K개의 랜선을 잘라서 만들어야 한다. 예를 들어 300cm 짜리 랜선에서 140cm 짜리 랜선을 두 개 잘라내면 20cm는 버려야 한다. (이미 자른 랜선은 붙일 수 없다.)\n",
    "\n",
    "편의를 위해 랜선을 자르거나 만들 때 손실되는 길이는 없다고 가정하며, 기존의 K개의 랜선으로 N개의 랜선을 만들 수 없는 경우는 없다고 가정하자. 그리고 자를 때는 항상 센티미터 단위로 정수길이만큼 자른다고 가정하자. N개보다 많이 만드는 것도 N개를 만드는 것에 포함된다. 이때 만들 수 있는 최대 랜선의 길이를 구하는 프로그램을 작성하시오.\n",
    "\n",
    "입력\n",
    "첫째 줄에는 오영식이 이미 가지고 있는 랜선의 개수 K, 그리고 필요한 랜선의 개수 N이 입력된다. K는 1이상 10,000이하의 정수이고, N은 1이상 1,000,000이하의 정수이다. 그리고 항상 K ≦ N 이다. 그 후 K줄에 걸쳐 이미 가지고 있는 각 랜선의 길이가 센티미터 단위의 정수로 입력된다. 랜선의 길이는 231-1보다 작거나 같은 자연수이다.\n",
    "\n",
    "출력\n",
    "첫째 줄에 N개를 만들 수 있는 랜선의 최대 길이를 센티미터 단위의 정수로 출력한다."
   ]
  },
  {
   "cell_type": "code",
   "execution_count": 2,
   "id": "5b468930",
   "metadata": {},
   "outputs": [
    {
     "name": "stdout",
     "output_type": "stream",
     "text": [
      "4 11\n",
      "802\n",
      "743\n",
      "457\n",
      "539\n",
      "200\n"
     ]
    }
   ],
   "source": [
    "K, N = map(int, input().split())\n",
    "length = []\n",
    "for i in range(K):\n",
    "    length.append(int(input()))\n",
    "longest = max(length)\n",
    "for j in range(longest, 0, -1):\n",
    "    summ = 0\n",
    "    for k in range(K):\n",
    "        summ += length[k]//j\n",
    "    if summ >= N:\n",
    "        print(j)\n",
    "        break"
   ]
  },
  {
   "cell_type": "code",
   "execution_count": 6,
   "id": "ebcddee3",
   "metadata": {},
   "outputs": [
    {
     "name": "stdout",
     "output_type": "stream",
     "text": [
      "4 11\n",
      "802\n",
      "743\n",
      "457\n",
      "539\n",
      "length : [802, 743, 539, 457]\n",
      "200\n"
     ]
    }
   ],
   "source": [
    "K, N = map(int, input().split())\n",
    "length = []\n",
    "for i in range(K):\n",
    "    length.append(int(input()))\n",
    "length.sort(reverse=True)\n",
    "\n",
    "for j in range(K):\n",
    "    summ = 0\n",
    "    for k in range(j):\n",
    "        summ += length[k]//length[j]\n",
    "    if summ >= N:\n",
    "        for l in range(length[j], length[j-1]):\n",
    "            summ = 0\n",
    "            for m in range(j):\n",
    "                summ += length[m]//l\n",
    "            if summ < N:\n",
    "                print(l-1)\n",
    "                break\n",
    "        break\n",
    "    else:\n",
    "        not_in_length = True\n",
    "\n",
    "if not_in_length == True:\n",
    "    for n in range(length[-1], 0, -1):\n",
    "        summ = 0\n",
    "        for o in range(K):\n",
    "            summ += length[o]//n\n",
    "        if summ >= N:\n",
    "            print(n)\n",
    "            break"
   ]
  },
  {
   "cell_type": "code",
   "execution_count": 14,
   "id": "98cf2b4d",
   "metadata": {},
   "outputs": [
    {
     "name": "stdout",
     "output_type": "stream",
     "text": [
      "4 11\n",
      "802\n",
      "743\n",
      "457\n",
      "539\n",
      "start : 0 // end : 802\n",
      "start : 0 // end : 400\n",
      "start : 200 // end : 300\n",
      "start : 200 // end : 249\n",
      "start : 200 // end : 223\n",
      "start : 200 // end : 210\n",
      "start : 200 // end : 204\n",
      "start : 200 // end : 201\n",
      "조건 달성\n",
      "200\n"
     ]
    }
   ],
   "source": [
    "#이진탐색으로 간다\n",
    "K, N = map(int, input().split())\n",
    "length = []\n",
    "for i in range(K):\n",
    "    length.append(int(input()))\n",
    "length.sort(reverse=True)\n",
    "\n",
    "def binary_find_lenline(start, end, target, data):\n",
    "    mid = (start+end)//2\n",
    "    summ = 0\n",
    "    for j in range(len(data)):\n",
    "        summ += data[j]//mid\n",
    "    if summ >= target:\n",
    "        if sum(data[x]//((mid+end)//2) for x in range(len(length)))>=target:\n",
    "            for k in range((mid+end)//2, end+1):\n",
    "                summ = 0\n",
    "                for l in range(len(data)):\n",
    "                    summ += data[l]//k\n",
    "                if summ<target:\n",
    "                    print(k-1)\n",
    "                    break\n",
    "            return None\n",
    "        else:\n",
    "            binary_find_lenline(mid, (mid+end)//2, target, data)\n",
    "    else:\n",
    "        binary_find_lenline(start, mid-1, target, data)\n",
    "    \n",
    "binary_find_lenline(0, length[0], N, length)"
   ]
  },
  {
   "cell_type": "code",
   "execution_count": 16,
   "id": "87b0bce0",
   "metadata": {},
   "outputs": [
    {
     "name": "stdout",
     "output_type": "stream",
     "text": [
      "4 11\n",
      "802\n",
      "743\n",
      "457\n",
      "539\n",
      "200\n"
     ]
    }
   ],
   "source": [
    "#위에꺼 시간초과됨\n",
    "#아무래도 끝까지 이진탐색으로만 접근해야할듯\n",
    "#sys로 하면 504ms 에서 132ms로 단축됨\n",
    "\n",
    "K, N = map(int, input().split())\n",
    "length = []\n",
    "for i in range(K):\n",
    "    length.append(int(input()))\n",
    "length.sort(reverse=True)\n",
    "\n",
    "def binary_find_lenline(start, end, target, data):\n",
    "    if start==end or start+1 == end:\n",
    "        print(start)\n",
    "    else:\n",
    "        mid = (start+end)//2\n",
    "        summ = 0\n",
    "        for j in range(len(data)):\n",
    "            summ += data[j]//mid\n",
    "        if summ >= target:\n",
    "            if sum(data[x]//((mid+end)//2) for x in range(len(length)))>=target:\n",
    "                binary_find_lenline((mid+end)//2, end, target, data)\n",
    "            else:\n",
    "                binary_find_lenline(mid, ((mid+end)//2), target, data)\n",
    "        else:\n",
    "            binary_find_lenline(start, mid, target, data)\n",
    "    \n",
    "if len(set(length))==1 and K==N:\n",
    "    print(length[0])\n",
    "else:\n",
    "    binary_find_lenline(1, length[0], N, length)"
   ]
  },
  {
   "cell_type": "code",
   "execution_count": null,
   "id": "eaea0459",
   "metadata": {},
   "outputs": [],
   "source": [
    "#위에 이진탐색을 간단하게 나타낸 답안\n",
    "#이게 되고 속도도 훨신 빠름\n",
    "import sys\n",
    "\n",
    "input = sys.stdin.readline\n",
    "k, n = map(int,input().rstrip().split())\n",
    "A = []\n",
    "for _ in range(k):\n",
    "    A.append(int(input()))\n",
    "start = 1\n",
    "end = max(A)\n",
    "while start<=end:\n",
    "    mid = (start+end)//2\n",
    "    result = 0\n",
    "    for i in A:\n",
    "        result+=i//mid\n",
    "    if result>=n: start=mid+1\n",
    "    else: end = mid-1\n",
    "print(end)"
   ]
  },
  {
   "cell_type": "code",
   "execution_count": 25,
   "id": "bc191174",
   "metadata": {},
   "outputs": [
    {
     "ename": "ValueError",
     "evalue": "not enough values to unpack (expected 2, got 0)",
     "output_type": "error",
     "traceback": [
      "\u001b[1;31m---------------------------------------------------------------------------\u001b[0m",
      "\u001b[1;31mValueError\u001b[0m                                Traceback (most recent call last)",
      "\u001b[1;32m~\\AppData\\Local\\Temp/ipykernel_130072/347796288.py\u001b[0m in \u001b[0;36m<module>\u001b[1;34m\u001b[0m\n\u001b[0;32m      1\u001b[0m \u001b[1;31m#위 답안처럼 내 코드를 바꾼다면\u001b[0m\u001b[1;33m\u001b[0m\u001b[1;33m\u001b[0m\u001b[0m\n\u001b[0;32m      2\u001b[0m \u001b[1;32mimport\u001b[0m \u001b[0msys\u001b[0m\u001b[1;33m\u001b[0m\u001b[1;33m\u001b[0m\u001b[0m\n\u001b[1;32m----> 3\u001b[1;33m \u001b[0mK\u001b[0m\u001b[1;33m,\u001b[0m \u001b[0mN\u001b[0m \u001b[1;33m=\u001b[0m \u001b[0mmap\u001b[0m\u001b[1;33m(\u001b[0m\u001b[0mint\u001b[0m\u001b[1;33m,\u001b[0m \u001b[0msys\u001b[0m\u001b[1;33m.\u001b[0m\u001b[0mstdin\u001b[0m\u001b[1;33m.\u001b[0m\u001b[0mreadline\u001b[0m\u001b[1;33m(\u001b[0m\u001b[1;33m)\u001b[0m\u001b[1;33m.\u001b[0m\u001b[0msplit\u001b[0m\u001b[1;33m(\u001b[0m\u001b[1;33m)\u001b[0m\u001b[1;33m)\u001b[0m\u001b[1;33m\u001b[0m\u001b[1;33m\u001b[0m\u001b[0m\n\u001b[0m\u001b[0;32m      4\u001b[0m \u001b[0mlength\u001b[0m \u001b[1;33m=\u001b[0m \u001b[1;33m[\u001b[0m\u001b[1;33m]\u001b[0m\u001b[1;33m\u001b[0m\u001b[1;33m\u001b[0m\u001b[0m\n\u001b[0;32m      5\u001b[0m \u001b[1;32mfor\u001b[0m \u001b[0m_\u001b[0m \u001b[1;32min\u001b[0m \u001b[0mrange\u001b[0m\u001b[1;33m(\u001b[0m\u001b[0mK\u001b[0m\u001b[1;33m)\u001b[0m\u001b[1;33m:\u001b[0m\u001b[1;33m\u001b[0m\u001b[1;33m\u001b[0m\u001b[0m\n",
      "\u001b[1;31mValueError\u001b[0m: not enough values to unpack (expected 2, got 0)"
     ]
    }
   ],
   "source": [
    "#위 답안처럼 내 코드를 바꾼다면\n",
    "import sys\n",
    "K, N = map(int, sys.stdin.readline().split())\n",
    "length = []\n",
    "for _ in range(K):\n",
    "    length.append(int(sys.stdin.readline()))\n",
    "\n",
    "def binary_find_lenline(start, end, target, data):\n",
    "    if start<end:\n",
    "        mid = (start+end)//2\n",
    "        summ = 0\n",
    "        for i in data:\n",
    "            summ += i//mid\n",
    "        if summ >= target:\n",
    "            binary_find_lenline(mid+1, end, target, data)\n",
    "        else:\n",
    "            binary_find_lenline(start, mid-1, target, data)\n",
    "    else:\n",
    "        summ = 0\n",
    "        for j in data:\n",
    "            summ += j//start\n",
    "        if summ>=target:\n",
    "            print(start)\n",
    "        else:\n",
    "            print(start-1)\n",
    "binary_find_lenline(1, max(length), N, length)"
   ]
  },
  {
   "cell_type": "code",
   "execution_count": 15,
   "id": "3dd21136",
   "metadata": {},
   "outputs": [
    {
     "data": {
      "text/plain": [
       "1"
      ]
     },
     "execution_count": 15,
     "metadata": {},
     "output_type": "execute_result"
    }
   ],
   "source": [
    "lis = [1, 1, 1, 1, 1]\n",
    "len(set(lis))"
   ]
  }
 ],
 "metadata": {
  "kernelspec": {
   "display_name": "Python 3 (ipykernel)",
   "language": "python",
   "name": "python3"
  },
  "language_info": {
   "codemirror_mode": {
    "name": "ipython",
    "version": 3
   },
   "file_extension": ".py",
   "mimetype": "text/x-python",
   "name": "python",
   "nbconvert_exporter": "python",
   "pygments_lexer": "ipython3",
   "version": "3.9.7"
  }
 },
 "nbformat": 4,
 "nbformat_minor": 5
}
