{
 "cells": [
  {
   "cell_type": "markdown",
   "id": "022e102d",
   "metadata": {},
   "source": [
    "문제\n",
    "팀 레드시프트는 대회 준비를 하다가 지루해져서 샌드박스 게임인 ‘마인크래프트’를 켰다. 마인크래프트는 1 × 1 × 1(세로, 가로, 높이) 크기의 블록들로 이루어진 3차원 세계에서 자유롭게 땅을 파거나 집을 지을 수 있는 게임이다.\n",
    "\n",
    "목재를 충분히 모은 lvalue는 집을 짓기로 하였다. 하지만 고르지 않은 땅에는 집을 지을 수 없기 때문에 땅의 높이를 모두 동일하게 만드는 ‘땅 고르기’ 작업을 해야 한다.\n",
    "\n",
    "lvalue는 세로 N, 가로 M 크기의 집터를 골랐다. 집터 맨 왼쪽 위의 좌표는 (0, 0)이다. 우리의 목적은 이 집터 내의 땅의 높이를 일정하게 바꾸는 것이다. 우리는 다음과 같은 두 종류의 작업을 할 수 있다.\n",
    "\n",
    "좌표 (i, j)의 가장 위에 있는 블록을 제거하여 인벤토리에 넣는다.\n",
    "인벤토리에서 블록 하나를 꺼내어 좌표 (i, j)의 가장 위에 있는 블록 위에 놓는다.\n",
    "1번 작업은 2초가 걸리며, 2번 작업은 1초가 걸린다. 밤에는 무서운 몬스터들이 나오기 때문에 최대한 빨리 땅 고르기 작업을 마쳐야 한다. ‘땅 고르기’ 작업에 걸리는 최소 시간과 그 경우 땅의 높이를 출력하시오.\n",
    "\n",
    "단, 집터 아래에 동굴 등 빈 공간은 존재하지 않으며, 집터 바깥에서 블록을 가져올 수 없다. 또한, 작업을 시작할 때 인벤토리에는 B개의 블록이 들어 있다. 땅의 높이는 256블록을 초과할 수 없으며, 음수가 될 수 없다.\n",
    "\n",
    "입력\n",
    "첫째 줄에 N, M, B가 주어진다. (1 ≤ M, N ≤ 500, 0 ≤ B ≤ 6.4 × 107)\n",
    "\n",
    "둘째 줄부터 N개의 줄에 각각 M개의 정수로 땅의 높이가 주어진다. (i + 2)번째 줄의 (j + 1)번째 수는 좌표 (i, j)에서의 땅의 높이를 나타낸다. 땅의 높이는 256보다 작거나 같은 자연수 또는 0이다.\n",
    "\n",
    "출력\n",
    "첫째 줄에 땅을 고르는 데 걸리는 시간과 땅의 높이를 출력하시오. 답이 여러 개 있다면 그중에서 땅의 높이가 가장 높은 것을 출력하시오."
   ]
  },
  {
   "cell_type": "code",
   "execution_count": 9,
   "id": "b1069df4",
   "metadata": {},
   "outputs": [
    {
     "name": "stdout",
     "output_type": "stream",
     "text": [
      "3 4 1\n",
      "64 64 64 64\n",
      "64 64 64 64\n",
      "64 64 64 63\n",
      "1 64\n"
     ]
    }
   ],
   "source": [
    "#시간초과(sys버전도)\n",
    "N, M, B = map(int, input().split())\n",
    "ground = []\n",
    "for _ in range(N):\n",
    "    ground.append(list(map(int, input().split())))\n",
    "start = min(map(min, ground))\n",
    "end = max(map(max, ground))\n",
    "\n",
    "def under_over_sum(N, M, B, z, data):\n",
    "    under_sum = 0\n",
    "    over_sum = 0\n",
    "    for i in range(N):\n",
    "        for j in range(M):\n",
    "            if data[i][j]<z:\n",
    "                under_sum += z-data[i][j]\n",
    "            elif data[i][j]>z:\n",
    "                over_sum += data[i][j]-z\n",
    "    if B+over_sum>=under_sum:\n",
    "        return True\n",
    "    else:\n",
    "        return False\n",
    "\n",
    "def time_sum(N, M, B, z, data):\n",
    "    time = 0\n",
    "    under_sum = 0\n",
    "    over_sum = 0\n",
    "    for i in range(N):\n",
    "        for j in range(M):\n",
    "            if data[i][j]<z:\n",
    "                under_sum += z-data[i][j]\n",
    "            elif data[i][j]>z:\n",
    "                over_sum += data[i][j]-z\n",
    "    time = over_sum*2 + under_sum\n",
    "    return time\n",
    "\n",
    "while start>=end:\n",
    "    mid = (start+end)//2\n",
    "    if under_over_sum(N, M, B, mid, ground):\n",
    "        start = mid+1\n",
    "    else:\n",
    "        end = mid-1\n",
    "\n",
    "start = 0\n",
    "z_time_list = []\n",
    "while start<=end:\n",
    "    z_time_list.append(time_sum(N, M, B, start, ground))\n",
    "    start += 1\n",
    "\n",
    "if z_time_list.count(min(z_time_list))==1:\n",
    "    print(min(z_time_list), z_time_list.index(min(z_time_list)))\n",
    "else:\n",
    "    print(min(z_time_list), max(x if min(z_time_list)==z_time_list[x] else None for x in range(end+1)))"
   ]
  },
  {
   "cell_type": "code",
   "execution_count": 46,
   "id": "f9cca95b",
   "metadata": {},
   "outputs": [
    {
     "name": "stdout",
     "output_type": "stream",
     "text": [
      "3 4 1\n",
      "64 64 64 64\n",
      "64 64 64 64\n",
      "64 64 64 63\n",
      "1 64\n"
     ]
    }
   ],
   "source": [
    "#아이디어 : 각 층의 블럭 수를 더한 새로운 수열을 만든다\n",
    "#sys버전으로 시간초과함\n",
    "N, M, B = map(int, input().split())\n",
    "flour_sum = [0]*257\n",
    "for _ in range(N):\n",
    "    lis = list(map(int, input().split()))\n",
    "    for i in lis:\n",
    "        flour_sum[0:i+1] = [flour_sum[x]+1 for x in range(i+1)]\n",
    "flour_min = flour_sum.count(N*M) #꽉 차있는 층 바로 위층\n",
    "z = flour_min-1 #꽉 차있는 층들의 가장 위층\n",
    "z_flour = []\n",
    "z_flour_time = []\n",
    "\n",
    "while True:\n",
    "    over_sum = sum(x for x in flour_sum[z+1:])\n",
    "    under_sum = sum((N*M - x) for x in flour_sum[:z+1])\n",
    "    if z>256:\n",
    "        break\n",
    "    elif B+over_sum>=under_sum:\n",
    "        z_flour.append(z)\n",
    "        z_flour_time.append(over_sum*2+under_sum)\n",
    "        z+=1\n",
    "    else:\n",
    "        break\n",
    "\n",
    "if z_flour_time.count(min(z_flour_time))==1:\n",
    "    print(min(z_flour_time), z_flour[z_flour_time.index(min(z_flour_time))])\n",
    "else:\n",
    "    print(min(z_flour_time), z_flour[max(x if min(z_flour_time)==z_flour_time[x] else None for x in range(len(z_flour_time)))])"
   ]
  },
  {
   "cell_type": "code",
   "execution_count": 48,
   "id": "e3be0c72",
   "metadata": {},
   "outputs": [
    {
     "name": "stdout",
     "output_type": "stream",
     "text": [
      "3 4 1\n",
      "64 64 64 64\n",
      "64 64 64 64\n",
      "64 64 64 63\n",
      "1 64\n"
     ]
    }
   ],
   "source": [
    "N, M, B = map(int, input().split())\n",
    "flour_sum = [0]*257\n",
    "for _ in range(N):\n",
    "    lis = list(map(int, input().split()))\n",
    "    for i in lis:\n",
    "        flour_sum[0:i+1] = [flour_sum[x]+1 for x in range(i+1)]\n",
    "z = 0\n",
    "z_flour_time = []\n",
    "while True:\n",
    "    over_sum = sum(x for x in flour_sum[z+1:])\n",
    "    under_sum = sum((N*M - x) for x in flour_sum[:z+1])\n",
    "    if z>256:\n",
    "        break\n",
    "    elif B+over_sum>=under_sum:\n",
    "        z_flour_time.append(over_sum*2+under_sum)\n",
    "        z+=1\n",
    "    else:\n",
    "        break\n",
    "\n",
    "if z_flour_time.count(min(z_flour_time))==1:\n",
    "    print(min(z_flour_time), z_flour_time.index(min(z_flour_time)))\n",
    "else:\n",
    "    print(min(z_flour_time), max(x if min(z_flour_time)==z_flour_time[x] else None for x in range(len(z_flour_time))))"
   ]
  },
  {
   "cell_type": "code",
   "execution_count": 54,
   "id": "dfa01062",
   "metadata": {},
   "outputs": [
    {
     "name": "stdout",
     "output_type": "stream",
     "text": [
      "3 4 1\n",
      "64 64 64 64\n",
      "64 64 64 64\n",
      "64 64 64 63\n",
      "64 1\n"
     ]
    }
   ],
   "source": [
    "N, M, B = map(int, input().split())\n",
    "flour_sum = [0]*257\n",
    "for _ in range(N):\n",
    "    lis = list(map(int, input().split()))\n",
    "    for i in lis:\n",
    "        flour_sum[0:i+1] = [flour_sum[x]+1 for x in range(i+1)]\n",
    "z = 0\n",
    "answer_z = 0\n",
    "z_flour_time = sum(flour_sum)*2\n",
    "while True:\n",
    "    over_sum = sum(x for x in flour_sum[z+1:])\n",
    "    under_sum = sum((N*M - x) for x in flour_sum[:z+1])\n",
    "    if z>256:\n",
    "        break\n",
    "    elif B+over_sum>=under_sum:\n",
    "        if over_sum*2+under_sum<=z_flour_time:\n",
    "            z_flour_time = over_sum*2+under_sum\n",
    "            answer_z = z\n",
    "            z+=1\n",
    "        else:\n",
    "            z+=1\n",
    "    else:\n",
    "        break\n",
    "\n",
    "print(answer_z, z_flour_time)"
   ]
  },
  {
   "cell_type": "code",
   "execution_count": null,
   "id": "5622ac04",
   "metadata": {},
   "outputs": [],
   "source": [
    "#인터넷 답안. 시간초과함\n",
    "import sys\n",
    "\n",
    "n, m, b = map(int, sys.stdin.readline().split())\n",
    "graph = [list(map(int, sys.stdin.readline().split())) for _ in range(n)]\n",
    "answer = sys.maxsize\n",
    "idx = 0\n",
    "\n",
    "for target in range(257):\n",
    "    max_target, min_target = 0, 0\n",
    "    for i in range(n):\n",
    "        for j in range(m):\n",
    "            if graph[i][j] >= target:\n",
    "                max_target += graph[i][j] - target\n",
    "            else:\n",
    "                min_target += target - graph[i][j]\n",
    "    if max_target + b >= min_target:\n",
    "        if min_target + (max_target * 2) <= answer:\n",
    "            answer = min_target + (max_target * 2) \n",
    "            idx = target\n",
    "\n",
    "print(answer, idx)"
   ]
  },
  {
   "cell_type": "code",
   "execution_count": null,
   "id": "851a6f07",
   "metadata": {},
   "outputs": [],
   "source": [
    "#인터넷 답안. 맞긴 했는데 ㅅㅂ collections 이런 라이브러리 쓰기 싫다\n",
    "import sys\n",
    "from collections import Counter\n",
    "\n",
    "n, m, inven = map(int, sys.stdin.readline().split())\n",
    "ground = []\n",
    "for _ in range(n): ground += map(int, sys.stdin.readline().split())\n",
    "height, time = 0, 1000000000000000\n",
    "\n",
    "min_h = min(ground)\n",
    "max_h = max(ground)\n",
    "_sum = sum(ground)\n",
    "ground = dict(Counter(ground))\n",
    "\n",
    "for i in range(min_h, max_h + 1):\n",
    "    if _sum + inven >= i * n * m:\n",
    "        cur_time = 0\n",
    "        for key in ground:\n",
    "            if key > i:\n",
    "                cur_time += (key - i) * ground[key] * 2\n",
    "            elif key < i:\n",
    "                cur_time += (i - key) * ground[key]\n",
    "        if cur_time <= time:\n",
    "            time = cur_time\n",
    "            height = i\n",
    "\n",
    "print(time, height)"
   ]
  },
  {
   "cell_type": "code",
   "execution_count": 45,
   "id": "3483fbf9",
   "metadata": {},
   "outputs": [
    {
     "data": {
      "text/plain": [
       "0"
      ]
     },
     "execution_count": 45,
     "metadata": {},
     "output_type": "execute_result"
    }
   ],
   "source": [
    "lis = [[0, 1, 2, 3], [1, 2, 3], [3, 4, 5, 6, 7], [1, 3, 5, 7, 9]]\n",
    "lis.count(1)"
   ]
  },
  {
   "cell_type": "code",
   "execution_count": 52,
   "id": "4dc735e2",
   "metadata": {},
   "outputs": [
    {
     "data": {
      "text/plain": [
       "62"
      ]
     },
     "execution_count": 52,
     "metadata": {},
     "output_type": "execute_result"
    }
   ],
   "source": [
    "lis = [[0, 1, 2, 3], [1, 2, 3], [3, 4, 5, 6, 7], [1, 3, 5, 7, 9]]\n",
    "sum(map(sum, lis))"
   ]
  },
  {
   "cell_type": "code",
   "execution_count": null,
   "id": "d80db881",
   "metadata": {},
   "outputs": [],
   "source": [
    "lis = [0, 0, 0, 1, 1, 2, 3, 3, 3, 4, 5, 5, 6, 6, 6, 7, 8, 9]"
   ]
  },
  {
   "cell_type": "code",
   "execution_count": 17,
   "id": "df4332a9",
   "metadata": {},
   "outputs": [
    {
     "name": "stdout",
     "output_type": "stream",
     "text": [
      "[]\n"
     ]
    }
   ],
   "source": [
    "print(list(range(103, 100)))\n"
   ]
  },
  {
   "cell_type": "code",
   "execution_count": 21,
   "id": "e646df12",
   "metadata": {},
   "outputs": [
    {
     "data": {
      "text/plain": [
       "0"
      ]
     },
     "execution_count": 21,
     "metadata": {},
     "output_type": "execute_result"
    }
   ],
   "source": [
    "lis = [1, 2, 3, 4, 5]\n",
    "sum(lis[5:])"
   ]
  },
  {
   "cell_type": "code",
   "execution_count": 24,
   "id": "d731a907",
   "metadata": {},
   "outputs": [
    {
     "data": {
      "text/plain": [
       "[1, 2, 3, 4, 5, 1]"
      ]
     },
     "execution_count": 24,
     "metadata": {},
     "output_type": "execute_result"
    }
   ],
   "source": [
    "lis = [1, 2, 3, 4, 5]\n",
    "lis + [1]"
   ]
  },
  {
   "cell_type": "code",
   "execution_count": 25,
   "id": "837c792c",
   "metadata": {},
   "outputs": [
    {
     "data": {
      "text/plain": [
       "2"
      ]
     },
     "execution_count": 25,
     "metadata": {},
     "output_type": "execute_result"
    }
   ],
   "source": [
    "lis = [1, 2, 3, 4, 5]\n",
    "lis[0] + 1"
   ]
  },
  {
   "cell_type": "code",
   "execution_count": 26,
   "id": "9ffe2a2e",
   "metadata": {},
   "outputs": [
    {
     "data": {
      "text/plain": [
       "[2, 2, 3, 4, 5]"
      ]
     },
     "execution_count": 26,
     "metadata": {},
     "output_type": "execute_result"
    }
   ],
   "source": [
    "lis = [1, 2, 3, 4, 5]\n",
    "lis[0] += 1\n",
    "lis"
   ]
  },
  {
   "cell_type": "code",
   "execution_count": 28,
   "id": "aabfeaf3",
   "metadata": {},
   "outputs": [
    {
     "ename": "TypeError",
     "evalue": "'int' object is not iterable",
     "output_type": "error",
     "traceback": [
      "\u001b[1;31m---------------------------------------------------------------------------\u001b[0m",
      "\u001b[1;31mTypeError\u001b[0m                                 Traceback (most recent call last)",
      "\u001b[1;32m~\\AppData\\Local\\Temp/ipykernel_143576/1735194655.py\u001b[0m in \u001b[0;36m<module>\u001b[1;34m\u001b[0m\n\u001b[0;32m      1\u001b[0m \u001b[0mlis\u001b[0m \u001b[1;33m=\u001b[0m \u001b[1;33m[\u001b[0m\u001b[1;36m1\u001b[0m\u001b[1;33m,\u001b[0m \u001b[1;36m2\u001b[0m\u001b[1;33m,\u001b[0m \u001b[1;36m3\u001b[0m\u001b[1;33m,\u001b[0m \u001b[1;36m4\u001b[0m\u001b[1;33m,\u001b[0m \u001b[1;36m5\u001b[0m\u001b[1;33m]\u001b[0m\u001b[1;33m\u001b[0m\u001b[1;33m\u001b[0m\u001b[0m\n\u001b[1;32m----> 2\u001b[1;33m \u001b[0mlis\u001b[0m\u001b[1;33m[\u001b[0m\u001b[1;36m0\u001b[0m\u001b[1;33m:\u001b[0m\u001b[1;36m1\u001b[0m\u001b[1;33m]\u001b[0m \u001b[1;33m+=\u001b[0m \u001b[1;36m1\u001b[0m\u001b[1;33m\u001b[0m\u001b[1;33m\u001b[0m\u001b[0m\n\u001b[0m",
      "\u001b[1;31mTypeError\u001b[0m: 'int' object is not iterable"
     ]
    }
   ],
   "source": [
    "lis = [1, 2, 3, 4, 5]\n",
    "lis[0:1] += 1"
   ]
  },
  {
   "cell_type": "code",
   "execution_count": 31,
   "id": "93171f0e",
   "metadata": {},
   "outputs": [
    {
     "data": {
      "text/plain": [
       "[1, 1, 1, 3, 4, 5]"
      ]
     },
     "execution_count": 31,
     "metadata": {},
     "output_type": "execute_result"
    }
   ],
   "source": [
    "lis = [1, 2, 3, 4, 5]\n",
    "lis[0:2] = [1, 1, 1]\n",
    "lis"
   ]
  },
  {
   "cell_type": "code",
   "execution_count": 38,
   "id": "0e1b24eb",
   "metadata": {},
   "outputs": [
    {
     "data": {
      "text/plain": [
       "[1, 2, 3, 4, 5]"
      ]
     },
     "execution_count": 38,
     "metadata": {},
     "output_type": "execute_result"
    }
   ],
   "source": [
    "lis = [1, 2, 3, 4, 5]\n",
    "lis[0:7]"
   ]
  },
  {
   "cell_type": "code",
   "execution_count": 39,
   "id": "b84d9732",
   "metadata": {},
   "outputs": [
    {
     "data": {
      "text/plain": [
       "[4, 5]"
      ]
     },
     "execution_count": 39,
     "metadata": {},
     "output_type": "execute_result"
    }
   ],
   "source": [
    "lis = [1, 2, 3, 4, 5]\n",
    "lis[3:]"
   ]
  },
  {
   "cell_type": "code",
   "execution_count": 43,
   "id": "0faaace4",
   "metadata": {},
   "outputs": [
    {
     "data": {
      "text/plain": [
       "[1, 2]"
      ]
     },
     "execution_count": 43,
     "metadata": {},
     "output_type": "execute_result"
    }
   ],
   "source": [
    "lis = [1, 2, 3, 4, 5]\n",
    "lis[:2]"
   ]
  }
 ],
 "metadata": {
  "kernelspec": {
   "display_name": "Python 3 (ipykernel)",
   "language": "python",
   "name": "python3"
  },
  "language_info": {
   "codemirror_mode": {
    "name": "ipython",
    "version": 3
   },
   "file_extension": ".py",
   "mimetype": "text/x-python",
   "name": "python",
   "nbconvert_exporter": "python",
   "pygments_lexer": "ipython3",
   "version": "3.9.7"
  }
 },
 "nbformat": 4,
 "nbformat_minor": 5
}
