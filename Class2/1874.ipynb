{
 "cells": [
  {
   "cell_type": "markdown",
   "id": "b68737e2",
   "metadata": {},
   "source": [
    "문제\n",
    "스택 (stack)은 기본적인 자료구조 중 하나로, 컴퓨터 프로그램을 작성할 때 자주 이용되는 개념이다. 스택은 자료를 넣는 (push) 입구와 자료를 뽑는 (pop) 입구가 같아 제일 나중에 들어간 자료가 제일 먼저 나오는 (LIFO, Last in First out) 특성을 가지고 있다.\n",
    "\n",
    "1부터 n까지의 수를 스택에 넣었다가 뽑아 늘어놓음으로써, 하나의 수열을 만들 수 있다. 이때, 스택에 push하는 순서는 반드시 오름차순을 지키도록 한다고 하자. 임의의 수열이 주어졌을 때 스택을 이용해 그 수열을 만들 수 있는지 없는지, 있다면 어떤 순서로 push와 pop 연산을 수행해야 하는지를 알아낼 수 있다. 이를 계산하는 프로그램을 작성하라.\n",
    "\n",
    "입력\n",
    "첫 줄에 n (1 ≤ n ≤ 100,000)이 주어진다. 둘째 줄부터 n개의 줄에는 수열을 이루는 1이상 n이하의 정수가 하나씩 순서대로 주어진다. 물론 같은 정수가 두 번 나오는 일은 없다.\n",
    "\n",
    "출력\n",
    "입력된 수열을 만들기 위해 필요한 연산을 한 줄에 한 개씩 출력한다. push연산은 +로, pop 연산은 -로 표현하도록 한다. 불가능한 경우 NO를 출력한다."
   ]
  },
  {
   "cell_type": "code",
   "execution_count": 22,
   "id": "f5dc2576",
   "metadata": {},
   "outputs": [
    {
     "name": "stdout",
     "output_type": "stream",
     "text": [
      "5\n",
      "1\n",
      "2\n",
      "5\n",
      "3\n",
      "4\n",
      "NO\n"
     ]
    }
   ],
   "source": [
    "#sys로 바꿔야함\n",
    "#가장 큰 수를 넣기 전까진 모든 나오는 수는 연결된 내림차순이거나 그 내림차순의 시작수보다 큰 수여야함\n",
    "#가장 큰 수 넣으면 남아있는 수들 다 빼야함\n",
    "n = int(input())\n",
    "arr = []\n",
    "for _ in range(n):\n",
    "    arr.append(int(input()))\n",
    "\n",
    "is_possible=True\n",
    "ind = 0\n",
    "now_big = arr[0]\n",
    "cal = ['+']*arr[0]+['-']\n",
    "while True:\n",
    "    if arr[ind]!=n:\n",
    "        if arr[ind]==arr[ind+1]+1:\n",
    "            cal.append('-')\n",
    "            ind += 1\n",
    "        elif now_big<arr[ind+1]:\n",
    "            cal.append('+')\n",
    "            now_big += 1\n",
    "        elif now_big==arr[ind+1]:\n",
    "            cal.append('-')\n",
    "            ind += 1\n",
    "        else:\n",
    "            print('NO')\n",
    "            is_possible=False\n",
    "            break\n",
    "    else:\n",
    "        if sorted(arr[arr.index(n):], reverse=True)==arr[arr.index(n):]:\n",
    "            cal.extend(['-']*(len(arr[arr.index(n):])-1))\n",
    "            break\n",
    "        else:\n",
    "            print('NO')\n",
    "            is_possible=False\n",
    "            break\n",
    "if is_possible==True:\n",
    "    print(*cal, sep='\\n')"
   ]
  },
  {
   "cell_type": "code",
   "execution_count": null,
   "id": "91dd1e87",
   "metadata": {},
   "outputs": [],
   "source": [
    "#sys 넣은버전\n",
    "#틀림, 2-3-1같이 합당하게 2이상 작은 수가 나올 때를 처리 못함. 아래칸에 새로작성함\n",
    "import sys\n",
    "n = int(sys.stdin.readline())\n",
    "arr = []\n",
    "for _ in range(n):\n",
    "    arr.append(int(sys.stdin.readline()))\n",
    "\n",
    "is_possible=True\n",
    "ind = 0\n",
    "now_big = arr[0]\n",
    "cal = ['+']*arr[0]+['-']\n",
    "while True:\n",
    "    if arr[ind]!=n:\n",
    "        if arr[ind]==arr[ind+1]+1:\n",
    "            cal.append('-')\n",
    "            ind += 1\n",
    "        elif now_big<arr[ind+1]:\n",
    "            cal.append('+')\n",
    "            now_big += 1\n",
    "        elif now_big==arr[ind+1]:\n",
    "            cal.append('-')\n",
    "            ind += 1\n",
    "        else:\n",
    "            print('NO')\n",
    "            is_possible=False\n",
    "            break\n",
    "    else:\n",
    "        if sorted(arr[arr.index(n):], reverse=True)==arr[arr.index(n):]:\n",
    "            cal.extend(['-']*(len(arr[arr.index(n):])-1))\n",
    "            break\n",
    "        else:\n",
    "            print('NO')\n",
    "            is_possible=False\n",
    "            break\n",
    "if is_possible==True:\n",
    "    print(*cal, sep='\\n')"
   ]
  },
  {
   "cell_type": "code",
   "execution_count": 51,
   "id": "8b8ef92b",
   "metadata": {},
   "outputs": [
    {
     "name": "stdout",
     "output_type": "stream",
     "text": [
      "8\n",
      "2\n",
      "3\n",
      "4\n",
      "1\n",
      "7\n",
      "6\n",
      "8\n",
      "5\n",
      "+\n",
      "+\n",
      "-\n",
      "+\n",
      "-\n",
      "+\n",
      "-\n",
      "-\n",
      "+\n",
      "+\n",
      "+\n",
      "-\n",
      "-\n",
      "+\n",
      "-\n",
      "-\n"
     ]
    }
   ],
   "source": [
    "n = int(input())\n",
    "arr = []\n",
    "for _ in range(n):\n",
    "    arr.append(int(input()))\n",
    "\n",
    "is_possible=True\n",
    "ind = 0\n",
    "now_big = arr[0]\n",
    "cal = ['+']*arr[0]+['-']\n",
    "while True:\n",
    "    if is_possible==False:\n",
    "        break\n",
    "    if arr[ind]!=n:\n",
    "        if arr[ind]==arr[ind+1]+1:\n",
    "            cal.append('-')\n",
    "            ind += 1\n",
    "        elif now_big<arr[ind+1]:\n",
    "            cal.append('+')\n",
    "            now_big += 1\n",
    "        elif now_big==arr[ind+1]:\n",
    "            cal.append('-')\n",
    "            ind += 1\n",
    "        elif arr[ind]>arr[ind+1]+1:\n",
    "            for i in range(arr[ind+1]+1, arr[ind]):\n",
    "                if i not in arr[0:ind]:\n",
    "                    print('NO')\n",
    "                    is_possible=False\n",
    "                    break\n",
    "            if is_possible==True:\n",
    "                cal.append('-')\n",
    "                ind += 1\n",
    "        else:\n",
    "            print('NO')\n",
    "            is_possible=False\n",
    "            break\n",
    "    else:\n",
    "        if sorted(arr[arr.index(n):], reverse=True)==arr[arr.index(n):]:\n",
    "            cal.extend(['-']*(len(arr[arr.index(n):])-1))\n",
    "            break\n",
    "        else:\n",
    "            print('NO')\n",
    "            is_possible=False\n",
    "            break\n",
    "if is_possible==True:\n",
    "    print(*cal, sep='\\n')"
   ]
  },
  {
   "cell_type": "code",
   "execution_count": null,
   "id": "82dc9b99",
   "metadata": {},
   "outputs": [],
   "source": [
    "#바로 위에꺼 sys버전\n",
    "#시간초과됨. 갈아엎어야겠음\n",
    "import sys\n",
    "n = int(sys.stdin.readline())\n",
    "arr = []\n",
    "for _ in range(n):\n",
    "    arr.append(int(sys.stdin.readline()))\n",
    "\n",
    "is_possible=True\n",
    "ind = 0\n",
    "now_big = arr[0]\n",
    "cal = ['+']*arr[0]+['-']\n",
    "while True:\n",
    "    if is_possible==False:\n",
    "        break\n",
    "    if arr[ind]!=n:\n",
    "        if arr[ind]==arr[ind+1]+1:\n",
    "            cal.append('-')\n",
    "            ind += 1\n",
    "        elif now_big<arr[ind+1]:\n",
    "            cal.append('+')\n",
    "            now_big += 1\n",
    "        elif now_big==arr[ind+1]:\n",
    "            cal.append('-')\n",
    "            ind += 1\n",
    "        elif arr[ind]>arr[ind+1]+1:\n",
    "            for i in range(arr[ind+1]+1, arr[ind]):\n",
    "                if i not in arr[0:ind]:\n",
    "                    print('NO')\n",
    "                    is_possible=False\n",
    "                    break\n",
    "            if is_possible==True:\n",
    "                cal.append('-')\n",
    "                ind += 1\n",
    "        else:\n",
    "            print('NO')\n",
    "            is_possible=False\n",
    "            break\n",
    "    else:\n",
    "        if sorted(arr[arr.index(n):], reverse=True)==arr[arr.index(n):]:\n",
    "            cal.extend(['-']*(len(arr[arr.index(n):])-1))\n",
    "            break\n",
    "        else:\n",
    "            print('NO')\n",
    "            is_possible=False\n",
    "            break\n",
    "if is_possible==True:\n",
    "    print(*cal, sep='\\n')"
   ]
  },
  {
   "cell_type": "code",
   "execution_count": 8,
   "id": "1694d4bc",
   "metadata": {},
   "outputs": [
    {
     "name": "stdout",
     "output_type": "stream",
     "text": [
      "8\n",
      "4\n",
      "3\n",
      "6\n",
      "8\n",
      "7\n",
      "5\n",
      "NO_1\n"
     ]
    }
   ],
   "source": [
    "#이거 시작부터 잘못세움. 다 갈아엎어야됨\n",
    "n = int(input())\n",
    "pre_num = int(input())\n",
    "cal = ['+']*pre_num+['-']\n",
    "arr = []\n",
    "big_num = pre_num\n",
    "while True:\n",
    "    num = int(input())\n",
    "    if pre_num==num+1:\n",
    "        cal.append('-')\n",
    "        pre_num = num\n",
    "    elif big_num<num:\n",
    "        while big_num<num:\n",
    "            cal.append('+')\n",
    "            big_num += 1\n",
    "        cal.append('-')\n",
    "        pre_num = num\n",
    "        big_num = num\n",
    "    elif pre_num==n:\n",
    "        while True:   #이부분 while True로 바꾸기\n",
    "            a = int(input())\n",
    "            if a!= 0:\n",
    "                arr.append(a)\n",
    "            else:\n",
    "                break\n",
    "        if sorted(arr, reverse=True)==arr:\n",
    "            cal.extend(['-']*(len(arr)))\n",
    "            break\n",
    "        else:\n",
    "            print('NO_2')\n",
    "            is_possible=False\n",
    "            break\n",
    "    else:\n",
    "        print('NO_1')\n",
    "        is_possible=False\n",
    "        break\n",
    "\n",
    "if is_possible==True:\n",
    "    print(*cal, sep='\\n')"
   ]
  },
  {
   "cell_type": "code",
   "execution_count": 59,
   "id": "4de7ac3e",
   "metadata": {},
   "outputs": [
    {
     "name": "stdout",
     "output_type": "stream",
     "text": [
      "8\n",
      "4\n",
      "3\n",
      "6\n",
      "8\n",
      "7\n",
      "5\n",
      "2\n",
      "1\n",
      "+\n",
      "+\n",
      "+\n",
      "+\n",
      "-\n",
      "-\n",
      "+\n",
      "+\n",
      "-\n",
      "+\n",
      "+\n",
      "-\n",
      "-\n",
      "-\n",
      "-\n",
      "-\n"
     ]
    }
   ],
   "source": [
    "#거의 다 맞아가다가 틀림. 왜인지 모르겠음\n",
    "n = int(input())\n",
    "arr = []\n",
    "for _ in range(n):\n",
    "    arr.append(int(input()))\n",
    "\n",
    "is_possible=True\n",
    "ind = 0\n",
    "now_big = arr[0]\n",
    "cal = ['+']*arr[0]+['-']\n",
    "while True:\n",
    "    if arr[ind]==n:\n",
    "        if sorted(arr[arr.index(n):], reverse=True)==arr[arr.index(n):]:\n",
    "            cal.extend(['-']*(len(arr[arr.index(n):])-1))\n",
    "            break\n",
    "        else:\n",
    "            print('NO')\n",
    "            is_possible=False\n",
    "            break\n",
    "    elif arr[ind]>arr[ind+1]:\n",
    "        cal.append('-')\n",
    "        ind += 1\n",
    "    elif arr[ind]<arr[ind+1]:\n",
    "        if now_big<arr[ind+1]:\n",
    "            blank = arr[ind+1]-now_big\n",
    "            cal.extend(['+']*blank)\n",
    "            cal.append('-')\n",
    "            now_big =arr[ind+1]\n",
    "            ind += 1\n",
    "        else:\n",
    "            print('NO')\n",
    "            is_possible=False\n",
    "            break\n",
    "if is_possible==True:\n",
    "    print(*cal, sep='\\n')"
   ]
  },
  {
   "cell_type": "code",
   "execution_count": null,
   "id": "a6e26a81",
   "metadata": {},
   "outputs": [],
   "source": [
    "#인터넷에서 찾은 답안\n",
    "#그래 이렇게 쉬울 줄 알았어. 그런데 그 쉬움의 정도만큼 코드도 쉽게 구현하는 실력은 없다.\n",
    "import sys\n",
    "n = int(sys.stdin.readline())\n",
    "s = []\n",
    "op = []\n",
    "count = 1\n",
    "temp = True\n",
    "for i in range(n):\n",
    "    num = int(sys.stdin.readline())\n",
    "    while count <= num:\n",
    "        s.append(count)\n",
    "        op.append('+')\n",
    "        count += 1\n",
    "    if s[-1] == num:\n",
    "        s.pop()\n",
    "        op.append('-')\n",
    "    else:\n",
    "        temp = False\n",
    "if temp == False:\n",
    "    print('NO')\n",
    "else:\n",
    "    for i in op:\n",
    "        print(i)"
   ]
  },
  {
   "cell_type": "code",
   "execution_count": 2,
   "id": "d4d4437a",
   "metadata": {},
   "outputs": [
    {
     "name": "stdout",
     "output_type": "stream",
     "text": [
      "4\n",
      "2\n",
      "3\n",
      "0\n",
      "0\n"
     ]
    }
   ],
   "source": [
    "lis = [1, 2, 3, 4, 5]\n",
    "print(len(lis[1:]))\n",
    "print(len(lis[0:2]))\n",
    "print(len(lis[1:-1]))\n",
    "print(len(lis[4:-3]))\n",
    "print(len(lis[3:1]))"
   ]
  },
  {
   "cell_type": "code",
   "execution_count": 13,
   "id": "b75a2312",
   "metadata": {},
   "outputs": [
    {
     "data": {
      "text/plain": [
       "[1, 2, 3, 4, 5, '456789']"
      ]
     },
     "execution_count": 13,
     "metadata": {},
     "output_type": "execute_result"
    }
   ],
   "source": [
    "lis = [1, 2, 3, 4, 5]\n",
    "lis+['456789']"
   ]
  },
  {
   "cell_type": "code",
   "execution_count": 16,
   "id": "6604edad",
   "metadata": {},
   "outputs": [
    {
     "ename": "TypeError",
     "evalue": "unsupported operand type(s) for *: 'NoneType' and 'int'",
     "output_type": "error",
     "traceback": [
      "\u001b[1;31m---------------------------------------------------------------------------\u001b[0m",
      "\u001b[1;31mTypeError\u001b[0m                                 Traceback (most recent call last)",
      "\u001b[1;32m~\\AppData\\Local\\Temp/ipykernel_133840/3917177832.py\u001b[0m in \u001b[0;36m<module>\u001b[1;34m\u001b[0m\n\u001b[0;32m      1\u001b[0m \u001b[0mlis\u001b[0m \u001b[1;33m=\u001b[0m \u001b[1;33m[\u001b[0m\u001b[1;36m1\u001b[0m\u001b[1;33m,\u001b[0m \u001b[1;36m2\u001b[0m\u001b[1;33m,\u001b[0m \u001b[1;36m3\u001b[0m\u001b[1;33m,\u001b[0m \u001b[1;36m4\u001b[0m\u001b[1;33m,\u001b[0m \u001b[1;36m5\u001b[0m\u001b[1;33m]\u001b[0m\u001b[1;33m\u001b[0m\u001b[1;33m\u001b[0m\u001b[0m\n\u001b[1;32m----> 2\u001b[1;33m \u001b[0mlis\u001b[0m\u001b[1;33m.\u001b[0m\u001b[0mappend\u001b[0m\u001b[1;33m(\u001b[0m\u001b[1;36m99\u001b[0m\u001b[1;33m)\u001b[0m\u001b[1;33m*\u001b[0m\u001b[1;36m10\u001b[0m\u001b[1;33m\u001b[0m\u001b[1;33m\u001b[0m\u001b[0m\n\u001b[0m\u001b[0;32m      3\u001b[0m \u001b[0mlis\u001b[0m\u001b[1;33m\u001b[0m\u001b[1;33m\u001b[0m\u001b[0m\n",
      "\u001b[1;31mTypeError\u001b[0m: unsupported operand type(s) for *: 'NoneType' and 'int'"
     ]
    }
   ],
   "source": [
    "lis = [1, 2, 3, 4, 5]\n",
    "lis.append(99)*10\n",
    "lis"
   ]
  },
  {
   "cell_type": "code",
   "execution_count": 20,
   "id": "ffb048a5",
   "metadata": {},
   "outputs": [
    {
     "data": {
      "text/plain": [
       "[1, 2, 3, 4, 5, '-', '-', '-', '-', '-', '-', '-', '-', '-', '-']"
      ]
     },
     "execution_count": 20,
     "metadata": {},
     "output_type": "execute_result"
    }
   ],
   "source": [
    "lis = [1, 2, 3, 4, 5]\n",
    "lis.extend(['-']*10)\n",
    "lis"
   ]
  },
  {
   "cell_type": "code",
   "execution_count": 11,
   "id": "8f314496",
   "metadata": {},
   "outputs": [
    {
     "data": {
      "text/plain": [
       "True"
      ]
     },
     "execution_count": 11,
     "metadata": {},
     "output_type": "execute_result"
    }
   ],
   "source": [
    "lis = [1, 2, 3, 4, 5]\n",
    "sorted(lis[2:], reverse=True) == lis[:1:-1]"
   ]
  },
  {
   "cell_type": "code",
   "execution_count": 13,
   "id": "3f37fede",
   "metadata": {},
   "outputs": [
    {
     "ename": "SyntaxError",
     "evalue": "invalid syntax (Temp/ipykernel_36532/1793447351.py, line 2)",
     "output_type": "error",
     "traceback": [
      "\u001b[1;36m  File \u001b[1;32m\"C:\\Users\\82102\\AppData\\Local\\Temp/ipykernel_36532/1793447351.py\"\u001b[1;36m, line \u001b[1;32m2\u001b[0m\n\u001b[1;33m    if i in lis[0:4] for i in range(1, 3):\u001b[0m\n\u001b[1;37m                     ^\u001b[0m\n\u001b[1;31mSyntaxError\u001b[0m\u001b[1;31m:\u001b[0m invalid syntax\n"
     ]
    }
   ],
   "source": [
    "lis = [1, 2, 3, 4, 5, 6, 7]\n",
    "if i in lis[0:4] for i in range(1, 3):\n",
    "    print('ok')"
   ]
  },
  {
   "cell_type": "code",
   "execution_count": 22,
   "id": "f3e409e1",
   "metadata": {},
   "outputs": [
    {
     "data": {
      "text/plain": [
       "[1, 2]"
      ]
     },
     "execution_count": 22,
     "metadata": {},
     "output_type": "execute_result"
    }
   ],
   "source": [
    "list(range(1, 3))"
   ]
  },
  {
   "cell_type": "code",
   "execution_count": 24,
   "id": "0b31feb8",
   "metadata": {},
   "outputs": [],
   "source": [
    "lis = [1, 2, 3, 4, 5, 6, 7]\n",
    "if list(range(1, 3)) in lis[0:4]:\n",
    "    print('ok')"
   ]
  },
  {
   "cell_type": "code",
   "execution_count": 31,
   "id": "50c3050e",
   "metadata": {},
   "outputs": [
    {
     "name": "stdout",
     "output_type": "stream",
     "text": [
      "ko\n",
      "ok\n"
     ]
    }
   ],
   "source": [
    "lis = [1, 2, 3, 4, 5, 6, 7]\n",
    "if (lambda x : True if x in lis else False for x in range(1, 6)):\n",
    "    print('ko')\n",
    "print('ok')"
   ]
  },
  {
   "cell_type": "code",
   "execution_count": 32,
   "id": "12968b64",
   "metadata": {},
   "outputs": [
    {
     "name": "stdout",
     "output_type": "stream",
     "text": [
      "ko\n",
      "ok\n"
     ]
    }
   ],
   "source": [
    "lis = [1, 2, 3, 4, 5, 6, 7]\n",
    "if (lambda x : True if x in lis else False for x in [2, 3, 4]):\n",
    "    print('ko')\n",
    "print('ok')"
   ]
  },
  {
   "cell_type": "code",
   "execution_count": 34,
   "id": "017572c6",
   "metadata": {},
   "outputs": [
    {
     "ename": "SyntaxError",
     "evalue": "invalid syntax (Temp/ipykernel_36532/2304651816.py, line 3)",
     "output_type": "error",
     "traceback": [
      "\u001b[1;36m  File \u001b[1;32m\"C:\\Users\\82102\\AppData\\Local\\Temp/ipykernel_36532/2304651816.py\"\u001b[1;36m, line \u001b[1;32m3\u001b[0m\n\u001b[1;33m    if (lambda lliiss[x]: True if x in lis else False):\u001b[0m\n\u001b[1;37m                     ^\u001b[0m\n\u001b[1;31mSyntaxError\u001b[0m\u001b[1;31m:\u001b[0m invalid syntax\n"
     ]
    }
   ],
   "source": [
    "lis = [1, 2, 3, 4, 5, 6, 7]\n",
    "lliiss = [2, 3, 4]\n",
    "if (lambda lliiss[x]: True if x in lis else False):\n",
    "    print('ko')\n",
    "print('ok')"
   ]
  },
  {
   "cell_type": "code",
   "execution_count": 39,
   "id": "93fb83e2",
   "metadata": {},
   "outputs": [
    {
     "name": "stdout",
     "output_type": "stream",
     "text": [
      "1\n",
      "2\n",
      "2\n",
      "0\n",
      "1\n",
      "1\n"
     ]
    }
   ],
   "source": [
    "print(True + False)\n",
    "print(True + True)\n",
    "print(True + False + True)\n",
    "print(False + False)\n",
    "print(False + True + False)\n",
    "print(False + True)"
   ]
  },
  {
   "cell_type": "code",
   "execution_count": 41,
   "id": "fbe0b155",
   "metadata": {},
   "outputs": [
    {
     "ename": "SyntaxError",
     "evalue": "invalid syntax (Temp/ipykernel_36532/3722733719.py, line 3)",
     "output_type": "error",
     "traceback": [
      "\u001b[1;36m  File \u001b[1;32m\"C:\\Users\\82102\\AppData\\Local\\Temp/ipykernel_36532/3722733719.py\"\u001b[1;36m, line \u001b[1;32m3\u001b[0m\n\u001b[1;33m    if False not in [True for x in lliiss if x in lliiss else False]:\u001b[0m\n\u001b[1;37m                                                         ^\u001b[0m\n\u001b[1;31mSyntaxError\u001b[0m\u001b[1;31m:\u001b[0m invalid syntax\n"
     ]
    }
   ],
   "source": [
    "lis = [1, 2, 3, 4, 5, 6, 7]\n",
    "lliiss = [2, 3, 4]\n",
    "if False not in [True for x in lliiss if x in lliiss else False]:\n",
    "    print('ko')\n",
    "print('ok')"
   ]
  },
  {
   "cell_type": "code",
   "execution_count": 45,
   "id": "f90a0af5",
   "metadata": {},
   "outputs": [
    {
     "ename": "SyntaxError",
     "evalue": "invalid syntax (Temp/ipykernel_36532/513709862.py, line 3)",
     "output_type": "error",
     "traceback": [
      "\u001b[1;36m  File \u001b[1;32m\"C:\\Users\\82102\\AppData\\Local\\Temp/ipykernel_36532/513709862.py\"\u001b[1;36m, line \u001b[1;32m3\u001b[0m\n\u001b[1;33m    [True for x in lliiss if (x in lliiss)else False]\u001b[0m\n\u001b[1;37m                                          ^\u001b[0m\n\u001b[1;31mSyntaxError\u001b[0m\u001b[1;31m:\u001b[0m invalid syntax\n"
     ]
    }
   ],
   "source": [
    "lis = [1, 2, 3, 4, 5, 6, 7]\n",
    "lliiss = [2, 3, 4]\n",
    "[True for x in lliiss if (x in lliiss) else False]"
   ]
  }
 ],
 "metadata": {
  "kernelspec": {
   "display_name": "Python 3 (ipykernel)",
   "language": "python",
   "name": "python3"
  },
  "language_info": {
   "codemirror_mode": {
    "name": "ipython",
    "version": 3
   },
   "file_extension": ".py",
   "mimetype": "text/x-python",
   "name": "python",
   "nbconvert_exporter": "python",
   "pygments_lexer": "ipython3",
   "version": "3.9.7"
  }
 },
 "nbformat": 4,
 "nbformat_minor": 5
}
