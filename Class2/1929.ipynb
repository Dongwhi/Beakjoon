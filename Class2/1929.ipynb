{
 "cells": [
  {
   "cell_type": "markdown",
   "id": "681fc754",
   "metadata": {},
   "source": [
    "문제\n",
    "M이상 N이하의 소수를 모두 출력하는 프로그램을 작성하시오.\n",
    "\n",
    "입력\n",
    "첫째 줄에 자연수 M과 N이 빈 칸을 사이에 두고 주어진다. (1 ≤ M ≤ N ≤ 1,000,000) M이상 N이하의 소수가 하나 이상 있는 입력만 주어진다.\n",
    "\n",
    "출력\n",
    "한 줄에 하나씩, 증가하는 순서대로 소수를 출력한다."
   ]
  },
  {
   "cell_type": "code",
   "execution_count": 8,
   "id": "d2447c01",
   "metadata": {},
   "outputs": [
    {
     "name": "stdout",
     "output_type": "stream",
     "text": [
      "3 16\n",
      "5\n",
      "7\n",
      "11\n",
      "13\n"
     ]
    }
   ],
   "source": [
    "#아이디어 : 짝수 다 버리고 시작하기, 검증하려는수//2 까지로만 나눠보기, 나눠보는것을 홀수로만 하기\n",
    "M, N = map(int, input().split())\n",
    "\n",
    "def find(m, n):\n",
    "    for i in range(m, n+1, 2):\n",
    "        none = False\n",
    "        for j in range(3, (i//3)+3, 2):\n",
    "            if i%j==0:\n",
    "                none = True\n",
    "                break\n",
    "        if none==False:\n",
    "            print(i)\n",
    "\n",
    "if (M==1 and N==2) or (M==N==2):\n",
    "    print(2)\n",
    "elif (M==1 and N==3) or (M==2 and N==3):\n",
    "    print(2)\n",
    "    print(3)\n",
    "elif M==N==3:\n",
    "    print(3)\n",
    "elif M%2==0:\n",
    "    find(M+1, N)\n",
    "elif M%2==1:\n",
    "    find(M, N)\n",
    "#시간초과임\n",
    "#제곱근까지만 조사하면 된다함.\n",
    "#내코드보다 훨신 시간복잡도 많이 줄일 수 있겟네"
   ]
  },
  {
   "cell_type": "code",
   "execution_count": 6,
   "id": "8c9f0148",
   "metadata": {},
   "outputs": [],
   "source": [
    "for i in range(3, 2):\n",
    "    print(0)"
   ]
  },
  {
   "cell_type": "code",
   "execution_count": 9,
   "id": "2e39f6b3",
   "metadata": {},
   "outputs": [
    {
     "data": {
      "text/plain": [
       "2"
      ]
     },
     "execution_count": 9,
     "metadata": {},
     "output_type": "execute_result"
    }
   ],
   "source": [
    "int(5**0.5)"
   ]
  },
  {
   "cell_type": "code",
   "execution_count": null,
   "id": "c1fd1f91",
   "metadata": {},
   "outputs": [],
   "source": [
    "#틀렸댄다\n",
    "M, N = map(int, input().split())\n",
    "\n",
    "def isprime(num):\n",
    "    for i in range(3, int(num**0.5)+1, 2):\n",
    "        if num%i==0:\n",
    "            return False\n",
    "    return True\n",
    "\n",
    "if M==1 or M==2:\n",
    "    if N==2:\n",
    "        print(2)\n",
    "    elif N==3:\n",
    "        print(2)\n",
    "        print(3)\n",
    "    elif N==4:\n",
    "        print(2)\n",
    "        print(3)\n",
    "    elif N==5:\n",
    "        print(2)\n",
    "        print(3)\n",
    "        print(5)\n",
    "elif M==3:\n",
    "    print(2)\n",
    "    print(3)\n",
    "    M=5\n",
    "    for j in range(M, N+1, 2):\n",
    "        if isprime(j):\n",
    "            print(j)\n",
    "elif M%2==0:\n",
    "    M += 1\n",
    "    for j in range(M, N+1, 2):\n",
    "        if isprime(j):\n",
    "            print(j)\n",
    "elif M%2==1:\n",
    "    for j in range(M, N+1, 2):\n",
    "        if isprime(j):\n",
    "            print(j)"
   ]
  },
  {
   "cell_type": "code",
   "execution_count": null,
   "id": "aa7bb26d",
   "metadata": {},
   "outputs": [],
   "source": [
    "M, N = map(int, input().split())\n",
    "\n",
    "def isprime(num):\n",
    "    for i in range(3, int(num**0.5)+1, 2):\n",
    "        if num%i==0:\n",
    "            return False\n",
    "    return True\n",
    "if M==1 or M==2:\n",
    "    print(2)\n",
    "    M = 3\n",
    "    for j in range(M, N+2, 2):\n",
    "        if isprime(j):\n",
    "            print(j)\n",
    "elif M%2==0:\n",
    "    M+=1\n",
    "    for j in range(M, N+1, 2):\n",
    "        if isprime(j):\n",
    "            print(j)\n",
    "elif M%2==1:\n",
    "    for j in range(M, N+1, 2):\n",
    "        if j==3:\n",
    "            print(3)\n",
    "            continue\n",
    "        if isprime(j):\n",
    "            print(j)"
   ]
  },
  {
   "cell_type": "code",
   "execution_count": null,
   "id": "7d93f614",
   "metadata": {},
   "outputs": [],
   "source": [
    "#창의적인 답안 찾음\n",
    "import sys\n",
    " \n",
    "def solve():\n",
    "  M, N = map(int, sys.stdin.readline().rstrip().split())\n",
    "  primes = [True] * (N+1)\n",
    "  primes[1] = False\n",
    "  for i in range(2, N+1):\n",
    "    if primes[i]:\n",
    "      for j in range(i*2, N+1, i):\n",
    "        primes[j] = False\n",
    "  for i in range(M, N+1):\n",
    "    if primes[i]:\n",
    "      print(i)\n",
    " \n",
    "solve()"
   ]
  }
 ],
 "metadata": {
  "kernelspec": {
   "display_name": "Python 3 (ipykernel)",
   "language": "python",
   "name": "python3"
  },
  "language_info": {
   "codemirror_mode": {
    "name": "ipython",
    "version": 3
   },
   "file_extension": ".py",
   "mimetype": "text/x-python",
   "name": "python",
   "nbconvert_exporter": "python",
   "pygments_lexer": "ipython3",
   "version": "3.9.7"
  }
 },
 "nbformat": 4,
 "nbformat_minor": 5
}
