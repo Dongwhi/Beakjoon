{
 "cells": [
  {
   "cell_type": "markdown",
   "id": "9ff5e194",
   "metadata": {},
   "source": [
    "문제\n",
    "어떤 자연수 N이 있을 때, 그 자연수 N의 분해합은 N과 N을 이루는 각 자리수의 합을 의미한다. 어떤 자연수 M의 분해합이 N인 경우, M을 N의 생성자라 한다. 예를 들어, 245의 분해합은 256(=245+2+4+5)이 된다. 따라서 245는 256의 생성자가 된다. 물론, 어떤 자연수의 경우에는 생성자가 없을 수도 있다. 반대로, 생성자가 여러 개인 자연수도 있을 수 있다.\n",
    "\n",
    "자연수 N이 주어졌을 때, N의 가장 작은 생성자를 구해내는 프로그램을 작성하시오.\n",
    "\n",
    "입력\n",
    "첫째 줄에 자연수 N(1 ≤ N ≤ 1,000,000)이 주어진다.\n",
    "\n",
    "출력\n",
    "첫째 줄에 답을 출력한다. 생성자가 없는 경우에는 0을 출력한다."
   ]
  },
  {
   "cell_type": "code",
   "execution_count": 9,
   "id": "99cbfca5",
   "metadata": {},
   "outputs": [
    {
     "name": "stdout",
     "output_type": "stream",
     "text": [
      "123\n"
     ]
    },
    {
     "data": {
      "text/plain": [
       "129"
      ]
     },
     "execution_count": 9,
     "metadata": {},
     "output_type": "execute_result"
    }
   ],
   "source": [
    "\n",
    "def ssum(M):\n",
    "    answer = 0\n",
    "    for i in str(M):\n",
    "        answer += int(i)\n",
    "    N = M + answer\n",
    "    return N\n",
    "ssum(int(input()))"
   ]
  },
  {
   "cell_type": "code",
   "execution_count": null,
   "id": "c154a739",
   "metadata": {},
   "outputs": [],
   "source": [
    "def ssum(M):\n",
    "    answer = 0\n",
    "    for i in str(M):\n",
    "        answer += int(i)\n",
    "    N = M + answer\n",
    "    return N"
   ]
  },
  {
   "cell_type": "code",
   "execution_count": 11,
   "id": "621f9e0b",
   "metadata": {},
   "outputs": [
    {
     "name": "stdout",
     "output_type": "stream",
     "text": [
      "123\n"
     ]
    },
    {
     "ename": "TypeError",
     "evalue": "object of type 'int' has no len()",
     "output_type": "error",
     "traceback": [
      "\u001b[1;31m---------------------------------------------------------------------------\u001b[0m",
      "\u001b[1;31mTypeError\u001b[0m                                 Traceback (most recent call last)",
      "\u001b[1;32m~\\AppData\\Local\\Temp/ipykernel_11100/4146147619.py\u001b[0m in \u001b[0;36m<module>\u001b[1;34m\u001b[0m\n\u001b[0;32m      1\u001b[0m \u001b[0mn\u001b[0m \u001b[1;33m=\u001b[0m \u001b[0mint\u001b[0m\u001b[1;33m(\u001b[0m\u001b[0minput\u001b[0m\u001b[1;33m(\u001b[0m\u001b[1;33m)\u001b[0m\u001b[1;33m)\u001b[0m\u001b[1;33m\u001b[0m\u001b[1;33m\u001b[0m\u001b[0m\n\u001b[1;32m----> 2\u001b[1;33m \u001b[0mprint\u001b[0m\u001b[1;33m(\u001b[0m\u001b[0mlen\u001b[0m\u001b[1;33m(\u001b[0m\u001b[0mn\u001b[0m\u001b[1;33m)\u001b[0m\u001b[1;33m)\u001b[0m\u001b[1;33m\u001b[0m\u001b[1;33m\u001b[0m\u001b[0m\n\u001b[0m",
      "\u001b[1;31mTypeError\u001b[0m: object of type 'int' has no len()"
     ]
    }
   ],
   "source": [
    "n = int(input())\n",
    "print(len(n))"
   ]
  },
  {
   "cell_type": "code",
   "execution_count": null,
   "id": "d12aee07",
   "metadata": {},
   "outputs": [],
   "source": [
    "inp = input()\n",
    "if len(inp)==1:\n",
    "    if int(inp)%2 == 0:\n",
    "        print(int(inp)/2)\n",
    "    else:\n",
    "        print('0')\n",
    "elif len(inp)==2:\n",
    "    "
   ]
  },
  {
   "cell_type": "code",
   "execution_count": 17,
   "id": "159a222b",
   "metadata": {},
   "outputs": [
    {
     "name": "stdout",
     "output_type": "stream",
     "text": [
      "101\n",
      "91\n"
     ]
    }
   ],
   "source": [
    "target = int(input())\n",
    "\n",
    "for i in range(target-len(str(target))*9, target):\n",
    "    temp = sum(map(int, str(i))) \n",
    "    result = i + temp\n",
    "    if target == result:\n",
    "        print(i)\n",
    "        break\n",
    "else:\n",
    "    print(0)"
   ]
  }
 ],
 "metadata": {
  "kernelspec": {
   "display_name": "Python 3 (ipykernel)",
   "language": "python",
   "name": "python3"
  },
  "language_info": {
   "codemirror_mode": {
    "name": "ipython",
    "version": 3
   },
   "file_extension": ".py",
   "mimetype": "text/x-python",
   "name": "python",
   "nbconvert_exporter": "python",
   "pygments_lexer": "ipython3",
   "version": "3.9.7"
  }
 },
 "nbformat": 4,
 "nbformat_minor": 5
}
