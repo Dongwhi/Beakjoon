{
 "cells": [
  {
   "cell_type": "markdown",
   "id": "05ae6463",
   "metadata": {},
   "source": [
    "문제\n",
    "두 개의 자연수를 입력받아 최대 공약수와 최소 공배수를 출력하는 프로그램을 작성하시오.\n",
    "\n",
    "입력\n",
    "첫째 줄에는 두 개의 자연수가 주어진다. 이 둘은 10,000이하의 자연수이며 사이에 한 칸의 공백이 주어진다.\n",
    "\n",
    "출력\n",
    "첫째 줄에는 입력으로 주어진 두 수의 최대공약수를, 둘째 줄에는 입력으로 주어진 두 수의 최소 공배수를 출력한다."
   ]
  },
  {
   "cell_type": "code",
   "execution_count": null,
   "id": "f7f31496",
   "metadata": {},
   "outputs": [],
   "source": [
    "#min, max로 새로 할당하지 말고\n",
    "if a < b:\n",
    "    a, b = b, a\n",
    "#쓰면 a가 큰수, b가 작은수 된다.\n",
    "#간단한 알고리즘\n",
    "if a < b:\n",
    "    a, b = b, a\n",
    "tempa = a\n",
    "gcd = b\n",
    "while tempa % gcd != 0:\n",
    "    tempa, gcd = gcd, tempa%gcd  #최대공약수 구하는 단 두 줄의 코드\n",
    "print(gcd)\n",
    "print(a * b // gcd)  #최소공배수 = a * b // 최대공약수"
   ]
  },
  {
   "cell_type": "code",
   "execution_count": 7,
   "id": "572ec2d1",
   "metadata": {},
   "outputs": [
    {
     "ename": "SyntaxError",
     "evalue": "invalid syntax (Temp/ipykernel_38984/1219532749.py, line 18)",
     "output_type": "error",
     "traceback": [
      "\u001b[1;36m  File \u001b[1;32m\"C:\\Users\\82102\\AppData\\Local\\Temp/ipykernel_38984/1219532749.py\"\u001b[1;36m, line \u001b[1;32m18\u001b[0m\n\u001b[1;33m    if (k in d_) for k in list(set(c_)):\u001b[0m\n\u001b[1;37m                 ^\u001b[0m\n\u001b[1;31mSyntaxError\u001b[0m\u001b[1;31m:\u001b[0m invalid syntax\n"
     ]
    }
   ],
   "source": [
    "a, b = map(int, input().split())\n",
    "c = max(a, b)\n",
    "c_ = [1]\n",
    "d = min(a, b)\n",
    "d_ = [1]\n",
    "for i in range(1, c):\n",
    "    c = max(a, b)\n",
    "    while c%(i+1) == 0:\n",
    "        c_.append(i+1)\n",
    "        c = c//(i+1)\n",
    "for j in range(1, d):\n",
    "    d = min(a, b)\n",
    "    while d%(i+1) == 0:\n",
    "        d_.append(i+1)\n",
    "        d = d//(i+1)\n",
    "gcf = 1\n",
    "lcm = 1\n",
    "if k in d_ for k in list(set(c_)):\n",
    "    gcm = gcm*k\n",
    "if l not in d_ for l in c_:\n",
    "    lcm = lcm*l\n",
    "else:\n",
    "    if c_.count(l)>=d_count(l):\n",
    "        lcm = lcm*(l**c_.count(l))\n",
    "    else:\n",
    "        lcm = lcm*(l**d_.count(l))\n",
    "print(lcm)\n",
    "print(gcf)"
   ]
  },
  {
   "cell_type": "code",
   "execution_count": 32,
   "id": "264e06d5",
   "metadata": {},
   "outputs": [
    {
     "name": "stdout",
     "output_type": "stream",
     "text": [
      "6 24\n",
      "c : 24\n",
      "d : 6\n",
      "c_ : [1, 2, 2, 2, 3]\n",
      "d_ : [1, 2, 3]\n",
      "2-1 : 1 1\n",
      "1\n",
      "lcm : 1\n",
      "2-1 : 2 3\n",
      "8\n",
      "lcm : 8\n",
      "2-1 : 3 1\n",
      "3\n",
      "lcm : 24\n",
      "24\n",
      "6\n"
     ]
    }
   ],
   "source": [
    "a, b = map(int, input().split())\n",
    "c = max(a, b)\n",
    "c_ = [1]\n",
    "d = min(a, b)\n",
    "d_ = [1]\n",
    "print('c :', c)\n",
    "print('d :', d)\n",
    "for i in range(1, c):\n",
    "    while c%(i+1) == 0:\n",
    "        c_.append(i+1)\n",
    "        c = c//(i+1)\n",
    "for j in range(1, d):\n",
    "    while d%(j+1) == 0:\n",
    "        d_.append(j+1)\n",
    "        d = d//(j+1)\n",
    "print('c_ :', c_)\n",
    "print('d_ :', d_)\n",
    "gcf = 1\n",
    "lcm = 1\n",
    "c__ = list(set(c_))\n",
    "for k in range(len(c__)):\n",
    "    if c__[k] in d_:\n",
    "        gcf = gcf*c__[k]\n",
    "for l in range(len(c__)):\n",
    "    if c__[l] not in d_:\n",
    "        lcm = lcm*(c__[l]**c_.count(c__[l]))\n",
    "        print('1. : ', c__[l], c_.count(c__[l]))\n",
    "        print(c__[l]**c_.count(c__[l]))\n",
    "    else:\n",
    "        if c_.count(l)>=d_.count(l):\n",
    "            lcm = lcm*(c__[l]**c_.count(c__[l]))\n",
    "            print('2-1 :', c__[l], c_.count(c__[l]))\n",
    "            print(c__[l]**c_.count(c__[l]))\n",
    "        else:\n",
    "            lcm = lcm*(c__[l]**d_.count(c__[l]))\n",
    "            print('2-2 :', c__[l], d_.count(c__[l]))\n",
    "            print(c__[l]**d_.count(c__[l]))\n",
    "        print('lcm :', lcm)\n",
    "print(lcm)\n",
    "print(gcf)"
   ]
  },
  {
   "cell_type": "code",
   "execution_count": 30,
   "id": "9c31909b",
   "metadata": {},
   "outputs": [
    {
     "data": {
      "text/plain": [
       "27"
      ]
     },
     "execution_count": 30,
     "metadata": {},
     "output_type": "execute_result"
    }
   ],
   "source": [
    "3**3"
   ]
  },
  {
   "cell_type": "code",
   "execution_count": 44,
   "id": "e7c6dc5c",
   "metadata": {},
   "outputs": [
    {
     "name": "stdout",
     "output_type": "stream",
     "text": [
      "24 18\n",
      "6\n",
      "72\n"
     ]
    }
   ],
   "source": [
    "a, b = map(int, input().split())\n",
    "c = max(a, b)\n",
    "c_ = [1]\n",
    "d = min(a, b)\n",
    "d_ = [1]\n",
    "for i in range(1, c):\n",
    "    while c%(i+1) == 0:\n",
    "        c_.append(i+1)\n",
    "        c = c//(i+1)\n",
    "for j in range(1, d):\n",
    "    while d%(j+1) == 0:\n",
    "        d_.append(j+1)\n",
    "        d = d//(j+1)\n",
    "gcf = 1\n",
    "lcm = 1\n",
    "c__ = list(set(c_))\n",
    "d__ = list(set(d_))\n",
    "for k in range(len(c__)):\n",
    "    if c__[k] in d_:\n",
    "        if c_.count(c__[k]) >= d_.count(c__[k]):\n",
    "            gcf = gcf*(c__[k]**d_.count(c__[k]))\n",
    "        else:\n",
    "            gcf = gcf*(c__[k]**c_.count(c__[k]))\n",
    "                   \n",
    "for l in range(len(c__)):\n",
    "    if c__[l] not in d_:\n",
    "        lcm = lcm*(c__[l]**c_.count(c__[l]))\n",
    "    else:\n",
    "        if c_.count(c__[l])>=d_.count(c__[l]):\n",
    "            lcm = lcm*(c__[l]**c_.count(c__[l]))\n",
    "        else:\n",
    "            lcm = lcm*(c__[l]**d_.count(c__[l]))\n",
    "for m in range(len(d__)):\n",
    "    if d__[m] not in c_:\n",
    "        lcm = lcm*(d__[m]**d_.count(d__[m]))\n",
    "print(gcf)\n",
    "print(lcm)"
   ]
  },
  {
   "cell_type": "code",
   "execution_count": 19,
   "id": "9aa2c520",
   "metadata": {},
   "outputs": [
    {
     "name": "stdout",
     "output_type": "stream",
     "text": [
      "24\n",
      "[1, 2, 2, 2, 3]\n"
     ]
    }
   ],
   "source": [
    "c = int(input())\n",
    "c_ = [1]\n",
    "for i in range(1, c):\n",
    "    while c%(i+1) == 0:\n",
    "        c_.append(i+1)\n",
    "        c = c//(i+1)\n",
    "print(c_)"
   ]
  },
  {
   "cell_type": "code",
   "execution_count": 20,
   "id": "b5353caa",
   "metadata": {},
   "outputs": [
    {
     "name": "stdout",
     "output_type": "stream",
     "text": [
      "24\n",
      "[1, 2, 2, 2, 3]\n"
     ]
    }
   ],
   "source": [
    "d = int(input())\n",
    "d_ = [1]\n",
    "for j in range(1, d):\n",
    "    while d%(j+1) == 0:\n",
    "        d_.append(j+1)\n",
    "        d = d//(j+1)\n",
    "print(d_)"
   ]
  }
 ],
 "metadata": {
  "kernelspec": {
   "display_name": "Python 3 (ipykernel)",
   "language": "python",
   "name": "python3"
  },
  "language_info": {
   "codemirror_mode": {
    "name": "ipython",
    "version": 3
   },
   "file_extension": ".py",
   "mimetype": "text/x-python",
   "name": "python",
   "nbconvert_exporter": "python",
   "pygments_lexer": "ipython3",
   "version": "3.9.7"
  }
 },
 "nbformat": 4,
 "nbformat_minor": 5
}
