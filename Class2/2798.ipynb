{
 "cells": [
  {
   "cell_type": "markdown",
   "id": "fe5a4b9e",
   "metadata": {},
   "source": [
    "문제\n",
    "카지노에서 제일 인기 있는 게임 블랙잭의 규칙은 상당히 쉽다. 카드의 합이 21을 넘지 않는 한도 내에서, 카드의 합을 최대한 크게 만드는 게임이다. 블랙잭은 카지노마다 다양한 규정이 있다.\n",
    "\n",
    "한국 최고의 블랙잭 고수 김정인은 새로운 블랙잭 규칙을 만들어 상근, 창영이와 게임하려고 한다.\n",
    "\n",
    "김정인 버전의 블랙잭에서 각 카드에는 양의 정수가 쓰여 있다. 그 다음, 딜러는 N장의 카드를 모두 숫자가 보이도록 바닥에 놓는다. 그런 후에 딜러는 숫자 M을 크게 외친다.\n",
    "\n",
    "이제 플레이어는 제한된 시간 안에 N장의 카드 중에서 3장의 카드를 골라야 한다. 블랙잭 변형 게임이기 때문에, 플레이어가 고른 카드의 합은 M을 넘지 않으면서 M과 최대한 가깝게 만들어야 한다.\n",
    "\n",
    "N장의 카드에 써져 있는 숫자가 주어졌을 때, M을 넘지 않으면서 M에 최대한 가까운 카드 3장의 합을 구해 출력하시오.\n",
    "\n",
    "입력\n",
    "첫째 줄에 카드의 개수 N(3 ≤ N ≤ 100)과 M(10 ≤ M ≤ 300,000)이 주어진다. 둘째 줄에는 카드에 쓰여 있는 수가 주어지며, 이 값은 100,000을 넘지 않는 양의 정수이다.\n",
    "\n",
    "합이 M을 넘지 않는 카드 3장을 찾을 수 있는 경우만 입력으로 주어진다.\n",
    "\n",
    "출력\n",
    "첫째 줄에 M을 넘지 않으면서 M에 최대한 가까운 카드 3장의 합을 출력한다."
   ]
  },
  {
   "cell_type": "code",
   "execution_count": null,
   "id": "1fd49fba",
   "metadata": {},
   "outputs": [],
   "source": [
    "N, M = map(int, input().split())\n",
    "num = list(map(int, input().split()))\n",
    "if sum(sorted(num)[i]) for i in range(3)>M: #M찾을 수 있는 경우만 입력된다하니 이 줄은 필요없음\n",
    "    pass\n",
    "#하나하나 계산하되 계산 순서를 최적화하자\n",
    "#num.sort의 큰쪽에서 하나+ 제일 작은 수 2개가 M보다 작은값을 찾고 그때 큰 수의 인덱스를 k라 한다\n",
    "#큰 수 3개씩 더해서 M보다 적은 값이 나올때 그 셋 중 작은 수의 인덱스를 l라 한다\n",
    "#l~k에 1수 0~l에 2수 조합 모두 찾고, l~k2수 0~l에 1수 조합 모두 찾고\n",
    "#그중 M 이하인 수들 중 가장 큰 수를 출력\n",
    "num.sort()\n",
    "if sum(num[-1], num[-2], num[-3]) <= M:\n",
    "    print(sum(num[-1], num[-2], num[-3]))\n",
    "for i in range(len(num)):\n",
    "    if num[0]+num[1]+num[-(i+1)]<=M:\n",
    "        k = i+1\n",
    "        break\n",
    "#이렇게 바꿔쓸 수 있을듯?\n",
    "while num[0]+num[1]+num[-(i+1)]<=M for i in range(len(num)):\n",
    "    if num[0]+num[1]+num[-(i+1)]<=M:\n",
    "        k = i+1\n",
    "        break\n",
    "\n",
    "set = []\n",
    "for l in range(k):\n",
    "    for m in range(k):\n",
    "        for n in range(k):\n",
    "            if l!=m!=n and num[l]+num[m]+num[n]<=M:\n",
    "                if num[l]+num[m]+num[n]==M:\n",
    "                    print(M)\n",
    "                    break\n",
    "                else:\n",
    "                    set.append(num[l]+num[m]+num[n])\n",
    "print(max(set))"
   ]
  },
  {
   "cell_type": "code",
   "execution_count": 1,
   "id": "331f7dc5",
   "metadata": {},
   "outputs": [
    {
     "ename": "SyntaxError",
     "evalue": "invalid syntax (Temp/ipykernel_10988/2847084107.py, line 6)",
     "output_type": "error",
     "traceback": [
      "\u001b[1;36m  File \u001b[1;32m\"C:\\Users\\82102\\AppData\\Local\\Temp/ipykernel_10988/2847084107.py\"\u001b[1;36m, line \u001b[1;32m6\u001b[0m\n\u001b[1;33m    while num[0]+num[1]+num[-(i+1)]<=M for i in range(len(num)):\u001b[0m\n\u001b[1;37m                                       ^\u001b[0m\n\u001b[1;31mSyntaxError\u001b[0m\u001b[1;31m:\u001b[0m invalid syntax\n"
     ]
    }
   ],
   "source": [
    "N, M = map(int, input().split())\n",
    "num = list(map(int, input().split()))\n",
    "\n",
    "num.sort()\n",
    "\n",
    "while num[0]+num[1]+num[-(i+1)]<=M for i in range(len(num)):  #while문엔 for문 못씀\n",
    "    if num[0]+num[1]+num[-(i+1)]<=M:\n",
    "        k = i+1\n",
    "        break\n",
    "\n",
    "set = []\n",
    "for l in range(k):\n",
    "    for m in range(k):\n",
    "        for n in range(k):\n",
    "            if l!=m!=n and num[l]+num[m]+num[n]<=M:\n",
    "                if num[l]+num[m]+num[n]==M:\n",
    "                    print(M)\n",
    "                    break\n",
    "                else:\n",
    "                    set.append(num[l]+num[m]+num[n])\n",
    "print(max(set))"
   ]
  },
  {
   "cell_type": "code",
   "execution_count": 2,
   "id": "642f9ba2",
   "metadata": {},
   "outputs": [
    {
     "name": "stdout",
     "output_type": "stream",
     "text": [
      "5 21\n",
      "5 6 7 8 9\n"
     ]
    },
    {
     "ename": "TypeError",
     "evalue": "sum() takes at most 2 arguments (3 given)",
     "output_type": "error",
     "traceback": [
      "\u001b[1;31m---------------------------------------------------------------------------\u001b[0m",
      "\u001b[1;31mTypeError\u001b[0m                                 Traceback (most recent call last)",
      "\u001b[1;32m~\\AppData\\Local\\Temp/ipykernel_10988/1255142655.py\u001b[0m in \u001b[0;36m<module>\u001b[1;34m\u001b[0m\n\u001b[0;32m      3\u001b[0m \u001b[1;33m\u001b[0m\u001b[0m\n\u001b[0;32m      4\u001b[0m \u001b[0mnum\u001b[0m\u001b[1;33m.\u001b[0m\u001b[0msort\u001b[0m\u001b[1;33m(\u001b[0m\u001b[1;33m)\u001b[0m\u001b[1;33m\u001b[0m\u001b[1;33m\u001b[0m\u001b[0m\n\u001b[1;32m----> 5\u001b[1;33m \u001b[1;32mif\u001b[0m \u001b[0msum\u001b[0m\u001b[1;33m(\u001b[0m\u001b[0mnum\u001b[0m\u001b[1;33m[\u001b[0m\u001b[1;33m-\u001b[0m\u001b[1;36m1\u001b[0m\u001b[1;33m]\u001b[0m\u001b[1;33m,\u001b[0m \u001b[0mnum\u001b[0m\u001b[1;33m[\u001b[0m\u001b[1;33m-\u001b[0m\u001b[1;36m2\u001b[0m\u001b[1;33m]\u001b[0m\u001b[1;33m,\u001b[0m \u001b[0mnum\u001b[0m\u001b[1;33m[\u001b[0m\u001b[1;33m-\u001b[0m\u001b[1;36m3\u001b[0m\u001b[1;33m]\u001b[0m\u001b[1;33m)\u001b[0m \u001b[1;33m<=\u001b[0m \u001b[0mM\u001b[0m\u001b[1;33m:\u001b[0m\u001b[1;33m\u001b[0m\u001b[1;33m\u001b[0m\u001b[0m\n\u001b[0m\u001b[0;32m      6\u001b[0m     \u001b[0mprint\u001b[0m\u001b[1;33m(\u001b[0m\u001b[0msum\u001b[0m\u001b[1;33m(\u001b[0m\u001b[0mnum\u001b[0m\u001b[1;33m[\u001b[0m\u001b[1;33m-\u001b[0m\u001b[1;36m1\u001b[0m\u001b[1;33m]\u001b[0m\u001b[1;33m,\u001b[0m \u001b[0mnum\u001b[0m\u001b[1;33m[\u001b[0m\u001b[1;33m-\u001b[0m\u001b[1;36m2\u001b[0m\u001b[1;33m]\u001b[0m\u001b[1;33m,\u001b[0m \u001b[0mnum\u001b[0m\u001b[1;33m[\u001b[0m\u001b[1;33m-\u001b[0m\u001b[1;36m3\u001b[0m\u001b[1;33m]\u001b[0m\u001b[1;33m)\u001b[0m\u001b[1;33m)\u001b[0m\u001b[1;33m\u001b[0m\u001b[1;33m\u001b[0m\u001b[0m\n\u001b[0;32m      7\u001b[0m \u001b[1;32mfor\u001b[0m \u001b[0mi\u001b[0m \u001b[1;32min\u001b[0m \u001b[0mrange\u001b[0m\u001b[1;33m(\u001b[0m\u001b[0mlen\u001b[0m\u001b[1;33m(\u001b[0m\u001b[0mnum\u001b[0m\u001b[1;33m)\u001b[0m\u001b[1;33m)\u001b[0m\u001b[1;33m:\u001b[0m\u001b[1;33m\u001b[0m\u001b[1;33m\u001b[0m\u001b[0m\n",
      "\u001b[1;31mTypeError\u001b[0m: sum() takes at most 2 arguments (3 given)"
     ]
    }
   ],
   "source": [
    "N, M = map(int, input().split())\n",
    "num = list(map(int, input().split()))\n",
    "\n",
    "num.sort()\n",
    "if sum(num[-1], num[-2], num[-3]) <= M: #sum에 요소 3개 이상 넣으면 안됨. 이터레이터 형식으로바꾸거나 직접+하기\n",
    "    print(sum(num[-1], num[-2], num[-3]))\n",
    "for i in range(len(num)):\n",
    "    if num[0]+num[1]+num[-(i+1)]<=M:\n",
    "        k = i+1   #k=len(num)-i 였음\n",
    "        break\n",
    "\n",
    "set = []\n",
    "for l in range(k):\n",
    "    for m in range(k):\n",
    "        for n in range(k):\n",
    "            if l!=m!=n and num[l]+num[m]+num[n]<=M:\n",
    "                if num[l]+num[m]+num[n]==M:\n",
    "                    print(M)\n",
    "                    break\n",
    "                else:\n",
    "                    set.append(num[l]+num[m]+num[n])\n",
    "print(max(set))"
   ]
  },
  {
   "cell_type": "code",
   "execution_count": 10,
   "id": "a972f9d9",
   "metadata": {},
   "outputs": [
    {
     "name": "stdout",
     "output_type": "stream",
     "text": [
      "5 21\n",
      "5 6 7 8 9\n",
      "5\n",
      "21\n",
      "[5, 6, 7, 8, 9]\n",
      "[5, 6, 7, 8, 9]\n",
      "5\n",
      "5 6 7\n",
      "18\n",
      "5 6 8\n",
      "19\n",
      "5 6 9\n",
      "20\n",
      "5 7 8\n",
      "20\n",
      "5 7 9\n",
      "21\n",
      "6 7 8\n",
      "21\n",
      "[18, 19, 20, 20]\n"
     ]
    }
   ],
   "source": [
    "N, M = map(int, input().split())\n",
    "num = list(map(int, input().split()))\n",
    "sett = []\n",
    "\n",
    "print(N)\n",
    "print(M)\n",
    "print(num)\n",
    "\n",
    "num.sort()\n",
    "print(num)\n",
    "\n",
    "if num[-1]+num[-2]+num[-3] <= M:\n",
    "    print(sum(num[-1], num[-2], num[-3]))\n",
    "else:\n",
    "    for i in range(len(num)):\n",
    "        if num[0]+num[1]+num[-(i+1)]<=M:\n",
    "            k = len(num)-i\n",
    "            \n",
    "            print(k)\n",
    "            \n",
    "            break\n",
    "    for l in range(k-2):\n",
    "        for m in range(l+1, k-1):\n",
    "            for n in range(m+1, k):\n",
    "                if num[l]+num[m]+num[n]<=M:\n",
    "                    print(num[l], num[m], num[n])\n",
    "                    if num[l]+num[m]+num[n]==M:\n",
    "                        print(M)\n",
    "                        break\n",
    "                    else:\n",
    "                        print(num[l]+num[m]+num[n])\n",
    "                        sett.append(num[l]+num[m]+num[n])\n",
    "    print(sett)"
   ]
  },
  {
   "cell_type": "code",
   "execution_count": 16,
   "id": "aec34cb8",
   "metadata": {},
   "outputs": [
    {
     "name": "stdout",
     "output_type": "stream",
     "text": [
      "5 21\n",
      "5 6 7 8 9\n",
      "21\n",
      "21\n",
      "20\n"
     ]
    }
   ],
   "source": [
    "N, M = map(int, input().split())\n",
    "num = list(map(int, input().split()))\n",
    "sett = []\n",
    "\n",
    "num.sort()\n",
    "\n",
    "if num[-1]+num[-2]+num[-3] <= M:\n",
    "    print(sum(num[-1], num[-2], num[-3]))\n",
    "else:\n",
    "    for i in range(len(num)):\n",
    "        if num[0]+num[1]+num[-(i+1)]<=M:\n",
    "            k = len(num)-i\n",
    "            break\n",
    "    for l in range(k-2):\n",
    "        for m in range(l+1, k-1):\n",
    "            for n in range(m+1, k):\n",
    "                if num[l]+num[m]+num[n]<=M:\n",
    "                    if num[l]+num[m]+num[n]==M:\n",
    "                        print(M)\n",
    "                        break  #이 break는 n에 대한 for문만 빠져나옴\n",
    "                    else:\n",
    "                        sett.append(num[l]+num[m]+num[n])\n",
    "    print(max(sett))"
   ]
  },
  {
   "cell_type": "code",
   "execution_count": 27,
   "id": "22a373fc",
   "metadata": {},
   "outputs": [
    {
     "name": "stdout",
     "output_type": "stream",
     "text": [
      "5 21\n",
      "5 6 7 8 9\n"
     ]
    },
    {
     "ename": "ValueError",
     "evalue": "max() arg is an empty sequence",
     "output_type": "error",
     "traceback": [
      "\u001b[1;31m---------------------------------------------------------------------------\u001b[0m",
      "\u001b[1;31mValueError\u001b[0m                                Traceback (most recent call last)",
      "\u001b[1;32m~\\AppData\\Local\\Temp/ipykernel_10988/616795991.py\u001b[0m in \u001b[0;36m<module>\u001b[1;34m\u001b[0m\n\u001b[0;32m     28\u001b[0m \u001b[1;33m\u001b[0m\u001b[0m\n\u001b[0;32m     29\u001b[0m     \u001b[1;32mif\u001b[0m \u001b[0mbreaker\u001b[0m \u001b[1;33m==\u001b[0m \u001b[1;32mFalse\u001b[0m\u001b[1;33m:\u001b[0m\u001b[1;33m\u001b[0m\u001b[1;33m\u001b[0m\u001b[0m\n\u001b[1;32m---> 30\u001b[1;33m         \u001b[0mprint\u001b[0m\u001b[1;33m(\u001b[0m\u001b[0mmax\u001b[0m\u001b[1;33m(\u001b[0m\u001b[0msett\u001b[0m\u001b[1;33m)\u001b[0m\u001b[1;33m)\u001b[0m\u001b[1;33m\u001b[0m\u001b[1;33m\u001b[0m\u001b[0m\n\u001b[0m\u001b[0;32m     31\u001b[0m     \u001b[1;32melse\u001b[0m\u001b[1;33m:\u001b[0m\u001b[1;33m\u001b[0m\u001b[1;33m\u001b[0m\u001b[0m\n\u001b[0;32m     32\u001b[0m         \u001b[0mprint\u001b[0m\u001b[1;33m(\u001b[0m\u001b[0mM\u001b[0m\u001b[1;33m)\u001b[0m\u001b[1;33m\u001b[0m\u001b[1;33m\u001b[0m\u001b[0m\n",
      "\u001b[1;31mValueError\u001b[0m: max() arg is an empty sequence"
     ]
    }
   ],
   "source": [
    "N, M = map(int, input().split())\n",
    "num = list(map(int, input().split()))\n",
    "sett = []\n",
    "\n",
    "num.sort()\n",
    "breaker = False\n",
    "if num[-1]+num[-2]+num[-3] <= M:\n",
    "    print(sum(num[-1], num[-2], num[-3]))\n",
    "else:\n",
    "    for i in range(N):\n",
    "        if num[0]+num[1]+num[-(i+1)]<=M:\n",
    "            k = len(num)-i\n",
    "            break\n",
    "    for l in range(k-2):\n",
    "        if breaker == True:\n",
    "            break\n",
    "        for m in range(l+1, k-1):\n",
    "            if breaker == True:\n",
    "                break\n",
    "            for n in range(m+1, k):\n",
    "                if num[l]+num[m]+num[n]<=M:\n",
    "                    if num[l]+num[m]+num[n]==M:\n",
    "                        breaker = True\n",
    "                        break\n",
    "                    else:\n",
    "                        sett.append(num[l]+num[m]+num[n])\n",
    "            \n",
    "    if breaker == False:\n",
    "        print(max(sett))\n",
    "    else:\n",
    "        print(M)"
   ]
  },
  {
   "cell_type": "code",
   "execution_count": 34,
   "id": "e22f1611",
   "metadata": {},
   "outputs": [
    {
     "name": "stdout",
     "output_type": "stream",
     "text": [
      "5 21\n",
      "5 6 7 8 9\n",
      "21\n"
     ]
    }
   ],
   "source": [
    "N, M = map(int, input().split())\n",
    "num = list(map(int, input().split()))\n",
    "sett = []\n",
    "\n",
    "num.sort()\n",
    "breaker = False\n",
    "if num[-1]+num[-2]+num[-3] <= M:\n",
    "    print(sum(num[-1], num[-2], num[-3]))\n",
    "else:\n",
    "    for i in range(N):\n",
    "        if num[0]+num[1]+sorted(num, reverse=True)[-i-1]<=M:\n",
    "            k = N-i\n",
    "            break\n",
    "    for l in range(k-2):\n",
    "        if breaker == True:\n",
    "            break\n",
    "        for m in range(l+1, k-1):\n",
    "            if breaker == True:\n",
    "                break\n",
    "            for n in range(m+1, k):\n",
    "                if num[l]+num[m]+num[n]<=M:\n",
    "                    if num[l]+num[m]+num[n]==M:\n",
    "                        breaker = True\n",
    "                        break\n",
    "                    else:\n",
    "                        sett.append(num[l]+num[m]+num[n])\n",
    "            \n",
    "    if breaker == False:\n",
    "        print(max(sett))\n",
    "    else:\n",
    "        print(M)"
   ]
  },
  {
   "cell_type": "code",
   "execution_count": 33,
   "id": "c11e7fba",
   "metadata": {},
   "outputs": [
    {
     "name": "stdout",
     "output_type": "stream",
     "text": [
      "1\n",
      "7\n",
      "1\n",
      "2\n"
     ]
    }
   ],
   "source": [
    "a = [1, 2, 3, 4, 5, 6, 7]\n",
    "print(a[0])\n",
    "print(a[-1])\n",
    "print(a[-7])\n",
    "print(a[-7+1])"
   ]
  },
  {
   "cell_type": "code",
   "execution_count": 31,
   "id": "e5c9f59b",
   "metadata": {},
   "outputs": [],
   "source": [
    "for i in range(0):\n",
    "    print(i)"
   ]
  },
  {
   "cell_type": "code",
   "execution_count": 43,
   "id": "95135c87",
   "metadata": {},
   "outputs": [
    {
     "name": "stdout",
     "output_type": "stream",
     "text": [
      "5 21\n",
      "5 6 7 8 9\n",
      "21\n"
     ]
    }
   ],
   "source": [
    "N, M = map(int, input().split())\n",
    "num = list(map(int, input().split()))\n",
    "sett = []\n",
    "num.sort()\n",
    "\n",
    "for i in range(N):\n",
    "    for j in range(i+1, N):\n",
    "        for k in range(j+1, N):\n",
    "            ss = num[i]+num[j]+num[k]\n",
    "            if ss<=M:\n",
    "                sett.append(ss)\n",
    "print(max(sett))"
   ]
  }
 ],
 "metadata": {
  "kernelspec": {
   "display_name": "Python 3 (ipykernel)",
   "language": "python",
   "name": "python3"
  },
  "language_info": {
   "codemirror_mode": {
    "name": "ipython",
    "version": 3
   },
   "file_extension": ".py",
   "mimetype": "text/x-python",
   "name": "python",
   "nbconvert_exporter": "python",
   "pygments_lexer": "ipython3",
   "version": "3.9.7"
  }
 },
 "nbformat": 4,
 "nbformat_minor": 5
}
