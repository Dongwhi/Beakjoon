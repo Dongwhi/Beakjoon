{
 "cells": [
  {
   "cell_type": "markdown",
   "id": "6684dd3f",
   "metadata": {},
   "source": [
    "문제\n",
    "상근이는 나무 M미터가 필요하다. 근처에 나무를 구입할 곳이 모두 망해버렸기 때문에, 정부에 벌목 허가를 요청했다. 정부는 상근이네 집 근처의 나무 한 줄에 대한 벌목 허가를 내주었고, 상근이는 새로 구입한 목재절단기를 이용해서 나무를 구할것이다.\n",
    "\n",
    "목재절단기는 다음과 같이 동작한다. 먼저, 상근이는 절단기에 높이 H를 지정해야 한다. 높이를 지정하면 톱날이 땅으로부터 H미터 위로 올라간다. 그 다음, 한 줄에 연속해있는 나무를 모두 절단해버린다. 따라서, 높이가 H보다 큰 나무는 H 위의 부분이 잘릴 것이고, 낮은 나무는 잘리지 않을 것이다. 예를 들어, 한 줄에 연속해있는 나무의 높이가 20, 15, 10, 17이라고 하자. 상근이가 높이를 15로 지정했다면, 나무를 자른 뒤의 높이는 15, 15, 10, 15가 될 것이고, 상근이는 길이가 5인 나무와 2인 나무를 들고 집에 갈 것이다. (총 7미터를 집에 들고 간다) 절단기에 설정할 수 있는 높이는 양의 정수 또는 0이다.\n",
    "\n",
    "상근이는 환경에 매우 관심이 많기 때문에, 나무를 필요한 만큼만 집으로 가져가려고 한다. 이때, 적어도 M미터의 나무를 집에 가져가기 위해서 절단기에 설정할 수 있는 높이의 최댓값을 구하는 프로그램을 작성하시오.\n",
    "\n",
    "입력\n",
    "첫째 줄에 나무의 수 N과 상근이가 집으로 가져가려고 하는 나무의 길이 M이 주어진다. (1 ≤ N ≤ 1,000,000, 1 ≤ M ≤ 2,000,000,000)\n",
    "\n",
    "둘째 줄에는 나무의 높이가 주어진다. 나무의 높이의 합은 항상 M보다 크거나 같기 때문에, 상근이는 집에 필요한 나무를 항상 가져갈 수 있다. 높이는 1,000,000,000보다 작거나 같은 양의 정수 또는 0이다.\n",
    "\n",
    "출력\n",
    "적어도 M미터의 나무를 집에 가져가기 위해서 절단기에 설정할 수 있는 높이의 최댓값을 출력한다."
   ]
  },
  {
   "cell_type": "code",
   "execution_count": 10,
   "id": "6c068d0d",
   "metadata": {},
   "outputs": [
    {
     "name": "stdout",
     "output_type": "stream",
     "text": [
      "10 8\n",
      "0 0 0 0 0 0 0 2 3 4\n",
      "0\n"
     ]
    }
   ],
   "source": [
    "N, M = map(int, input().split())\n",
    "height = list(map(int, input().split()))\n",
    "height.sort()\n",
    "height_one = sorted(list(set(height)))\n",
    "start = 0\n",
    "end = N-1\n",
    "\n",
    "\n",
    "while start<=end:\n",
    "    mid = (start+end)//2\n",
    "    if sum(height[x]-height[mid] for x in range(mid, N))<M:\n",
    "        end = mid-1\n",
    "    else:\n",
    "        start = mid+1\n",
    "\n",
    "start_ = height[end]\n",
    "end_ =  height_one[height_one.index(height[end])+1]\n",
    "ind = height.index(end_)\n",
    "\n",
    "while start_<=end_:\n",
    "    mid_ = (start_+end_)//2\n",
    "    if sum(height[x]-mid_ for x in range(ind, N))<M:\n",
    "        end_ = mid_-1\n",
    "    else:\n",
    "        start_ = mid_+1\n",
    "print(end_)"
   ]
  },
  {
   "cell_type": "code",
   "execution_count": null,
   "id": "f9ee2fa7",
   "metadata": {},
   "outputs": [],
   "source": [
    "#런타임 에러. 아마 제시된 값들중에선 M 이상을 만들 순 있지만 계산하다보면 out of range 뜨는 때일듯\n",
    "import sys\n",
    "\n",
    "N, M = map(int, sys.stdin.readline().split())\n",
    "height = list(map(int, sys.stdin.readline().split()))\n",
    "height.remove(0)\n",
    "height.sort()\n",
    "height_one = sorted(list(set(height)))\n",
    "start = 0\n",
    "end = len(height)-1\n",
    "while start<=end:\n",
    "    mid = (start+end)//2\n",
    "    if sum(height[x]-height[mid] for x in range(mid, len(height)))<M:\n",
    "        end = mid-1\n",
    "    else:\n",
    "        start = mid+1\n",
    "\n",
    "start_ = height[end]\n",
    "end_ =  height_one[height_one.index(height[end])+1]\n",
    "ind = height.index(end_)\n",
    "\n",
    "while start_<=end_:\n",
    "    mid_ = (start_+end_)//2\n",
    "    if sum(height[x]-mid_ for x in range(ind, len(height)))<M:\n",
    "        end_ = mid_-1\n",
    "    else:\n",
    "        start_ = mid_+1\n",
    "print(end_)"
   ]
  },
  {
   "cell_type": "code",
   "execution_count": 13,
   "id": "017ab9ae",
   "metadata": {},
   "outputs": [
    {
     "name": "stdout",
     "output_type": "stream",
     "text": [
      "4 7\n",
      "20 15 10 17\n",
      "15\n"
     ]
    }
   ],
   "source": [
    "#두 번 바이너리해서 더 빠르게 찾으려 하니깐 저 에러가 생긴것. 그냥 정공법으로 감(바이너리로 처음부터 계산)\n",
    "N, M = map(int, input().split())\n",
    "height = list(map(int, input().split()))\n",
    "height.sort()\n",
    "start = 0\n",
    "end = height[-1]\n",
    "\n",
    "while start<=end:\n",
    "    mid = (start+end)//2\n",
    "    if sum(x-mid if x-mid>0 else 0 for x in height)<M:\n",
    "        end = mid-1\n",
    "    else:\n",
    "        start = mid+1\n",
    "\n",
    "print(end)"
   ]
  },
  {
   "cell_type": "code",
   "execution_count": null,
   "id": "8874638c",
   "metadata": {},
   "outputs": [],
   "source": [
    "#sys 버전\n",
    "import sys\n",
    "N, M = map(int, sys.stdin.readline().split())\n",
    "height = list(map(int, sys.stdin.readline().split()))\n",
    "height.sort()\n",
    "start = 0\n",
    "end = height[-1]\n",
    "\n",
    "while start<=end:\n",
    "    mid = (start+end)//2\n",
    "    if sum(x-mid if x-mid>0 else 0 for x in height)<M:\n",
    "        end = mid-1\n",
    "    else:\n",
    "        start = mid+1\n",
    "\n",
    "print(end)"
   ]
  },
  {
   "cell_type": "code",
   "execution_count": null,
   "id": "aacc39eb",
   "metadata": {},
   "outputs": [],
   "source": []
  }
 ],
 "metadata": {
  "kernelspec": {
   "display_name": "Python 3 (ipykernel)",
   "language": "python",
   "name": "python3"
  },
  "language_info": {
   "codemirror_mode": {
    "name": "ipython",
    "version": 3
   },
   "file_extension": ".py",
   "mimetype": "text/x-python",
   "name": "python",
   "nbconvert_exporter": "python",
   "pygments_lexer": "ipython3",
   "version": "3.9.7"
  }
 },
 "nbformat": 4,
 "nbformat_minor": 5
}
