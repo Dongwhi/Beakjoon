{
 "cells": [
  {
   "cell_type": "markdown",
   "id": "b04e8143",
   "metadata": {},
   "source": [
    "문제\n",
    "세계는 균형이 잘 잡혀있어야 한다. 양과 음, 빛과 어둠 그리고 왼쪽 괄호와 오른쪽 괄호처럼 말이다.\n",
    "\n",
    "정민이의 임무는 어떤 문자열이 주어졌을 때, 괄호들의 균형이 잘 맞춰져 있는지 판단하는 프로그램을 짜는 것이다.\n",
    "\n",
    "문자열에 포함되는 괄호는 소괄호(\"()\") 와 대괄호(\"[]\")로 2종류이고, 문자열이 균형을 이루는 조건은 아래와 같다.\n",
    "\n",
    "모든 왼쪽 소괄호(\"(\")는 오른쪽 소괄호(\")\")와만 짝을 이뤄야 한다.\n",
    "모든 왼쪽 대괄호(\"[\")는 오른쪽 대괄호(\"]\")와만 짝을 이뤄야 한다.\n",
    "모든 오른쪽 괄호들은 자신과 짝을 이룰 수 있는 왼쪽 괄호가 존재한다.\n",
    "모든 괄호들의 짝은 1:1 매칭만 가능하다. 즉, 괄호 하나가 둘 이상의 괄호와 짝지어지지 않는다.\n",
    "짝을 이루는 두 괄호가 있을 때, 그 사이에 있는 문자열도 균형이 잡혀야 한다.\n",
    "정민이를 도와 문자열이 주어졌을 때 균형잡힌 문자열인지 아닌지를 판단해보자.\n",
    "\n",
    "입력\n",
    "하나 또는 여러줄에 걸쳐서 문자열이 주어진다. 각 문자열은 영문 알파벳, 공백, 소괄호(\"( )\") 대괄호(\"[ ]\")등으로 이루어져 있으며, 길이는 100글자보다 작거나 같다. 각 줄은 마침표(\".\")로 끝난다.\n",
    "\n",
    "입력의 종료조건으로 맨 마지막에 점 하나(\".\")가 들어온다.\n",
    "출력\n",
    "각 줄마다 해당 문자열이 균형을 이루고 있으면 \"yes\"를, 아니면 \"no\"를 출력한다."
   ]
  },
  {
   "cell_type": "code",
   "execution_count": 11,
   "id": "5d6e1e2d",
   "metadata": {},
   "outputs": [
    {
     "name": "stdout",
     "output_type": "stream",
     "text": [
      "(()())(()())())(()[)([][]][]])((]][]. (()(([[]()([()])])[(([[]]))])). [][]]][][[][9)(()()([]9)()[][()(0(){(9])({}(}(}{(}{)((({)}(9){(}0}9}{09]. .\n",
      "no\n",
      "yes\n",
      "no\n"
     ]
    }
   ],
   "source": [
    "S = input().split('. ')\n",
    "    \n",
    "def balance(s):\n",
    "    bal_list = []\n",
    "    again = True\n",
    "    for j in range(len(s)):\n",
    "        if s[j]=='(':\n",
    "            bal_list.append(1)\n",
    "        elif s[j]=='[':\n",
    "            bal_list.append(2)\n",
    "        elif s[j]==')':\n",
    "            if len(bal_list)!=0:\n",
    "                if bal_list[-1]==1:\n",
    "                    del bal_list[-1]\n",
    "                else:\n",
    "                    again=False\n",
    "                    break\n",
    "            else:\n",
    "                again=False\n",
    "                break\n",
    "        elif s[j]==']':\n",
    "            if len(bal_list)!=0:\n",
    "                if bal_list[-1]==2:\n",
    "                    del bal_list[-1]\n",
    "                else:\n",
    "                    again=False\n",
    "                    break\n",
    "            else:\n",
    "                again=False\n",
    "                break\n",
    "    if again==False:\n",
    "        print('no')\n",
    "    else:\n",
    "        print('yes')\n",
    "            \n",
    "for i in range(len(S)-1):\n",
    "    balance(S[i])"
   ]
  },
  {
   "cell_type": "code",
   "execution_count": 17,
   "id": "3a2172f6",
   "metadata": {},
   "outputs": [
    {
     "name": "stdout",
     "output_type": "stream",
     "text": [
      "So when I die (the [first] I will see in (heaven) is a score list).\n",
      "yes\n",
      "[ first in ] ( first out ).\n",
      "yes\n",
      "Half Moon tonight (At least it is better than no Moon at all].\n",
      "no\n",
      "A rope may form )( a trail in a maze.\n",
      "no\n",
      "Help( I[m being held prisoner in a fortune cookie factory)].\n",
      "no\n",
      "([ (([( [ ] ) ( ) (( ))] )) ]).\n",
      "yes\n",
      " .\n",
      "yes\n",
      ".\n"
     ]
    }
   ],
   "source": [
    "while True:\n",
    "    s = input()\n",
    "    if s=='.':\n",
    "        break\n",
    "    bal_list = []\n",
    "    again = True\n",
    "    for i in s:\n",
    "        if i=='(' or i=='[':\n",
    "            bal_list.append(i)\n",
    "        elif i==')':\n",
    "            if not bal_list or bal_list[-1]=='[':\n",
    "                again=False\n",
    "                break\n",
    "            elif bal_list[-1]=='(':\n",
    "                del bal_list[-1]\n",
    "        elif i==']':\n",
    "            if not bal_list or bal_list[-1]=='(':\n",
    "                again=False\n",
    "                break\n",
    "            elif bal_list[-1]=='[':\n",
    "                del bal_list[-1]\n",
    "    if again==False:\n",
    "        print('no')\n",
    "    else:\n",
    "        print('yes')\n",
    "#마지막 yes, no 출력 부분에서 오류 발생. 아래에 고쳐놓음"
   ]
  },
  {
   "cell_type": "code",
   "execution_count": null,
   "id": "938eb2d4",
   "metadata": {},
   "outputs": [],
   "source": [
    "while True:\n",
    "    s = input()\n",
    "    if s=='.':\n",
    "        break\n",
    "    bal_list = []\n",
    "    again = True\n",
    "    for i in s:\n",
    "        if i=='(' or i=='[':\n",
    "            bal_list.append(i)\n",
    "        elif i==')':\n",
    "            if not bal_list or bal_list[-1]=='[':\n",
    "                again=False\n",
    "                break\n",
    "            elif bal_list[-1]=='(':\n",
    "                del bal_list[-1]\n",
    "        elif i==']':\n",
    "            if not bal_list or bal_list[-1]=='(':\n",
    "                again=False\n",
    "                break\n",
    "            elif bal_list[-1]=='[':\n",
    "                del bal_list[-1]\n",
    "    if again==True and not bal_list:\n",
    "        print('yes')\n",
    "    else:\n",
    "        print('no')"
   ]
  },
  {
   "cell_type": "code",
   "execution_count": 15,
   "id": "ff78225e",
   "metadata": {},
   "outputs": [
    {
     "data": {
      "text/plain": [
       "False"
      ]
     },
     "execution_count": 15,
     "metadata": {},
     "output_type": "execute_result"
    }
   ],
   "source": [
    "lis = []\n",
    "not lis\n",
    "#not list는 list가 비어있으면 True"
   ]
  },
  {
   "cell_type": "code",
   "execution_count": null,
   "id": "101f6b73",
   "metadata": {},
   "outputs": [],
   "source": []
  }
 ],
 "metadata": {
  "kernelspec": {
   "display_name": "Python 3 (ipykernel)",
   "language": "python",
   "name": "python3"
  },
  "language_info": {
   "codemirror_mode": {
    "name": "ipython",
    "version": 3
   },
   "file_extension": ".py",
   "mimetype": "text/x-python",
   "name": "python",
   "nbconvert_exporter": "python",
   "pygments_lexer": "ipython3",
   "version": "3.9.7"
  }
 },
 "nbformat": 4,
 "nbformat_minor": 5
}
