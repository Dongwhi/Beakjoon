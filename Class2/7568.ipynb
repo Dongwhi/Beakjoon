{
 "cells": [
  {
   "cell_type": "markdown",
   "id": "976413c1",
   "metadata": {},
   "source": [
    "문제\n",
    "우리는 사람의 덩치를 키와 몸무게, 이 두 개의 값으로 표현하여 그 등수를 매겨보려고 한다. 어떤 사람의 몸무게가 x kg이고 키가 y cm라면 이 사람의 덩치는 (x, y)로 표시된다. 두 사람 A 와 B의 덩치가 각각 (x, y), (p, q)라고 할 때 x > p 그리고 y > q 이라면 우리는 A의 덩치가 B의 덩치보다 \"더 크다\"고 말한다. 예를 들어 어떤 A, B 두 사람의 덩치가 각각 (56, 177), (45, 165) 라고 한다면 A의 덩치가 B보다 큰 셈이 된다. 그런데 서로 다른 덩치끼리 크기를 정할 수 없는 경우도 있다. 예를 들어 두 사람 C와 D의 덩치가 각각 (45, 181), (55, 173)이라면 몸무게는 D가 C보다 더 무겁고, 키는 C가 더 크므로, \"덩치\"로만 볼 때 C와 D는 누구도 상대방보다 더 크다고 말할 수 없다.\n",
    "\n",
    "N명의 집단에서 각 사람의 덩치 등수는 자신보다 더 \"큰 덩치\"의 사람의 수로 정해진다. 만일 자신보다 더 큰 덩치의 사람이 k명이라면 그 사람의 덩치 등수는 k+1이 된다. 이렇게 등수를 결정하면 같은 덩치 등수를 가진 사람은 여러 명도 가능하다. 아래는 5명으로 이루어진 집단에서 각 사람의 덩치와 그 등수가 표시된 표이다.\n",
    "\n",
    "이름\t(몸무게, 키)\t덩치 등수\n",
    "A\t(55, 185)\t2\n",
    "B\t(58, 183)\t2\n",
    "C\t(88, 186)\t1\n",
    "D\t(60, 175)\t2\n",
    "E\t(46, 155)\t5\n",
    "위 표에서 C보다 더 큰 덩치의 사람이 없으므로 C는 1등이 된다. 그리고 A, B, D 각각의 덩치보다 큰 사람은 C뿐이므로 이들은 모두 2등이 된다. 그리고 E보다 큰 덩치는 A, B, C, D 이렇게 4명이므로 E의 덩치는 5등이 된다. 위 경우에 3등과 4등은 존재하지 않는다. 여러분은 학생 N명의 몸무게와 키가 담긴 입력을 읽어서 각 사람의 덩치 등수를 계산하여 출력해야 한다.\n",
    "\n",
    "입력\n",
    "첫 줄에는 전체 사람의 수 N이 주어진다. 그리고 이어지는 N개의 줄에는 각 사람의 몸무게와 키를 나타내는 양의 정수 x와 y가 하나의 공백을 두고 각각 나타난다.\n",
    "\n",
    "출력\n",
    "여러분은 입력에 나열된 사람의 덩치 등수를 구해서 그 순서대로 첫 줄에 출력해야 한다. 단, 각 덩치 등수는 공백문자로 분리되어야 한다."
   ]
  },
  {
   "cell_type": "code",
   "execution_count": 72,
   "id": "f8144d34",
   "metadata": {},
   "outputs": [
    {
     "name": "stdout",
     "output_type": "stream",
     "text": [
      "10\n",
      "55 164\n",
      "54 168\n",
      "64 184\n",
      "48 158\n",
      "49 177\n",
      "67 184\n",
      "80 165\n",
      "54 170\n",
      "50 123\n",
      "61 191\n",
      "1 1 1 1 1 1 1 1 1 1\n"
     ]
    }
   ],
   "source": [
    "N = int(input())\n",
    "lis = []\n",
    "ranking = []\n",
    "pbst = []\n",
    "pbsts = []\n",
    "pbsts_list = []\n",
    "pb = []\n",
    "pbs = []\n",
    "pbs_list = []\n",
    "same = []\n",
    "count = 0\n",
    "\n",
    "for i in range(N):\n",
    "    x, y = map(int, input().split())\n",
    "    lis.append([x, y])\n",
    "    ranking.append(0)\n",
    "\n",
    "def the_one(lll):\n",
    "    global pbst\n",
    "    global pbsts\n",
    "    global pbsts_list\n",
    "    for j in range(lll):\n",
    "        pbst = [lis[j], j]\n",
    "        for k in range(lll):\n",
    "            if j != k:\n",
    "                if lis[j][0]>lis[k][0] and lis[j][1]>lis[k][1]:\n",
    "                    pass\n",
    "                else:\n",
    "                    pbst = []\n",
    "                    break\n",
    "            else:\n",
    "                pass\n",
    "        if pbst!=[]:\n",
    "            pbsts.append(pbst)\n",
    "            lis[pbst[1]]=[0, 0]\n",
    "            pbsts_list.append([count, pbsts])\n",
    "            pbsts = []\n",
    "            break\n",
    "        else:\n",
    "            pass\n",
    "    if pbst != []:\n",
    "        pbst = []\n",
    "    else:\n",
    "        pbsts_list.append([count, 'nono'])\n",
    "    \n",
    "def when_no_one(ll):\n",
    "    again = False\n",
    "    global same\n",
    "    global pb\n",
    "    global pbs\n",
    "    global pbs_list\n",
    "    \n",
    "    global pbst\n",
    "    global pbsts\n",
    "    global pbsts_list\n",
    "    for u in range(ll):\n",
    "        pbst = [lis[u], u]\n",
    "        for v in range(ll):\n",
    "            if u != v:\n",
    "                if lis[u][0]>lis[v][0] and lis[u][1]>lis[v][1]:\n",
    "                    pass\n",
    "                else:\n",
    "                    pbst = []\n",
    "                    break\n",
    "            else:\n",
    "                pass\n",
    "        if pbst!=[]:\n",
    "            pbst = []\n",
    "            again = True\n",
    "            break\n",
    "        else:\n",
    "            pass\n",
    "    if again == True:\n",
    "        pbs_list.append([count, 'nono'])\n",
    "        pass\n",
    "    else:\n",
    "        if sum(lis[r][0] for r in range(len(lis)))!=0:\n",
    "            for l in range(ll):\n",
    "                pb = [lis[l], l]\n",
    "                su = False\n",
    "                sa = False\n",
    "                for m in range(ll):\n",
    "                    if l!=m:\n",
    "                        if lis[l][0]==lis[m][0] and lis[l][1]==lis[m][1]:\n",
    "                            sa = True\n",
    "                            break\n",
    "                        else:\n",
    "                            pass\n",
    "                    else:\n",
    "                        pass\n",
    "                if sa==False:\n",
    "                    for mm in range(ll):\n",
    "                        if l!=mm:\n",
    "                            if lis[l][0]>=lis[mm][0] or lis[l][1]>=lis[mm][1]:\n",
    "                                su = True\n",
    "                                break\n",
    "                            else:\n",
    "                                pass\n",
    "                        else:\n",
    "                            pass\n",
    "                else:\n",
    "                    pass\n",
    "                if sa==True:\n",
    "                    same.append(pd)\n",
    "                else:\n",
    "                    pass\n",
    "                if su==True:\n",
    "                    pbs.append(pb)\n",
    "                else:\n",
    "                    pass\n",
    "            if len(same)==0:\n",
    "                for t in range(len(pbs)):\n",
    "                    lis[pbs[t][1]]=[0, 0]\n",
    "                pbs_list.append([count, pbs])\n",
    "                pbs = []\n",
    "            else:\n",
    "                for tt in tange(len(sane)):\n",
    "                    lis[same[tt][1]]=[0, 0]\n",
    "                pbs_list.append([count, same])\n",
    "                same=[]\n",
    "                pbs=[]\n",
    "        else:\n",
    "            pbs_list.append([count, 'nono'])\n",
    "#pbsts_list shape:[[count1, [[[x, y], index]]], [count2, [[[x, y], index]]], [count3, [[[x, y], index]]]]\n",
    "#pbs_list shape:[[count1, [[[x, y], index], [[x, y], index], [[x, y], index]]], \n",
    "#                [count2, [[[x, y], index], [[x, y], index], [[x, y], index]]], \n",
    "#                [count3, [[[x, y], index], [[x, y], index], [[x, y], index]]]]\n",
    "\n",
    "rank = 1\n",
    "while True:\n",
    "    if sum(lis[s][0] for s in range(len(lis)))!=0:\n",
    "        the_one(N)\n",
    "        when_no_one(N)\n",
    "        count += 1\n",
    "    else:\n",
    "        for o in range(len(pbsts_list)):\n",
    "            if pbsts_list[o][1]!='nono':\n",
    "                ranking[pbsts_list[o][1][0][1]] = rank\n",
    "                rank += 1\n",
    "            else:\n",
    "                pass\n",
    "            if pbs_list[o][1]!='nono':\n",
    "                for q in range(len(pbs_list[o][1])):\n",
    "                    ranking[pbs_list[o][1][q][1]] = rank\n",
    "                rank += len(pbs_list[o][1])\n",
    "            else:\n",
    "                pass\n",
    "        break\n",
    "print(*ranking)\n",
    "\n",
    "#N명의 집단에서 각 사람의 덩치 등수는 자신보다 더 \"큰 덩치\"의 사람의 수로 정해진다.\n",
    "#이 조건 고려 안해버렸음 다시 아래에 시작함"
   ]
  },
  {
   "cell_type": "code",
   "execution_count": 89,
   "id": "2db907ec",
   "metadata": {},
   "outputs": [
    {
     "name": "stdout",
     "output_type": "stream",
     "text": [
      "5\n",
      "55 185\n",
      "58 183\n",
      "88 186\n",
      "60 175\n",
      "46 155\n",
      "2 2 1 2 5\n"
     ]
    }
   ],
   "source": [
    "#가장 낮은 순위부터 세야함\n",
    "N = int(input())\n",
    "lis = []\n",
    "count = 0\n",
    "mmcount = []\n",
    "rank = 1\n",
    "ranking = []\n",
    "for i in range(N):\n",
    "    x, y = map(int, input().split())\n",
    "    lis.append([x, y])\n",
    "    ranking.append(0)\n",
    "    mmcount.append(0)\n",
    "    \n",
    "for j in range(N):\n",
    "    for k in range(N):\n",
    "        if lis[j][0]<lis[k][0] and lis[j][1]<lis[k][1]:\n",
    "            count += 1\n",
    "    mmcount[j]=count\n",
    "    count=0\n",
    "\n",
    "for l in sorted(list(set(mmcount))):\n",
    "    for m in range(N):\n",
    "        if mmcount[m]==l:\n",
    "            ranking[m]=rank\n",
    "    rank+=mmcount.count(l)\n",
    "print(*ranking)\n",
    "#이것도 'N명의 집단에서 각 사람의 덩치 등수는 자신보다 더 \"큰 덩치\"의 사람의 수로 정해진다.'이 조건 무시한거임\n",
    "#맨아래 for문 블록이 있으면 걍 위 조건에 무시됨. 반례는 제시 가능한데, 그 반례가 for문 없앤 데에선 왜 통하는지는 모르겠음 통하면 안되는거 아님?\n",
    "#아마 내가 너무 정확한 코딩을 해서 사이트에선 예외를 넘겨버렸고 그로인해 오류 결과가 정답인 입력이 있나봄\n",
    "#얻은 교훈은 문제가 틀렸을 수도 있으니 너무 시간낭비하지 말자는 것"
   ]
  },
  {
   "cell_type": "code",
   "execution_count": 91,
   "id": "c3f7f2d5",
   "metadata": {},
   "outputs": [
    {
     "name": "stdout",
     "output_type": "stream",
     "text": [
      "5\n",
      "55 185\n",
      "58 183\n",
      "88 186\n",
      "60 175\n",
      "46 155\n",
      "2 2 1 2 5\n"
     ]
    }
   ],
   "source": [
    "#여튼 문제에선 이렇게하면 통함\n",
    "N = int(input())\n",
    "lis = []\n",
    "count = 1\n",
    "mmcount = []\n",
    "rank = 1\n",
    "ranking = []\n",
    "for i in range(N):\n",
    "    x, y = map(int, input().split())\n",
    "    lis.append([x, y])\n",
    "    ranking.append(0)\n",
    "    mmcount.append(0)\n",
    "    \n",
    "for j in range(N):\n",
    "    for k in range(N):\n",
    "        if lis[j][0]<lis[k][0] and lis[j][1]<lis[k][1]:\n",
    "            count += 1\n",
    "    mmcount[j]=count\n",
    "    count=1\n",
    "\n",
    "print(*mmcount)"
   ]
  },
  {
   "cell_type": "code",
   "execution_count": 88,
   "id": "146e680d",
   "metadata": {},
   "outputs": [
    {
     "name": "stdout",
     "output_type": "stream",
     "text": [
      "5\n",
      "55 185\n",
      "58 183\n",
      "88 186\n",
      "60 175\n",
      "46 155\n",
      "2 2 1 2 5 "
     ]
    }
   ],
   "source": [
    "#줄이면 이렇게됨\n",
    "N = int(input())\n",
    "lis = []\n",
    "for i in range(N):\n",
    "    x, y = map(int, input().split())\n",
    "    lis.append([x, y])\n",
    "    \n",
    "for j in range(N):\n",
    "    rank = 1\n",
    "    for k in range(N):\n",
    "        if lis[j][0]<lis[k][0] and lis[j][1]<lis[k][1]:\n",
    "            rank += 1\n",
    "    print(rank, end=' ')"
   ]
  },
  {
   "cell_type": "code",
   "execution_count": 7,
   "id": "c282dc98",
   "metadata": {},
   "outputs": [
    {
     "ename": "TypeError",
     "evalue": "unsupported operand type(s) for +: 'int' and 'list'",
     "output_type": "error",
     "traceback": [
      "\u001b[1;31m---------------------------------------------------------------------------\u001b[0m",
      "\u001b[1;31mTypeError\u001b[0m                                 Traceback (most recent call last)",
      "\u001b[1;32m~\\AppData\\Local\\Temp/ipykernel_79200/1673048289.py\u001b[0m in \u001b[0;36m<module>\u001b[1;34m\u001b[0m\n\u001b[0;32m      1\u001b[0m \u001b[0mlis\u001b[0m \u001b[1;33m=\u001b[0m \u001b[1;33m[\u001b[0m\u001b[1;33m[\u001b[0m\u001b[1;36m0\u001b[0m\u001b[1;33m,\u001b[0m \u001b[1;36m0\u001b[0m\u001b[1;33m]\u001b[0m\u001b[1;33m,\u001b[0m \u001b[1;33m[\u001b[0m\u001b[1;36m0\u001b[0m\u001b[1;33m,\u001b[0m \u001b[1;36m0\u001b[0m\u001b[1;33m]\u001b[0m\u001b[1;33m,\u001b[0m \u001b[1;33m[\u001b[0m\u001b[1;36m0\u001b[0m\u001b[1;33m,\u001b[0m \u001b[1;36m0\u001b[0m\u001b[1;33m]\u001b[0m\u001b[1;33m]\u001b[0m\u001b[1;33m\u001b[0m\u001b[1;33m\u001b[0m\u001b[0m\n\u001b[1;32m----> 2\u001b[1;33m \u001b[0msum\u001b[0m\u001b[1;33m(\u001b[0m\u001b[0mlis\u001b[0m\u001b[1;33m)\u001b[0m\u001b[1;33m\u001b[0m\u001b[1;33m\u001b[0m\u001b[0m\n\u001b[0m",
      "\u001b[1;31mTypeError\u001b[0m: unsupported operand type(s) for +: 'int' and 'list'"
     ]
    }
   ],
   "source": [
    "lis = [[0, 0], [0, 0], [0, 0]]\n",
    "sum(lis)"
   ]
  },
  {
   "cell_type": "code",
   "execution_count": 8,
   "id": "47c7c0f3",
   "metadata": {},
   "outputs": [
    {
     "data": {
      "text/plain": [
       "[0, 0, 0, 0]"
      ]
     },
     "execution_count": 8,
     "metadata": {},
     "output_type": "execute_result"
    }
   ],
   "source": [
    "[0, 0]+[0, 0]"
   ]
  },
  {
   "cell_type": "code",
   "execution_count": 9,
   "id": "116814fa",
   "metadata": {},
   "outputs": [
    {
     "ename": "NameError",
     "evalue": "name 'join' is not defined",
     "output_type": "error",
     "traceback": [
      "\u001b[1;31m---------------------------------------------------------------------------\u001b[0m",
      "\u001b[1;31mNameError\u001b[0m                                 Traceback (most recent call last)",
      "\u001b[1;32m~\\AppData\\Local\\Temp/ipykernel_79200/447505690.py\u001b[0m in \u001b[0;36m<module>\u001b[1;34m\u001b[0m\n\u001b[0;32m      1\u001b[0m \u001b[0mlis\u001b[0m \u001b[1;33m=\u001b[0m \u001b[1;33m[\u001b[0m\u001b[1;33m[\u001b[0m\u001b[1;36m0\u001b[0m\u001b[1;33m,\u001b[0m \u001b[1;36m0\u001b[0m\u001b[1;33m]\u001b[0m\u001b[1;33m,\u001b[0m \u001b[1;33m[\u001b[0m\u001b[1;36m0\u001b[0m\u001b[1;33m,\u001b[0m \u001b[1;36m0\u001b[0m\u001b[1;33m]\u001b[0m\u001b[1;33m]\u001b[0m\u001b[1;33m\u001b[0m\u001b[1;33m\u001b[0m\u001b[0m\n\u001b[1;32m----> 2\u001b[1;33m \u001b[0mjoin\u001b[0m\u001b[1;33m(\u001b[0m\u001b[0mlis\u001b[0m\u001b[1;33m)\u001b[0m\u001b[1;33m\u001b[0m\u001b[1;33m\u001b[0m\u001b[0m\n\u001b[0m",
      "\u001b[1;31mNameError\u001b[0m: name 'join' is not defined"
     ]
    }
   ],
   "source": [
    "lis = [[0, 0], [0, 0]]\n",
    "join(lis)"
   ]
  },
  {
   "cell_type": "code",
   "execution_count": 11,
   "id": "f04472d8",
   "metadata": {},
   "outputs": [
    {
     "data": {
      "text/plain": [
       "0"
      ]
     },
     "execution_count": 11,
     "metadata": {},
     "output_type": "execute_result"
    }
   ],
   "source": [
    "lis = [[0, 0], [0, 0]]\n",
    "sum(lis[f][0] for f in range(len(lis)))"
   ]
  },
  {
   "cell_type": "code",
   "execution_count": 53,
   "id": "01c59ee6",
   "metadata": {},
   "outputs": [
    {
     "data": {
      "text/plain": [
       "3"
      ]
     },
     "execution_count": 53,
     "metadata": {},
     "output_type": "execute_result"
    }
   ],
   "source": [
    "lis = [[0, 0], [0, 0], [0, 0]]\n",
    "lis.count([0, 0])"
   ]
  }
 ],
 "metadata": {
  "kernelspec": {
   "display_name": "Python 3 (ipykernel)",
   "language": "python",
   "name": "python3"
  },
  "language_info": {
   "codemirror_mode": {
    "name": "ipython",
    "version": 3
   },
   "file_extension": ".py",
   "mimetype": "text/x-python",
   "name": "python",
   "nbconvert_exporter": "python",
   "pygments_lexer": "ipython3",
   "version": "3.9.7"
  }
 },
 "nbformat": 4,
 "nbformat_minor": 5
}
