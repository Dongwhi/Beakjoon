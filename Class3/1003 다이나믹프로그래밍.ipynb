{
 "cells": [
  {
   "cell_type": "markdown",
   "id": "136d235d",
   "metadata": {},
   "source": [
    "문제\n",
    "다음 소스는 N번째 피보나치 수를 구하는 C++ 함수이다.\n",
    "\n",
    "int fibonacci(int n) {\n",
    "    if (n == 0) {\n",
    "        printf(\"0\");\n",
    "        return 0;\n",
    "    } else if (n == 1) {\n",
    "        printf(\"1\");\n",
    "        return 1;\n",
    "    } else {\n",
    "        return fibonacci(n‐1) + fibonacci(n‐2);\n",
    "    }\n",
    "}\n",
    "fibonacci(3)을 호출하면 다음과 같은 일이 일어난다.\n",
    "\n",
    "fibonacci(3)은 fibonacci(2)와 fibonacci(1) (첫 번째 호출)을 호출한다.\n",
    "fibonacci(2)는 fibonacci(1) (두 번째 호출)과 fibonacci(0)을 호출한다.\n",
    "두 번째 호출한 fibonacci(1)은 1을 출력하고 1을 리턴한다.\n",
    "fibonacci(0)은 0을 출력하고, 0을 리턴한다.\n",
    "fibonacci(2)는 fibonacci(1)과 fibonacci(0)의 결과를 얻고, 1을 리턴한다.\n",
    "첫 번째 호출한 fibonacci(1)은 1을 출력하고, 1을 리턴한다.\n",
    "fibonacci(3)은 fibonacci(2)와 fibonacci(1)의 결과를 얻고, 2를 리턴한다.\n",
    "1은 2번 출력되고, 0은 1번 출력된다. N이 주어졌을 때, fibonacci(N)을 호출했을 때, 0과 1이 각각 몇 번 출력되는지 구하는 프로그램을 작성하시오.\n",
    "\n",
    "입력\n",
    "첫째 줄에 테스트 케이스의 개수 T가 주어진다.\n",
    "\n",
    "각 테스트 케이스는 한 줄로 이루어져 있고, N이 주어진다. N은 40보다 작거나 같은 자연수 또는 0이다.\n",
    "\n",
    "출력\n",
    "각 테스트 케이스마다 0이 출력되는 횟수와 1이 출력되는 횟수를 공백으로 구분해서 출력한다."
   ]
  },
  {
   "cell_type": "code",
   "execution_count": 8,
   "id": "a1226d5f",
   "metadata": {},
   "outputs": [
    {
     "name": "stdout",
     "output_type": "stream",
     "text": [
      "10\n",
      "12\n",
      "89 144\n",
      "25\n",
      "46368 75025\n",
      "28\n",
      "196418 317811\n",
      "30\n",
      "514229 832040\n",
      "32\n",
      "1346269 2178309\n",
      "34\n",
      "3524578 5702887\n",
      "36\n",
      "9227465 14930352\n",
      "10\n",
      "34 55\n",
      "22\n",
      "10946 17711\n",
      "40\n",
      "63245986 102334155\n"
     ]
    }
   ],
   "source": [
    "T = int(input())\n",
    "\n",
    "def fibonacci(n):\n",
    "    global count_0\n",
    "    global count_1\n",
    "    if n==0:\n",
    "        count_0 += 1\n",
    "    elif n==1:\n",
    "        count_1 += 1\n",
    "    else:\n",
    "        fibonacci(n-1)\n",
    "        fibonacci(n-2)\n",
    "\n",
    "for _ in range(T):\n",
    "    count_0 = 0\n",
    "    count_1 = 0\n",
    "    fibonacci(int(input()))\n",
    "    print(count_0, count_1)"
   ]
  },
  {
   "cell_type": "code",
   "execution_count": 12,
   "id": "25673017",
   "metadata": {},
   "outputs": [
    {
     "name": "stdout",
     "output_type": "stream",
     "text": [
      "10\n",
      "1\n",
      "0 1\n",
      "1\n",
      "0 1\n",
      "1\n",
      "0 1\n",
      "1\n",
      "0 1\n",
      "2\n",
      "1 1\n",
      "3\n",
      "1 2\n",
      "3\n",
      "1 2\n",
      "3\n",
      "1 2\n",
      "5\n",
      "3 5\n",
      "5\n",
      "3 5\n"
     ]
    }
   ],
   "source": [
    "#다이나믹 프로그래밍\n",
    "zero = [1, 0, 1]\n",
    "one = [0, 1, 1]\n",
    "def fibo_count(n):\n",
    "    if n>=len(zero):\n",
    "        for i in range(len(zero), n+1):\n",
    "            zero.append(zero[i-2]+zero[i-1])\n",
    "            one.append(one[i-2]+one[i-1])\n",
    "    print(zero[n], one[n])\n",
    "T = int(input())\n",
    "for _ in range(T):\n",
    "    fibo_count(int(input()))"
   ]
  },
  {
   "cell_type": "code",
   "execution_count": 9,
   "id": "a9bca3cc",
   "metadata": {},
   "outputs": [
    {
     "name": "stdout",
     "output_type": "stream",
     "text": [
      "10\n",
      "[1, 2, 3, 10]\n"
     ]
    }
   ],
   "source": [
    "lis = [1, 2, 3]\n",
    "def msms(n):\n",
    "    lis.append(n)\n",
    "msms(int(input()))\n",
    "print(lis)"
   ]
  }
 ],
 "metadata": {
  "kernelspec": {
   "display_name": "Python 3 (ipykernel)",
   "language": "python",
   "name": "python3"
  },
  "language_info": {
   "codemirror_mode": {
    "name": "ipython",
    "version": 3
   },
   "file_extension": ".py",
   "mimetype": "text/x-python",
   "name": "python",
   "nbconvert_exporter": "python",
   "pygments_lexer": "ipython3",
   "version": "3.9.7"
  }
 },
 "nbformat": 4,
 "nbformat_minor": 5
}
