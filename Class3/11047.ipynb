{
 "cells": [
  {
   "cell_type": "markdown",
   "id": "6f8c4f7c",
   "metadata": {},
   "source": [
    "문제\n",
    "준규가 가지고 있는 동전은 총 N종류이고, 각각의 동전을 매우 많이 가지고 있다.\n",
    "\n",
    "동전을 적절히 사용해서 그 가치의 합을 K로 만들려고 한다. 이때 필요한 동전 개수의 최솟값을 구하는 프로그램을 작성하시오.\n",
    "\n",
    "입력\n",
    "첫째 줄에 N과 K가 주어진다. (1 ≤ N ≤ 10, 1 ≤ K ≤ 100,000,000)\n",
    "\n",
    "둘째 줄부터 N개의 줄에 동전의 가치 Ai가 오름차순으로 주어진다. (1 ≤ Ai ≤ 1,000,000, A1 = 1, i ≥ 2인 경우에 Ai는 Ai-1의 배수)\n",
    "\n",
    "출력\n",
    "첫째 줄에 K원을 만드는데 필요한 동전 개수의 최솟값을 출력한다."
   ]
  },
  {
   "cell_type": "code",
   "execution_count": 7,
   "id": "f1227b8f",
   "metadata": {},
   "outputs": [
    {
     "name": "stdout",
     "output_type": "stream",
     "text": [
      "10 4200\n",
      "1\n",
      "5\n",
      "10\n",
      "50\n",
      "100\n",
      "500\n",
      "1000\n",
      "5000\n",
      "10000\n",
      "50000\n",
      "[1, 5, 10, 50, 100, 500, 1000, 5000, 10000, 50000]\n",
      "[50000, 10000, 5000, 1000, 500, 100, 50, 10, 5, 1]\n",
      "50000\n",
      "0\n",
      "10000\n",
      "0\n",
      "5000\n",
      "0\n",
      "1000\n",
      "4\n",
      "500\n",
      "0\n",
      "100\n",
      "2\n",
      "50\n",
      "0\n",
      "10\n",
      "0\n",
      "5\n",
      "0\n",
      "1\n",
      "0\n",
      "6\n"
     ]
    }
   ],
   "source": [
    "N, K = map(int, input().split())\n",
    "value = []\n",
    "count = 0\n",
    "for _ in range(N):\n",
    "    value.append(int(input()))\n",
    "value.sort(reverse=True)\n",
    "for i in value:\n",
    "    if K//i>0:\n",
    "        count += K//i\n",
    "        K = K%i\n",
    "print(count)"
   ]
  },
  {
   "cell_type": "code",
   "execution_count": null,
   "id": "bc8e8e13",
   "metadata": {},
   "outputs": [],
   "source": []
  }
 ],
 "metadata": {
  "kernelspec": {
   "display_name": "Python 3 (ipykernel)",
   "language": "python",
   "name": "python3"
  },
  "language_info": {
   "codemirror_mode": {
    "name": "ipython",
    "version": 3
   },
   "file_extension": ".py",
   "mimetype": "text/x-python",
   "name": "python",
   "nbconvert_exporter": "python",
   "pygments_lexer": "ipython3",
   "version": "3.9.7"
  }
 },
 "nbformat": 4,
 "nbformat_minor": 5
}
