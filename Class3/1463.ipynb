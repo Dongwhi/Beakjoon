{
 "cells": [
  {
   "cell_type": "markdown",
   "id": "5af35bd2",
   "metadata": {},
   "source": [
    "문제\n",
    "정수 X에 사용할 수 있는 연산은 다음과 같이 세 가지 이다.\n",
    "\n",
    "X가 3으로 나누어 떨어지면, 3으로 나눈다.\n",
    "X가 2로 나누어 떨어지면, 2로 나눈다.\n",
    "1을 뺀다.\n",
    "정수 N이 주어졌을 때, 위와 같은 연산 세 개를 적절히 사용해서 1을 만들려고 한다. 연산을 사용하는 횟수의 최솟값을 출력하시오.\n",
    "\n",
    "입력\n",
    "첫째 줄에 1보다 크거나 같고, 106보다 작거나 같은 정수 N이 주어진다.\n",
    "\n",
    "출력\n",
    "첫째 줄에 연산을 하는 횟수의 최솟값을 출력한다."
   ]
  },
  {
   "cell_type": "code",
   "execution_count": null,
   "id": "30a0a311",
   "metadata": {},
   "outputs": [],
   "source": [
    "N = int(input())\n",
    "count = 0\n",
    "if N%3==1:\n",
    "    count += 1\n",
    "    N -= 1\n",
    "    while N%3!=0:\n",
    "        N = N//3\n",
    "        count += 1\n",
    "elif N%3==2:\n",
    "    "
   ]
  }
 ],
 "metadata": {
  "kernelspec": {
   "display_name": "Python 3 (ipykernel)",
   "language": "python",
   "name": "python3"
  },
  "language_info": {
   "codemirror_mode": {
    "name": "ipython",
    "version": 3
   },
   "file_extension": ".py",
   "mimetype": "text/x-python",
   "name": "python",
   "nbconvert_exporter": "python",
   "pygments_lexer": "ipython3",
   "version": "3.9.7"
  }
 },
 "nbformat": 4,
 "nbformat_minor": 5
}
