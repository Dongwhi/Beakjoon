{
 "cells": [
  {
   "cell_type": "markdown",
   "id": "cd63d5c2",
   "metadata": {},
   "source": [
    "문제\n",
    "김진영이 듣도 못한 사람의 명단과, 보도 못한 사람의 명단이 주어질 때, 듣도 보도 못한 사람의 명단을 구하는 프로그램을 작성하시오.\n",
    "\n",
    "입력\n",
    "첫째 줄에 듣도 못한 사람의 수 N, 보도 못한 사람의 수 M이 주어진다. 이어서 둘째 줄부터 N개의 줄에 걸쳐 듣도 못한 사람의 이름과, N+2째 줄부터 보도 못한 사람의 이름이 순서대로 주어진다. 이름은 띄어쓰기 없이 알파벳 소문자로만 이루어지며, 그 길이는 20 이하이다. N, M은 500,000 이하의 자연수이다.\n",
    "\n",
    "듣도 못한 사람의 명단에는 중복되는 이름이 없으며, 보도 못한 사람의 명단도 마찬가지이다.\n",
    "\n",
    "출력\n",
    "듣보잡의 수와 그 명단을 사전순으로 출력한다."
   ]
  },
  {
   "cell_type": "code",
   "execution_count": 1,
   "id": "6f6af91f",
   "metadata": {},
   "outputs": [
    {
     "ename": "SyntaxError",
     "evalue": "cannot assign to function call (Temp/ipykernel_144112/3735205775.py, line 12)",
     "output_type": "error",
     "traceback": [
      "\u001b[1;36m  File \u001b[1;32m\"C:\\Users\\82102\\AppData\\Local\\Temp/ipykernel_144112/3735205775.py\"\u001b[1;36m, line \u001b[1;32m12\u001b[0m\n\u001b[1;33m    print(len(deudbo)), *deudbo, sep='\\n'\u001b[0m\n\u001b[1;37m    ^\u001b[0m\n\u001b[1;31mSyntaxError\u001b[0m\u001b[1;31m:\u001b[0m cannot assign to function call\n"
     ]
    }
   ],
   "source": [
    "#도대체 도대체가 뭐가 잘못된거임?\n",
    "#듣, 보 둘 다 set로 받아서 교집합 구해보겠음\n",
    "import sys\n",
    "N, M = map(int, sys.stdin.readline().split())\n",
    "deud = set()\n",
    "deudbo = []\n",
    "for _ in range(N):\n",
    "    deud.add(sys.stdin.readline())\n",
    "for _ in range(M):\n",
    "    bo_name = sys.stdin.readline()\n",
    "    if bo_name in deud:\n",
    "        deudbo.append(bo_name)\n",
    "deudbo.sort()\n",
    "print(len(deudbo))\n",
    "print(*deudbo, sep='\\n')"
   ]
  },
  {
   "cell_type": "code",
   "execution_count": 2,
   "id": "0705e74c",
   "metadata": {},
   "outputs": [
    {
     "name": "stdout",
     "output_type": "stream",
     "text": [
      "3 4\n",
      "ohhenrie\n",
      "charlie\n",
      "baesangwook\n",
      "obama\n",
      "baesangwook\n",
      "ohhenrie\n",
      "clinton\n",
      "2\n",
      "baesangwook\n",
      "ohhenrie\n"
     ]
    }
   ],
   "source": [
    "N, M = map(int, input().split())\n",
    "deud = set()\n",
    "deudbo = []\n",
    "for _ in range(N):\n",
    "    deud.add(input())\n",
    "for _ in range(M):\n",
    "    bo_name = input()\n",
    "    if bo_name in deud:\n",
    "        deudbo.append(bo_name)\n",
    "deudbo.sort()\n",
    "print(len(deudbo))\n",
    "print(*deudbo, sep='\\n')"
   ]
  },
  {
   "cell_type": "code",
   "execution_count": null,
   "id": "3edbb0d8",
   "metadata": {},
   "outputs": [],
   "source": [
    "#ㅅㅂ 도대체 어디서 출력형식이 잘못된거지????????????????\n",
    "import sys\n",
    "N, M = map(int, sys.stdin.readline().split())\n",
    "deud = set()\n",
    "bo = set()\n",
    "for _ in range(N):\n",
    "    deud.add(sys.stdin.readline())\n",
    "for _ in range(M):\n",
    "    bo.add(sys.stdin.readline())\n",
    "deudbo = sorted(list(deud & bo))\n",
    "print(len(deudbo))\n",
    "print(*deudbo, sep='\\n')"
   ]
  },
  {
   "cell_type": "code",
   "execution_count": null,
   "id": "50cb7924",
   "metadata": {},
   "outputs": [],
   "source": [
    "#위에꺼 input버전\n",
    "#ㅅㅂ ㅋㅋ 이건왜 ㅅㅂ 출력형식 올바름? 왜?\n",
    "N, M = map(int, input().split())\n",
    "deud = set()\n",
    "bo = set()\n",
    "for _ in range(N):\n",
    "    deud.add(input())\n",
    "for _ in range(M):\n",
    "    bo.add(input())\n",
    "deudbo = sorted(list(deud & bo))\n",
    "print(len(deudbo))\n",
    "print(*deudbo, sep='\\n')"
   ]
  },
  {
   "cell_type": "code",
   "execution_count": null,
   "id": "8dc33448",
   "metadata": {},
   "outputs": [],
   "source": [
    "#인터넷 답안\n",
    "N , M = map(int,input().split())\n",
    "arr_1 = set()\n",
    "arr_2 = set()\n",
    "\n",
    "for _ in range(N):\n",
    "    arr_1.add(input())\n",
    "for _ in range(M):\n",
    "    arr_2.add(input())\n",
    "\n",
    "arr = sorted(list(arr_1 & arr_2))\n",
    "print(len(arr))\n",
    "\n",
    "for i in arr:\n",
    "    print(i)"
   ]
  },
  {
   "cell_type": "code",
   "execution_count": 1,
   "id": "54f12e63",
   "metadata": {},
   "outputs": [
    {
     "name": "stdout",
     "output_type": "stream",
     "text": [
      "an\n",
      "ans\n",
      "awbudkbhas\n",
      "awlksihak\n",
      "bn\n",
      "cns\n",
      "ilwhaldsn\n",
      "ioasdnlk\n",
      "lihawldbasjk\n",
      "lihdwalidn\n"
     ]
    }
   ],
   "source": [
    "lis = ['awbudkbhas', 'lihdwalidn', 'ioasdnlk', 'an', 'ans', 'bn', 'cns', 'lihawldbasjk', 'awlksihak', 'ilwhaldsn']\n",
    "lis.sort()\n",
    "print(*lis, sep='\\n')"
   ]
  },
  {
   "cell_type": "code",
   "execution_count": 3,
   "id": "87ee48e6",
   "metadata": {},
   "outputs": [
    {
     "name": "stdout",
     "output_type": "stream",
     "text": [
      "11\n"
     ]
    }
   ],
   "source": [
    "sss = set([12, 2135, 5465, 684651, 5465, 313, 35465, 35465, 35135, 5468, 9874651, 6846, 64])\n",
    "print(len(sss))"
   ]
  },
  {
   "cell_type": "code",
   "execution_count": 6,
   "id": "a38c8297",
   "metadata": {
    "scrolled": true
   },
   "outputs": [
    {
     "name": "stdout",
     "output_type": "stream",
     "text": [
      "64\n",
      "313\n",
      "35465\n",
      "684651\n",
      "12\n",
      "2135\n",
      "5465\n",
      "9874651\n",
      "5468\n",
      "6846\n",
      "35135\n"
     ]
    }
   ],
   "source": [
    "sss = set([12, 2135, 5465, 684651, 5465, 313, 35465, 35465, 35135, 5468, 9874651, 6846, 64])\n",
    "print(*sss, sep='\\n')"
   ]
  },
  {
   "cell_type": "code",
   "execution_count": 7,
   "id": "6b75bd86",
   "metadata": {},
   "outputs": [
    {
     "name": "stdout",
     "output_type": "stream",
     "text": [
      "[12, 64, 313, 2135, 5465, 5468, 6846, 35135, 35465, 684651, 9874651]\n"
     ]
    }
   ],
   "source": [
    "sss = set([12, 2135, 5465, 684651, 5465, 313, 35465, 35465, 35135, 5468, 9874651, 6846, 64])\n",
    "print(sorted(sss))"
   ]
  }
 ],
 "metadata": {
  "kernelspec": {
   "display_name": "Python 3 (ipykernel)",
   "language": "python",
   "name": "python3"
  },
  "language_info": {
   "codemirror_mode": {
    "name": "ipython",
    "version": 3
   },
   "file_extension": ".py",
   "mimetype": "text/x-python",
   "name": "python",
   "nbconvert_exporter": "python",
   "pygments_lexer": "ipython3",
   "version": "3.9.7"
  }
 },
 "nbformat": 4,
 "nbformat_minor": 5
}
